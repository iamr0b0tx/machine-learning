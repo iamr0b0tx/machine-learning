{
 "cells": [
  {
   "cell_type": "markdown",
   "metadata": {},
   "source": [
    "# Classifying Urban sounds using Deep Learning\n",
    "\n",
    "## 3 Model Training and Evaluation "
   ]
  },
  {
   "cell_type": "markdown",
   "metadata": {},
   "source": [
    "### Load Preprocessed data "
   ]
  },
  {
   "cell_type": "code",
   "execution_count": 1,
   "metadata": {},
   "outputs": [],
   "source": [
    "# retrieve the preprocessed data from previous notebook\n",
    "\n",
    "%store -r x_train \n",
    "%store -r x_test \n",
    "%store -r y_train \n",
    "%store -r y_test \n",
    "%store -r yy \n",
    "%store -r le"
   ]
  },
  {
   "cell_type": "markdown",
   "metadata": {},
   "source": [
    "### Initial model architecture - MLP\n",
    "\n",
    "We will start with constructing a Multilayer Perceptron (MLP) Neural Network using Keras and a Tensorflow backend. \n",
    "\n",
    "Starting with a `sequential` model so we can build the model layer by layer. \n",
    "\n",
    "We will begin with a simple model architecture, consisting of three layers, an input layer, a hidden layer and an output layer. All three layers will be of the `dense` layer type which is a standard layer type that is used in many cases for neural networks. \n",
    "\n",
    "The first layer will receive the input shape. As each sample contains 40 MFCCs (or columns) we have a shape of (1x40) this means we will start with an input shape of 40. \n",
    "\n",
    "The first two layers will have 256 nodes. The activation function we will be using for our first 2 layers is the `ReLU`, or `Rectified Linear Activation`. This activation function has been proven to work well in neural networks.\n",
    "\n",
    "We will also apply a `Dropout` value of 50% on our first two layers. This will randomly exclude nodes from each update cycle which in turn results in a network that is capable of better generalisation and is less likely to overfit the training data.\n",
    "\n",
    "Our output layer will have 10 nodes (num_labels) which matches the number of possible classifications. The activation is for our output layer is `softmax`. Softmax makes the output sum up to 1 so the output can be interpreted as probabilities. The model will then make its prediction based on which option has the highest probability."
   ]
  },
  {
   "cell_type": "code",
   "execution_count": 2,
   "metadata": {},
   "outputs": [
    {
     "name": "stderr",
     "output_type": "stream",
     "text": [
      "Using TensorFlow backend.\n"
     ]
    }
   ],
   "source": [
    "import numpy as np\n",
    "from keras.models import Sequential\n",
    "from keras.layers import Dense, Dropout, Activation, Flatten\n",
    "from keras.layers import Convolution2D, MaxPooling2D\n",
    "from keras.optimizers import Adam\n",
    "from keras.utils import np_utils\n",
    "from sklearn import metrics \n",
    "\n",
    "num_labels = yy.shape[1]\n",
    "filter_size = 2\n",
    "\n",
    "# Construct model \n",
    "model = Sequential()\n",
    "\n",
    "model.add(Dense(256, input_shape=(40,)))\n",
    "model.add(Activation('relu'))\n",
    "model.add(Dropout(0.5))\n",
    "\n",
    "model.add(Dense(256))\n",
    "model.add(Activation('relu'))\n",
    "model.add(Dropout(0.5))\n",
    "\n",
    "model.add(Dense(num_labels))\n",
    "model.add(Activation('softmax'))"
   ]
  },
  {
   "cell_type": "markdown",
   "metadata": {},
   "source": [
    "### Compiling the model \n",
    "\n",
    "For compiling our model, we will use the following three parameters: \n",
    "\n",
    "* Loss function - we will use `categorical_crossentropy`. This is the most common choice for classification. A lower score indicates that the model is performing better.\n",
    "\n",
    "* Metrics - we will use the `accuracy` metric which will allow us to view the accuracy score on the validation data when we train the model. \n",
    "\n",
    "* Optimizer - here we will use `adam` which is a generally good optimizer for many use cases.\n"
   ]
  },
  {
   "cell_type": "code",
   "execution_count": 3,
   "metadata": {},
   "outputs": [],
   "source": [
    "# Compile the model\n",
    "model.compile(loss='categorical_crossentropy', metrics=['accuracy'], optimizer='adam') "
   ]
  },
  {
   "cell_type": "code",
   "execution_count": 4,
   "metadata": {},
   "outputs": [
    {
     "name": "stdout",
     "output_type": "stream",
     "text": [
      "_________________________________________________________________\n",
      "Layer (type)                 Output Shape              Param #   \n",
      "=================================================================\n",
      "dense_1 (Dense)              (None, 256)               10496     \n",
      "_________________________________________________________________\n",
      "activation_1 (Activation)    (None, 256)               0         \n",
      "_________________________________________________________________\n",
      "dropout_1 (Dropout)          (None, 256)               0         \n",
      "_________________________________________________________________\n",
      "dense_2 (Dense)              (None, 256)               65792     \n",
      "_________________________________________________________________\n",
      "activation_2 (Activation)    (None, 256)               0         \n",
      "_________________________________________________________________\n",
      "dropout_2 (Dropout)          (None, 256)               0         \n",
      "_________________________________________________________________\n",
      "dense_3 (Dense)              (None, 10)                2570      \n",
      "_________________________________________________________________\n",
      "activation_3 (Activation)    (None, 10)                0         \n",
      "=================================================================\n",
      "Total params: 78,858\n",
      "Trainable params: 78,858\n",
      "Non-trainable params: 0\n",
      "_________________________________________________________________\n",
      "Pre-training accuracy: 11.5627%\n"
     ]
    }
   ],
   "source": [
    "# Display model architecture summary \n",
    "model.summary()\n",
    "\n",
    "# Calculate pre-training accuracy \n",
    "score = model.evaluate(x_test, y_test, verbose=0)\n",
    "accuracy = 100*score[1]\n",
    "\n",
    "print(\"Pre-training accuracy: %.4f%%\" % accuracy)"
   ]
  },
  {
   "cell_type": "markdown",
   "metadata": {},
   "source": [
    "### Training \n",
    "\n",
    "Here we will train the model. \n",
    "\n",
    "We will start with 100 epochs which is the number of times the model will cycle through the data. The model will improve on each cycle until it reaches a certain point. \n",
    "\n",
    "We will also start with a low batch size, as having a large batch size can reduce the generalisation ability of the model. "
   ]
  },
  {
   "cell_type": "code",
   "execution_count": 5,
   "metadata": {},
   "outputs": [
    {
     "name": "stdout",
     "output_type": "stream",
     "text": [
      "Train on 6985 samples, validate on 1747 samples\n",
      "Epoch 1/100\n",
      "6985/6985 [==============================] - 4s 583us/step - loss: 11.1227 - acc: 0.2165 - val_loss: 6.8835 - val_acc: 0.3526\n",
      "\n",
      "Epoch 00001: val_loss improved from inf to 6.88353, saving model to saved_models/weights.best.basic_mlp.hdf5\n",
      "Epoch 2/100\n",
      "6985/6985 [==============================] - 2s 352us/step - loss: 4.8051 - acc: 0.3087 - val_loss: 1.8028 - val_acc: 0.4139\n",
      "\n",
      "Epoch 00002: val_loss improved from 6.88353 to 1.80277, saving model to saved_models/weights.best.basic_mlp.hdf5\n",
      "Epoch 3/100\n",
      "6985/6985 [==============================] - 2s 336us/step - loss: 1.9797 - acc: 0.3576 - val_loss: 1.6131 - val_acc: 0.5243\n",
      "\n",
      "Epoch 00003: val_loss improved from 1.80277 to 1.61305, saving model to saved_models/weights.best.basic_mlp.hdf5\n",
      "Epoch 4/100\n",
      "6985/6985 [==============================] - 2s 335us/step - loss: 1.6974 - acc: 0.4283 - val_loss: 1.3788 - val_acc: 0.5736\n",
      "\n",
      "Epoch 00004: val_loss improved from 1.61305 to 1.37876, saving model to saved_models/weights.best.basic_mlp.hdf5\n",
      "Epoch 5/100\n",
      "6985/6985 [==============================] - 2s 339us/step - loss: 1.5283 - acc: 0.4769 - val_loss: 1.2597 - val_acc: 0.6033\n",
      "\n",
      "Epoch 00005: val_loss improved from 1.37876 to 1.25972, saving model to saved_models/weights.best.basic_mlp.hdf5\n",
      "Epoch 6/100\n",
      "6985/6985 [==============================] - 2s 340us/step - loss: 1.4293 - acc: 0.5215 - val_loss: 1.1548 - val_acc: 0.6485\n",
      "\n",
      "Epoch 00006: val_loss improved from 1.25972 to 1.15475, saving model to saved_models/weights.best.basic_mlp.hdf5\n",
      "Epoch 7/100\n",
      "6985/6985 [==============================] - 2s 350us/step - loss: 1.3435 - acc: 0.5509 - val_loss: 1.1064 - val_acc: 0.6611\n",
      "\n",
      "Epoch 00007: val_loss improved from 1.15475 to 1.10643, saving model to saved_models/weights.best.basic_mlp.hdf5\n",
      "Epoch 8/100\n",
      "6985/6985 [==============================] - 3s 362us/step - loss: 1.2510 - acc: 0.5781 - val_loss: 1.0391 - val_acc: 0.6823\n",
      "\n",
      "Epoch 00008: val_loss improved from 1.10643 to 1.03908, saving model to saved_models/weights.best.basic_mlp.hdf5\n",
      "Epoch 9/100\n",
      "6985/6985 [==============================] - 3s 374us/step - loss: 1.2365 - acc: 0.5778 - val_loss: 1.0108 - val_acc: 0.6754\n",
      "\n",
      "Epoch 00009: val_loss improved from 1.03908 to 1.01082, saving model to saved_models/weights.best.basic_mlp.hdf5\n",
      "Epoch 10/100\n",
      "6985/6985 [==============================] - 3s 361us/step - loss: 1.1524 - acc: 0.6030 - val_loss: 0.9651 - val_acc: 0.6886\n",
      "\n",
      "Epoch 00010: val_loss improved from 1.01082 to 0.96510, saving model to saved_models/weights.best.basic_mlp.hdf5\n",
      "Epoch 11/100\n",
      "6985/6985 [==============================] - 2s 354us/step - loss: 1.1274 - acc: 0.6156 - val_loss: 0.9360 - val_acc: 0.6903\n",
      "\n",
      "Epoch 00011: val_loss improved from 0.96510 to 0.93600, saving model to saved_models/weights.best.basic_mlp.hdf5\n",
      "Epoch 12/100\n",
      "6985/6985 [==============================] - 2s 344us/step - loss: 1.0735 - acc: 0.6265 - val_loss: 0.8927 - val_acc: 0.7281\n",
      "\n",
      "Epoch 00012: val_loss improved from 0.93600 to 0.89269, saving model to saved_models/weights.best.basic_mlp.hdf5\n",
      "Epoch 13/100\n",
      "6985/6985 [==============================] - 2s 350us/step - loss: 1.0516 - acc: 0.6389 - val_loss: 0.8353 - val_acc: 0.7230\n",
      "\n",
      "Epoch 00013: val_loss improved from 0.89269 to 0.83531, saving model to saved_models/weights.best.basic_mlp.hdf5\n",
      "Epoch 14/100\n",
      "6985/6985 [==============================] - 2s 353us/step - loss: 1.0339 - acc: 0.6465 - val_loss: 0.8109 - val_acc: 0.7321\n",
      "\n",
      "Epoch 00014: val_loss improved from 0.83531 to 0.81090, saving model to saved_models/weights.best.basic_mlp.hdf5\n",
      "Epoch 15/100\n",
      "6985/6985 [==============================] - 2s 355us/step - loss: 0.9959 - acc: 0.6547 - val_loss: 0.8110 - val_acc: 0.7476\n",
      "\n",
      "Epoch 00015: val_loss did not improve from 0.81090\n",
      "Epoch 16/100\n",
      "6985/6985 [==============================] - 2s 345us/step - loss: 0.9613 - acc: 0.6687 - val_loss: 0.7552 - val_acc: 0.7590\n",
      "\n",
      "Epoch 00016: val_loss improved from 0.81090 to 0.75516, saving model to saved_models/weights.best.basic_mlp.hdf5\n",
      "Epoch 17/100\n",
      "6985/6985 [==============================] - 2s 349us/step - loss: 0.9541 - acc: 0.6797 - val_loss: 0.7335 - val_acc: 0.7676\n",
      "\n",
      "Epoch 00017: val_loss improved from 0.75516 to 0.73350, saving model to saved_models/weights.best.basic_mlp.hdf5\n",
      "Epoch 18/100\n",
      "6985/6985 [==============================] - 2s 354us/step - loss: 0.9186 - acc: 0.6902 - val_loss: 0.7308 - val_acc: 0.7607\n",
      "\n",
      "Epoch 00018: val_loss improved from 0.73350 to 0.73077, saving model to saved_models/weights.best.basic_mlp.hdf5\n",
      "Epoch 19/100\n",
      "6985/6985 [==============================] - 2s 353us/step - loss: 0.8931 - acc: 0.6959 - val_loss: 0.7040 - val_acc: 0.7813\n",
      "\n",
      "Epoch 00019: val_loss improved from 0.73077 to 0.70403, saving model to saved_models/weights.best.basic_mlp.hdf5\n",
      "Epoch 20/100\n",
      "6985/6985 [==============================] - 3s 361us/step - loss: 0.8665 - acc: 0.7078 - val_loss: 0.6615 - val_acc: 0.8002\n",
      "\n",
      "Epoch 00020: val_loss improved from 0.70403 to 0.66146, saving model to saved_models/weights.best.basic_mlp.hdf5\n",
      "Epoch 21/100\n",
      "6985/6985 [==============================] - 3s 358us/step - loss: 0.8527 - acc: 0.7114 - val_loss: 0.6488 - val_acc: 0.8048\n",
      "\n",
      "Epoch 00021: val_loss improved from 0.66146 to 0.64877, saving model to saved_models/weights.best.basic_mlp.hdf5\n",
      "Epoch 22/100\n",
      "6985/6985 [==============================] - 2s 348us/step - loss: 0.8578 - acc: 0.7148 - val_loss: 0.6610 - val_acc: 0.7956\n",
      "\n",
      "Epoch 00022: val_loss did not improve from 0.64877\n",
      "Epoch 23/100\n",
      "6985/6985 [==============================] - 2s 350us/step - loss: 0.8290 - acc: 0.7137 - val_loss: 0.6494 - val_acc: 0.8077\n",
      "\n",
      "Epoch 00023: val_loss did not improve from 0.64877\n",
      "Epoch 24/100\n",
      "6985/6985 [==============================] - 3s 369us/step - loss: 0.8144 - acc: 0.7236 - val_loss: 0.6361 - val_acc: 0.8031\n",
      "\n",
      "Epoch 00024: val_loss improved from 0.64877 to 0.63609, saving model to saved_models/weights.best.basic_mlp.hdf5\n",
      "Epoch 25/100\n",
      "6985/6985 [==============================] - 3s 364us/step - loss: 0.8250 - acc: 0.7168 - val_loss: 0.6198 - val_acc: 0.8122\n",
      "\n",
      "Epoch 00025: val_loss improved from 0.63609 to 0.61980, saving model to saved_models/weights.best.basic_mlp.hdf5\n",
      "Epoch 26/100\n",
      "6985/6985 [==============================] - 3s 372us/step - loss: 0.8066 - acc: 0.7251 - val_loss: 0.6066 - val_acc: 0.8191\n",
      "\n",
      "Epoch 00026: val_loss improved from 0.61980 to 0.60664, saving model to saved_models/weights.best.basic_mlp.hdf5\n",
      "Epoch 27/100\n",
      "6985/6985 [==============================] - 2s 356us/step - loss: 0.7804 - acc: 0.7403 - val_loss: 0.5878 - val_acc: 0.8128\n",
      "\n",
      "Epoch 00027: val_loss improved from 0.60664 to 0.58775, saving model to saved_models/weights.best.basic_mlp.hdf5\n",
      "Epoch 28/100\n",
      "6985/6985 [==============================] - 3s 367us/step - loss: 0.7838 - acc: 0.7307 - val_loss: 0.5887 - val_acc: 0.8197\n",
      "\n",
      "Epoch 00028: val_loss did not improve from 0.58775\n",
      "Epoch 29/100\n",
      "6985/6985 [==============================] - 3s 371us/step - loss: 0.7706 - acc: 0.7373 - val_loss: 0.5608 - val_acc: 0.8237\n",
      "\n",
      "Epoch 00029: val_loss improved from 0.58775 to 0.56081, saving model to saved_models/weights.best.basic_mlp.hdf5\n",
      "Epoch 30/100\n",
      "6985/6985 [==============================] - 2s 342us/step - loss: 0.7481 - acc: 0.7396 - val_loss: 0.5763 - val_acc: 0.8220\n",
      "\n",
      "Epoch 00030: val_loss did not improve from 0.56081\n",
      "Epoch 31/100\n",
      "6985/6985 [==============================] - 2s 358us/step - loss: 0.7472 - acc: 0.7459 - val_loss: 0.5722 - val_acc: 0.8197\n",
      "\n",
      "Epoch 00031: val_loss did not improve from 0.56081\n",
      "Epoch 32/100\n",
      "6985/6985 [==============================] - 3s 367us/step - loss: 0.7365 - acc: 0.7476 - val_loss: 0.5668 - val_acc: 0.8180\n",
      "\n",
      "Epoch 00032: val_loss did not improve from 0.56081\n",
      "Epoch 33/100\n",
      "6985/6985 [==============================] - 3s 361us/step - loss: 0.7410 - acc: 0.7492 - val_loss: 0.5643 - val_acc: 0.8191\n",
      "\n",
      "Epoch 00033: val_loss did not improve from 0.56081\n",
      "Epoch 34/100\n",
      "6985/6985 [==============================] - 2s 349us/step - loss: 0.7344 - acc: 0.7472 - val_loss: 0.5609 - val_acc: 0.8288\n",
      "\n",
      "Epoch 00034: val_loss did not improve from 0.56081\n",
      "Epoch 35/100\n",
      "6985/6985 [==============================] - 3s 368us/step - loss: 0.7187 - acc: 0.7563 - val_loss: 0.5607 - val_acc: 0.8208\n",
      "\n",
      "Epoch 00035: val_loss improved from 0.56081 to 0.56067, saving model to saved_models/weights.best.basic_mlp.hdf5\n"
     ]
    },
    {
     "name": "stdout",
     "output_type": "stream",
     "text": [
      "Epoch 36/100\n",
      "6985/6985 [==============================] - 2s 343us/step - loss: 0.7177 - acc: 0.7556 - val_loss: 0.5344 - val_acc: 0.8414\n",
      "\n",
      "Epoch 00036: val_loss improved from 0.56067 to 0.53436, saving model to saved_models/weights.best.basic_mlp.hdf5\n",
      "Epoch 37/100\n",
      "6985/6985 [==============================] - 2s 329us/step - loss: 0.6918 - acc: 0.7609 - val_loss: 0.5245 - val_acc: 0.8380\n",
      "\n",
      "Epoch 00037: val_loss improved from 0.53436 to 0.52452, saving model to saved_models/weights.best.basic_mlp.hdf5\n",
      "Epoch 38/100\n",
      "6985/6985 [==============================] - 2s 330us/step - loss: 0.7010 - acc: 0.7543 - val_loss: 0.5409 - val_acc: 0.8323\n",
      "\n",
      "Epoch 00038: val_loss did not improve from 0.52452\n",
      "Epoch 39/100\n",
      "6985/6985 [==============================] - 2s 349us/step - loss: 0.6888 - acc: 0.7611 - val_loss: 0.5411 - val_acc: 0.8271\n",
      "\n",
      "Epoch 00039: val_loss did not improve from 0.52452\n",
      "Epoch 40/100\n",
      "6985/6985 [==============================] - 2s 352us/step - loss: 0.6761 - acc: 0.7678 - val_loss: 0.5462 - val_acc: 0.8220\n",
      "\n",
      "Epoch 00040: val_loss did not improve from 0.52452\n",
      "Epoch 41/100\n",
      "6985/6985 [==============================] - 2s 344us/step - loss: 0.6940 - acc: 0.7641 - val_loss: 0.5248 - val_acc: 0.8260\n",
      "\n",
      "Epoch 00041: val_loss did not improve from 0.52452\n",
      "Epoch 42/100\n",
      "6985/6985 [==============================] - 2s 344us/step - loss: 0.7008 - acc: 0.7644 - val_loss: 0.5202 - val_acc: 0.8397\n",
      "\n",
      "Epoch 00042: val_loss improved from 0.52452 to 0.52018, saving model to saved_models/weights.best.basic_mlp.hdf5\n",
      "Epoch 43/100\n",
      "6985/6985 [==============================] - 2s 340us/step - loss: 0.6817 - acc: 0.7655 - val_loss: 0.5340 - val_acc: 0.8357\n",
      "\n",
      "Epoch 00043: val_loss did not improve from 0.52018\n",
      "Epoch 44/100\n",
      "6985/6985 [==============================] - 2s 350us/step - loss: 0.6772 - acc: 0.7694 - val_loss: 0.5314 - val_acc: 0.8397\n",
      "\n",
      "Epoch 00044: val_loss did not improve from 0.52018\n",
      "Epoch 45/100\n",
      "6985/6985 [==============================] - 2s 339us/step - loss: 0.6768 - acc: 0.7712 - val_loss: 0.5035 - val_acc: 0.8523\n",
      "\n",
      "Epoch 00045: val_loss improved from 0.52018 to 0.50350, saving model to saved_models/weights.best.basic_mlp.hdf5\n",
      "Epoch 46/100\n",
      "6985/6985 [==============================] - 2s 336us/step - loss: 0.6785 - acc: 0.7682 - val_loss: 0.5208 - val_acc: 0.8340\n",
      "\n",
      "Epoch 00046: val_loss did not improve from 0.50350\n",
      "Epoch 47/100\n",
      "6985/6985 [==============================] - 2s 330us/step - loss: 0.6712 - acc: 0.7754 - val_loss: 0.4978 - val_acc: 0.8477\n",
      "\n",
      "Epoch 00047: val_loss improved from 0.50350 to 0.49784, saving model to saved_models/weights.best.basic_mlp.hdf5\n",
      "Epoch 48/100\n",
      "6985/6985 [==============================] - 2s 332us/step - loss: 0.6736 - acc: 0.7701 - val_loss: 0.4905 - val_acc: 0.8426\n",
      "\n",
      "Epoch 00048: val_loss improved from 0.49784 to 0.49050, saving model to saved_models/weights.best.basic_mlp.hdf5\n",
      "Epoch 49/100\n",
      "6985/6985 [==============================] - 2s 335us/step - loss: 0.6382 - acc: 0.7787 - val_loss: 0.4851 - val_acc: 0.8477\n",
      "\n",
      "Epoch 00049: val_loss improved from 0.49050 to 0.48515, saving model to saved_models/weights.best.basic_mlp.hdf5\n",
      "Epoch 50/100\n",
      "6985/6985 [==============================] - 2s 331us/step - loss: 0.6423 - acc: 0.7853 - val_loss: 0.5047 - val_acc: 0.8294\n",
      "\n",
      "Epoch 00050: val_loss did not improve from 0.48515\n",
      "Epoch 51/100\n",
      "6985/6985 [==============================] - 2s 339us/step - loss: 0.6426 - acc: 0.7847 - val_loss: 0.4914 - val_acc: 0.8454\n",
      "\n",
      "Epoch 00051: val_loss did not improve from 0.48515\n",
      "Epoch 52/100\n",
      "6985/6985 [==============================] - 2s 338us/step - loss: 0.6233 - acc: 0.7847 - val_loss: 0.4822 - val_acc: 0.8546\n",
      "\n",
      "Epoch 00052: val_loss improved from 0.48515 to 0.48218, saving model to saved_models/weights.best.basic_mlp.hdf5\n",
      "Epoch 53/100\n",
      "6985/6985 [==============================] - 2s 345us/step - loss: 0.6257 - acc: 0.7851 - val_loss: 0.4939 - val_acc: 0.8443\n",
      "\n",
      "Epoch 00053: val_loss did not improve from 0.48218\n",
      "Epoch 54/100\n",
      "6985/6985 [==============================] - 2s 346us/step - loss: 0.6243 - acc: 0.7884 - val_loss: 0.4835 - val_acc: 0.8506\n",
      "\n",
      "Epoch 00054: val_loss did not improve from 0.48218\n",
      "Epoch 55/100\n",
      "6985/6985 [==============================] - 2s 351us/step - loss: 0.6167 - acc: 0.7871 - val_loss: 0.4682 - val_acc: 0.8552\n",
      "\n",
      "Epoch 00055: val_loss improved from 0.48218 to 0.46823, saving model to saved_models/weights.best.basic_mlp.hdf5\n",
      "Epoch 56/100\n",
      "6985/6985 [==============================] - 2s 350us/step - loss: 0.6204 - acc: 0.7875 - val_loss: 0.4837 - val_acc: 0.8558\n",
      "\n",
      "Epoch 00056: val_loss did not improve from 0.46823\n",
      "Epoch 57/100\n",
      "6985/6985 [==============================] - 2s 353us/step - loss: 0.6257 - acc: 0.7790 - val_loss: 0.4628 - val_acc: 0.8592\n",
      "\n",
      "Epoch 00057: val_loss improved from 0.46823 to 0.46283, saving model to saved_models/weights.best.basic_mlp.hdf5\n",
      "Epoch 58/100\n",
      "6985/6985 [==============================] - 2s 351us/step - loss: 0.6344 - acc: 0.7797 - val_loss: 0.4570 - val_acc: 0.8626\n",
      "\n",
      "Epoch 00058: val_loss improved from 0.46283 to 0.45701, saving model to saved_models/weights.best.basic_mlp.hdf5\n",
      "Epoch 59/100\n",
      "6985/6985 [==============================] - 2s 351us/step - loss: 0.6024 - acc: 0.7931 - val_loss: 0.4806 - val_acc: 0.8489\n",
      "\n",
      "Epoch 00059: val_loss did not improve from 0.45701\n",
      "Epoch 60/100\n",
      "6985/6985 [==============================] - 2s 352us/step - loss: 0.6021 - acc: 0.7970 - val_loss: 0.4691 - val_acc: 0.8701\n",
      "\n",
      "Epoch 00060: val_loss did not improve from 0.45701\n",
      "Epoch 61/100\n",
      "6985/6985 [==============================] - 2s 350us/step - loss: 0.5985 - acc: 0.7936 - val_loss: 0.4859 - val_acc: 0.8506\n",
      "\n",
      "Epoch 00061: val_loss did not improve from 0.45701\n",
      "Epoch 62/100\n",
      "6985/6985 [==============================] - 2s 347us/step - loss: 0.5855 - acc: 0.7974 - val_loss: 0.4725 - val_acc: 0.8580\n",
      "\n",
      "Epoch 00062: val_loss did not improve from 0.45701\n",
      "Epoch 63/100\n",
      "6985/6985 [==============================] - 3s 365us/step - loss: 0.6021 - acc: 0.7885 - val_loss: 0.4705 - val_acc: 0.8512\n",
      "\n",
      "Epoch 00063: val_loss did not improve from 0.45701\n",
      "Epoch 64/100\n",
      "6985/6985 [==============================] - 2s 352us/step - loss: 0.5974 - acc: 0.7960 - val_loss: 0.4710 - val_acc: 0.8535\n",
      "\n",
      "Epoch 00064: val_loss did not improve from 0.45701\n",
      "Epoch 65/100\n",
      "6985/6985 [==============================] - 2s 350us/step - loss: 0.6117 - acc: 0.7914 - val_loss: 0.4814 - val_acc: 0.8558\n",
      "\n",
      "Epoch 00065: val_loss did not improve from 0.45701\n",
      "Epoch 66/100\n",
      "6985/6985 [==============================] - 2s 351us/step - loss: 0.5910 - acc: 0.8013 - val_loss: 0.4649 - val_acc: 0.8592\n",
      "\n",
      "Epoch 00066: val_loss did not improve from 0.45701\n",
      "Epoch 67/100\n",
      "6985/6985 [==============================] - 3s 367us/step - loss: 0.6112 - acc: 0.7976 - val_loss: 0.4594 - val_acc: 0.8598\n",
      "\n",
      "Epoch 00067: val_loss did not improve from 0.45701\n",
      "Epoch 68/100\n",
      "6985/6985 [==============================] - 3s 371us/step - loss: 0.5852 - acc: 0.8016 - val_loss: 0.4869 - val_acc: 0.8443\n",
      "\n",
      "Epoch 00068: val_loss did not improve from 0.45701\n",
      "Epoch 69/100\n",
      "6985/6985 [==============================] - 3s 370us/step - loss: 0.5918 - acc: 0.7999 - val_loss: 0.4709 - val_acc: 0.8529\n",
      "\n",
      "Epoch 00069: val_loss did not improve from 0.45701\n",
      "Epoch 70/100\n",
      "6985/6985 [==============================] - 2s 354us/step - loss: 0.5636 - acc: 0.8133 - val_loss: 0.4491 - val_acc: 0.8649\n",
      "\n",
      "Epoch 00070: val_loss improved from 0.45701 to 0.44906, saving model to saved_models/weights.best.basic_mlp.hdf5\n",
      "Epoch 71/100\n",
      "6985/6985 [==============================] - 2s 348us/step - loss: 0.6037 - acc: 0.8010 - val_loss: 0.4600 - val_acc: 0.8638\n",
      "\n",
      "Epoch 00071: val_loss did not improve from 0.44906\n",
      "Epoch 72/100\n",
      "6985/6985 [==============================] - 3s 367us/step - loss: 0.5755 - acc: 0.8040 - val_loss: 0.4379 - val_acc: 0.8695\n",
      "\n",
      "Epoch 00072: val_loss improved from 0.44906 to 0.43790, saving model to saved_models/weights.best.basic_mlp.hdf5\n",
      "Epoch 73/100\n",
      "6985/6985 [==============================] - 3s 364us/step - loss: 0.5781 - acc: 0.8020 - val_loss: 0.4415 - val_acc: 0.8575\n",
      "\n",
      "Epoch 00073: val_loss did not improve from 0.43790\n",
      "Epoch 74/100\n",
      "6985/6985 [==============================] - 3s 364us/step - loss: 0.5757 - acc: 0.8064 - val_loss: 0.4409 - val_acc: 0.8649\n",
      "\n",
      "Epoch 00074: val_loss did not improve from 0.43790\n",
      "Epoch 75/100\n"
     ]
    },
    {
     "name": "stdout",
     "output_type": "stream",
     "text": [
      "6985/6985 [==============================] - 2s 353us/step - loss: 0.5687 - acc: 0.8145 - val_loss: 0.4505 - val_acc: 0.8741\n",
      "\n",
      "Epoch 00075: val_loss did not improve from 0.43790\n",
      "Epoch 76/100\n",
      "6985/6985 [==============================] - 2s 351us/step - loss: 0.5500 - acc: 0.8143 - val_loss: 0.4285 - val_acc: 0.8672\n",
      "\n",
      "Epoch 00076: val_loss improved from 0.43790 to 0.42855, saving model to saved_models/weights.best.basic_mlp.hdf5\n",
      "Epoch 77/100\n",
      "6985/6985 [==============================] - 3s 418us/step - loss: 0.5870 - acc: 0.7994 - val_loss: 0.4398 - val_acc: 0.8712\n",
      "\n",
      "Epoch 00077: val_loss did not improve from 0.42855\n",
      "Epoch 78/100\n",
      "6985/6985 [==============================] - 3s 395us/step - loss: 0.5718 - acc: 0.8056 - val_loss: 0.4423 - val_acc: 0.8706\n",
      "\n",
      "Epoch 00078: val_loss did not improve from 0.42855\n",
      "Epoch 79/100\n",
      "6985/6985 [==============================] - 3s 359us/step - loss: 0.5768 - acc: 0.8057 - val_loss: 0.4479 - val_acc: 0.8706\n",
      "\n",
      "Epoch 00079: val_loss did not improve from 0.42855\n",
      "Epoch 80/100\n",
      "6985/6985 [==============================] - 2s 338us/step - loss: 0.5719 - acc: 0.8070 - val_loss: 0.4340 - val_acc: 0.8701\n",
      "\n",
      "Epoch 00080: val_loss did not improve from 0.42855\n",
      "Epoch 81/100\n",
      "6985/6985 [==============================] - 2s 347us/step - loss: 0.5600 - acc: 0.8122 - val_loss: 0.4380 - val_acc: 0.8632\n",
      "\n",
      "Epoch 00081: val_loss did not improve from 0.42855\n",
      "Epoch 82/100\n",
      "6985/6985 [==============================] - 3s 366us/step - loss: 0.5541 - acc: 0.8149 - val_loss: 0.4205 - val_acc: 0.8729\n",
      "\n",
      "Epoch 00082: val_loss improved from 0.42855 to 0.42049, saving model to saved_models/weights.best.basic_mlp.hdf5\n",
      "Epoch 83/100\n",
      "6985/6985 [==============================] - 3s 386us/step - loss: 0.5528 - acc: 0.8107 - val_loss: 0.4254 - val_acc: 0.8792\n",
      "\n",
      "Epoch 00083: val_loss did not improve from 0.42049\n",
      "Epoch 84/100\n",
      "6985/6985 [==============================] - 3s 480us/step - loss: 0.5465 - acc: 0.8135 - val_loss: 0.4517 - val_acc: 0.8632\n",
      "\n",
      "Epoch 00084: val_loss did not improve from 0.42049\n",
      "Epoch 85/100\n",
      "6985/6985 [==============================] - 3s 443us/step - loss: 0.5402 - acc: 0.8147 - val_loss: 0.4400 - val_acc: 0.8724\n",
      "\n",
      "Epoch 00085: val_loss did not improve from 0.42049\n",
      "Epoch 86/100\n",
      "6985/6985 [==============================] - 3s 478us/step - loss: 0.5569 - acc: 0.8097 - val_loss: 0.4488 - val_acc: 0.8626\n",
      "\n",
      "Epoch 00086: val_loss did not improve from 0.42049\n",
      "Epoch 87/100\n",
      "6985/6985 [==============================] - 3s 413us/step - loss: 0.5529 - acc: 0.8127 - val_loss: 0.4429 - val_acc: 0.8620\n",
      "\n",
      "Epoch 00087: val_loss did not improve from 0.42049\n",
      "Epoch 88/100\n",
      "6985/6985 [==============================] - 3s 396us/step - loss: 0.5717 - acc: 0.8125 - val_loss: 0.4551 - val_acc: 0.8649\n",
      "\n",
      "Epoch 00088: val_loss did not improve from 0.42049\n",
      "Epoch 89/100\n",
      "6985/6985 [==============================] - 3s 383us/step - loss: 0.5520 - acc: 0.8188 - val_loss: 0.4413 - val_acc: 0.8769\n",
      "\n",
      "Epoch 00089: val_loss did not improve from 0.42049\n",
      "Epoch 90/100\n",
      "6985/6985 [==============================] - 3s 365us/step - loss: 0.5566 - acc: 0.8106 - val_loss: 0.4512 - val_acc: 0.8626\n",
      "\n",
      "Epoch 00090: val_loss did not improve from 0.42049\n",
      "Epoch 91/100\n",
      "6985/6985 [==============================] - 3s 361us/step - loss: 0.5526 - acc: 0.8125 - val_loss: 0.4453 - val_acc: 0.8638\n",
      "\n",
      "Epoch 00091: val_loss did not improve from 0.42049\n",
      "Epoch 92/100\n",
      "6985/6985 [==============================] - 3s 384us/step - loss: 0.5487 - acc: 0.8110 - val_loss: 0.4290 - val_acc: 0.8735\n",
      "\n",
      "Epoch 00092: val_loss did not improve from 0.42049\n",
      "Epoch 93/100\n",
      "6985/6985 [==============================] - 3s 365us/step - loss: 0.5279 - acc: 0.8245 - val_loss: 0.4223 - val_acc: 0.8724\n",
      "\n",
      "Epoch 00093: val_loss did not improve from 0.42049\n",
      "Epoch 94/100\n",
      "6985/6985 [==============================] - 3s 365us/step - loss: 0.5412 - acc: 0.8219 - val_loss: 0.4317 - val_acc: 0.8804\n",
      "\n",
      "Epoch 00094: val_loss did not improve from 0.42049\n",
      "Epoch 95/100\n",
      "6985/6985 [==============================] - 3s 376us/step - loss: 0.5393 - acc: 0.8210 - val_loss: 0.4422 - val_acc: 0.8643\n",
      "\n",
      "Epoch 00095: val_loss did not improve from 0.42049\n",
      "Epoch 96/100\n",
      "6985/6985 [==============================] - 3s 376us/step - loss: 0.5327 - acc: 0.8203 - val_loss: 0.4266 - val_acc: 0.8689\n",
      "\n",
      "Epoch 00096: val_loss did not improve from 0.42049\n",
      "Epoch 97/100\n",
      "6985/6985 [==============================] - 2s 334us/step - loss: 0.5525 - acc: 0.8125 - val_loss: 0.4370 - val_acc: 0.8626\n",
      "\n",
      "Epoch 00097: val_loss did not improve from 0.42049\n",
      "Epoch 98/100\n",
      "6985/6985 [==============================] - 2s 329us/step - loss: 0.5246 - acc: 0.8241 - val_loss: 0.4338 - val_acc: 0.8620\n",
      "\n",
      "Epoch 00098: val_loss did not improve from 0.42049\n",
      "Epoch 99/100\n",
      "6985/6985 [==============================] - 2s 347us/step - loss: 0.5346 - acc: 0.8169 - val_loss: 0.4457 - val_acc: 0.8586\n",
      "\n",
      "Epoch 00099: val_loss did not improve from 0.42049\n",
      "Epoch 100/100\n",
      "6985/6985 [==============================] - 2s 351us/step - loss: 0.5413 - acc: 0.8153 - val_loss: 0.4306 - val_acc: 0.8764\n",
      "\n",
      "Epoch 00100: val_loss did not improve from 0.42049\n",
      "Training completed in time:  0:04:15.582298\n"
     ]
    }
   ],
   "source": [
    "from keras.callbacks import ModelCheckpoint \n",
    "from datetime import datetime \n",
    "\n",
    "num_epochs = 100\n",
    "num_batch_size = 32\n",
    "\n",
    "checkpointer = ModelCheckpoint(filepath='saved_models/weights.best.basic_mlp.hdf5', \n",
    "                               verbose=1, save_best_only=True)\n",
    "start = datetime.now()\n",
    "\n",
    "model.fit(x_train, y_train, batch_size=num_batch_size, epochs=num_epochs, validation_data=(x_test, y_test), callbacks=[checkpointer], verbose=1)\n",
    "\n",
    "\n",
    "duration = datetime.now() - start\n",
    "print(\"Training completed in time: \", duration)"
   ]
  },
  {
   "cell_type": "markdown",
   "metadata": {},
   "source": [
    "### Test the model \n",
    "\n",
    "Here we will review the accuracy of the model on both the training and test data sets. "
   ]
  },
  {
   "cell_type": "code",
   "execution_count": 6,
   "metadata": {},
   "outputs": [
    {
     "name": "stdout",
     "output_type": "stream",
     "text": [
      "Training Accuracy:  0.9252684323550465\n",
      "Testing Accuracy:  0.8763594734511787\n"
     ]
    }
   ],
   "source": [
    "# Evaluating the model on the training and testing set\n",
    "score = model.evaluate(x_train, y_train, verbose=0)\n",
    "print(\"Training Accuracy: \", score[1])\n",
    "\n",
    "score = model.evaluate(x_test, y_test, verbose=0)\n",
    "print(\"Testing Accuracy: \", score[1])"
   ]
  },
  {
   "cell_type": "markdown",
   "metadata": {},
   "source": [
    "The initial Training and Testing accuracy scores are quite high. As there is not a great difference between the Training and Test scores (~5%) this suggests that the model has not suffered from overfitting. "
   ]
  },
  {
   "cell_type": "markdown",
   "metadata": {},
   "source": [
    "### Predictions  \n",
    "\n",
    "Here we will build a method which will allow us to test the models predictions on a specified audio .wav file. "
   ]
  },
  {
   "cell_type": "code",
   "execution_count": 7,
   "metadata": {},
   "outputs": [],
   "source": [
    "import librosa \n",
    "import numpy as np \n",
    "\n",
    "def extract_feature(file_name):\n",
    "   \n",
    "    try:\n",
    "        audio_data, sample_rate = librosa.load(file_name, res_type='kaiser_fast') \n",
    "        mfccs = librosa.feature.mfcc(y=audio_data, sr=sample_rate, n_mfcc=40)\n",
    "        mfccsscaled = np.mean(mfccs.T,axis=0)\n",
    "        \n",
    "    except Exception as e:\n",
    "        print(\"Error encountered while parsing file: \", file)\n",
    "        return None, None\n",
    "\n",
    "    return np.array([mfccsscaled])\n"
   ]
  },
  {
   "cell_type": "code",
   "execution_count": 8,
   "metadata": {},
   "outputs": [],
   "source": [
    "def print_prediction(file_name):\n",
    "    prediction_feature = extract_feature(file_name) \n",
    "\n",
    "    predicted_vector = model.predict_classes(prediction_feature)\n",
    "    predicted_class = le.inverse_transform(predicted_vector) \n",
    "    print(\"The predicted class is:\", predicted_class[0], '\\n') \n",
    "\n",
    "    predicted_proba_vector = model.predict_proba(prediction_feature) \n",
    "    predicted_proba = predicted_proba_vector[0]\n",
    "    for i in range(len(predicted_proba)): \n",
    "        category = le.inverse_transform(np.array([i]))\n",
    "        print(category[0], \"\\t\\t : \", format(predicted_proba[i], '.32f') )"
   ]
  },
  {
   "cell_type": "markdown",
   "metadata": {},
   "source": [
    "### Validation \n",
    "\n",
    "#### Test with sample data \n",
    "\n",
    "Initial sainity check to verify the predictions using a subsection of the sample audio files we explored in the first notebook. We expect the bulk of these to be classified correctly. "
   ]
  },
  {
   "cell_type": "code",
   "execution_count": 9,
   "metadata": {},
   "outputs": [
    {
     "name": "stdout",
     "output_type": "stream",
     "text": [
      "The predicted class is: air_conditioner \n",
      "\n",
      "air_conditioner \t\t :  0.99989426136016845703125000000000\n",
      "car_horn \t\t :  0.00000715439318810240365564823151\n",
      "children_playing \t\t :  0.00001791530303307808935642242432\n",
      "dog_bark \t\t :  0.00000025655413082859013229608536\n",
      "drilling \t\t :  0.00000283992426375334616750478745\n",
      "engine_idling \t\t :  0.00005887898078071884810924530029\n",
      "gun_shot \t\t :  0.00000001620782441591472888831049\n",
      "jackhammer \t\t :  0.00000035662964137372910045087337\n",
      "siren \t\t :  0.00000004348472515403045690618455\n",
      "street_music \t\t :  0.00001830780820455402135848999023\n"
     ]
    }
   ],
   "source": [
    "# Class: Air Conditioner\n",
    "\n",
    "filename = '../UrbanSound Dataset sample/audio/100852-0-0-0.wav' \n",
    "print_prediction(filename) "
   ]
  },
  {
   "cell_type": "code",
   "execution_count": 10,
   "metadata": {
    "scrolled": true
   },
   "outputs": [
    {
     "name": "stdout",
     "output_type": "stream",
     "text": [
      "The predicted class is: drilling \n",
      "\n",
      "air_conditioner \t\t :  0.00000000003295356001964400149973\n",
      "car_horn \t\t :  0.00000000308959258177310402970761\n",
      "children_playing \t\t :  0.00002208830665040295571088790894\n",
      "dog_bark \t\t :  0.00000067401481373963179066777229\n",
      "drilling \t\t :  0.99972504377365112304687500000000\n",
      "engine_idling \t\t :  0.00000000002312424904338250541969\n",
      "gun_shot \t\t :  0.00000014346949228638550266623497\n",
      "jackhammer \t\t :  0.00000000029780389265710027757450\n",
      "siren \t\t :  0.00000000156893398273183493074612\n",
      "street_music \t\t :  0.00025209947489202022552490234375\n"
     ]
    }
   ],
   "source": [
    "# Class: Drilling\n",
    "\n",
    "filename = '../UrbanSound Dataset sample/audio/103199-4-0-0.wav'\n",
    "print_prediction(filename) "
   ]
  },
  {
   "cell_type": "code",
   "execution_count": 11,
   "metadata": {},
   "outputs": [
    {
     "name": "stdout",
     "output_type": "stream",
     "text": [
      "The predicted class is: street_music \n",
      "\n",
      "air_conditioner \t\t :  0.09999072551727294921875000000000\n",
      "car_horn \t\t :  0.00305506144650280475616455078125\n",
      "children_playing \t\t :  0.09950152784585952758789062500000\n",
      "dog_bark \t\t :  0.02582867257297039031982421875000\n",
      "drilling \t\t :  0.00509325042366981506347656250000\n",
      "engine_idling \t\t :  0.00916280318051576614379882812500\n",
      "gun_shot \t\t :  0.00549275847151875495910644531250\n",
      "jackhammer \t\t :  0.03270008042454719543457031250000\n",
      "siren \t\t :  0.00361734302714467048645019531250\n",
      "street_music \t\t :  0.71555775403976440429687500000000\n"
     ]
    }
   ],
   "source": [
    "# Class: Street music \n",
    "\n",
    "filename = '../UrbanSound Dataset sample/audio/101848-9-0-0.wav'\n",
    "print_prediction(filename) "
   ]
  },
  {
   "cell_type": "code",
   "execution_count": 12,
   "metadata": {},
   "outputs": [
    {
     "name": "stdout",
     "output_type": "stream",
     "text": [
      "The predicted class is: car_horn \n",
      "\n",
      "air_conditioner \t\t :  0.00188611494377255439758300781250\n",
      "car_horn \t\t :  0.68632853031158447265625000000000\n",
      "children_playing \t\t :  0.01224335655570030212402343750000\n",
      "dog_bark \t\t :  0.16461659967899322509765625000000\n",
      "drilling \t\t :  0.05645351111888885498046875000000\n",
      "engine_idling \t\t :  0.00212736334651708602905273437500\n",
      "gun_shot \t\t :  0.00211420282721519470214843750000\n",
      "jackhammer \t\t :  0.00372551172040402889251708984375\n",
      "siren \t\t :  0.00587591761723160743713378906250\n",
      "street_music \t\t :  0.06462877988815307617187500000000\n"
     ]
    }
   ],
   "source": [
    "# Class: Car Horn \n",
    "\n",
    "filename = '../UrbanSound Dataset sample/audio/100648-1-0-0.wav'\n",
    "print_prediction(filename) "
   ]
  },
  {
   "cell_type": "markdown",
   "metadata": {},
   "source": [
    "#### Observations \n",
    "\n",
    "From this brief sanity check the model seems to predict well. One errror was observed whereby a car horn was incorrectly classifed as a dog bark. \n",
    "\n",
    "We can see from the per class confidence that this was quite a low score (43%). This allows follows our early observation that a dog bark and car horn are similar in spectral shape. "
   ]
  },
  {
   "cell_type": "markdown",
   "metadata": {},
   "source": [
    "### Other audio\n",
    "\n",
    "Here we will use a sample of various copyright free sounds that we not part of either our test or training data to further validate our model. "
   ]
  },
  {
   "cell_type": "code",
   "execution_count": 13,
   "metadata": {},
   "outputs": [
    {
     "name": "stdout",
     "output_type": "stream",
     "text": [
      "The predicted class is: dog_bark \n",
      "\n",
      "air_conditioner \t\t :  0.00038618501275777816772460937500\n",
      "car_horn \t\t :  0.00915508810430765151977539062500\n",
      "children_playing \t\t :  0.06478454917669296264648437500000\n",
      "dog_bark \t\t :  0.71007812023162841796875000000000\n",
      "drilling \t\t :  0.02283692173659801483154296875000\n",
      "engine_idling \t\t :  0.00240809586830437183380126953125\n",
      "gun_shot \t\t :  0.10433794558048248291015625000000\n",
      "jackhammer \t\t :  0.00001514166433480568230152130127\n",
      "siren \t\t :  0.01288078445941209793090820312500\n",
      "street_music \t\t :  0.07311715185642242431640625000000\n"
     ]
    }
   ],
   "source": [
    "filename = '../Evaluation audio/dog_bark_1.wav'\n",
    "print_prediction(filename) "
   ]
  },
  {
   "cell_type": "code",
   "execution_count": 14,
   "metadata": {
    "scrolled": true
   },
   "outputs": [
    {
     "name": "stdout",
     "output_type": "stream",
     "text": [
      "The predicted class is: drilling \n",
      "\n",
      "air_conditioner \t\t :  0.32110649347305297851562500000000\n",
      "car_horn \t\t :  0.00000022923920539597020251676440\n",
      "children_playing \t\t :  0.00001040843835653504356741905212\n",
      "dog_bark \t\t :  0.00000026054382828988309483975172\n",
      "drilling \t\t :  0.66649377346038818359375000000000\n",
      "engine_idling \t\t :  0.00000000133662025891823077472509\n",
      "gun_shot \t\t :  0.00000043437574959170888178050518\n",
      "jackhammer \t\t :  0.01238841470330953598022460937500\n",
      "siren \t\t :  0.00000000002891160748308418959596\n",
      "street_music \t\t :  0.00000000528942090127770825347397\n"
     ]
    }
   ],
   "source": [
    "filename = '../Evaluation audio/drilling_1.wav'\n",
    "\n",
    "print_prediction(filename) "
   ]
  },
  {
   "cell_type": "code",
   "execution_count": 15,
   "metadata": {},
   "outputs": [
    {
     "name": "stdout",
     "output_type": "stream",
     "text": [
      "The predicted class is: dog_bark \n",
      "\n",
      "air_conditioner \t\t :  0.02008811198174953460693359375000\n",
      "car_horn \t\t :  0.00047429648111574351787567138672\n",
      "children_playing \t\t :  0.00094942341092973947525024414062\n",
      "dog_bark \t\t :  0.53654015064239501953125000000000\n",
      "drilling \t\t :  0.00093174201902002096176147460938\n",
      "engine_idling \t\t :  0.03123776055872440338134765625000\n",
      "gun_shot \t\t :  0.00091215252177789807319641113281\n",
      "jackhammer \t\t :  0.00002015420614043250679969787598\n",
      "siren \t\t :  0.00055970775429159402847290039062\n",
      "street_music \t\t :  0.40828645229339599609375000000000\n"
     ]
    }
   ],
   "source": [
    "filename = '../Evaluation audio/gun_shot_1.wav'\n",
    "\n",
    "print_prediction(filename) \n",
    "\n",
    "# sample data weighted towards gun shot - peak in the dog barking sample is simmilar in shape to the gun shot sample"
   ]
  },
  {
   "cell_type": "code",
   "execution_count": 16,
   "metadata": {},
   "outputs": [
    {
     "name": "stdout",
     "output_type": "stream",
     "text": [
      "The predicted class is: siren \n",
      "\n",
      "air_conditioner \t\t :  0.00000732402349967742338776588440\n",
      "car_horn \t\t :  0.00057092373026534914970397949219\n",
      "children_playing \t\t :  0.00199068244546651840209960937500\n",
      "dog_bark \t\t :  0.02090488374233245849609375000000\n",
      "drilling \t\t :  0.00046552356798201799392700195312\n",
      "engine_idling \t\t :  0.14164580404758453369140625000000\n",
      "gun_shot \t\t :  0.00050196843221783638000488281250\n",
      "jackhammer \t\t :  0.00276053301058709621429443359375\n",
      "siren \t\t :  0.81527197360992431640625000000000\n",
      "street_music \t\t :  0.01588040776550769805908203125000\n"
     ]
    }
   ],
   "source": [
    "filename = '../Evaluation audio/siren_1.wav'\n",
    "\n",
    "print_prediction(filename) "
   ]
  },
  {
   "cell_type": "markdown",
   "metadata": {},
   "source": [
    "#### Observations \n",
    "\n",
    "The performance of our initial model is satisfactorry and has generalised well, seeming to predict well when tested against new audio data. "
   ]
  },
  {
   "cell_type": "markdown",
   "metadata": {},
   "source": [
    "### *In the next notebook we will refine our model*"
   ]
  }
 ],
 "metadata": {
  "kernelspec": {
   "display_name": "Python 3",
   "language": "python",
   "name": "python3"
  },
  "language_info": {
   "codemirror_mode": {
    "name": "ipython",
    "version": 3
   },
   "file_extension": ".py",
   "mimetype": "text/x-python",
   "name": "python",
   "nbconvert_exporter": "python",
   "pygments_lexer": "ipython3",
   "version": "3.6.6"
  }
 },
 "nbformat": 4,
 "nbformat_minor": 2
}

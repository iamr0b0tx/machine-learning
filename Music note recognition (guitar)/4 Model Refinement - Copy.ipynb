{
 "cells": [
  {
   "cell_type": "code",
   "execution_count": 4,
   "metadata": {},
   "outputs": [],
   "source": [
    "%load_ext autoreload\n",
    "%autoreload 2"
   ]
  },
  {
   "cell_type": "markdown",
   "metadata": {},
   "source": [
    "# Classifying Music Note sounds using Deep Learning\n",
    "\n",
    "source: https://medium.com/@mikesmales/sound-classification-using-deep-learning-8bc2aa1990b7"
   ]
  },
  {
   "cell_type": "markdown",
   "metadata": {},
   "source": [
    "### Load Preprocessed data "
   ]
  },
  {
   "cell_type": "markdown",
   "metadata": {},
   "source": [
    "#### Feature Extraction refinement \n",
    "\n",
    "In the prevous feature extraction stage, the MFCC vectors would vary in size for the different audio files (depending on the samples duration). \n",
    "\n",
    "However, CNNs require a fixed size for all inputs. To overcome this we will zero pad the output vectors to make them all the same size. "
   ]
  },
  {
   "cell_type": "code",
   "execution_count": 15,
   "metadata": {},
   "outputs": [],
   "source": [
    "import numpy as np\n",
    "max_pad_len = 365\n",
    "\n",
    "def extract_features(file_name):\n",
    "   \n",
    "    try:\n",
    "        audio, sample_rate = librosa.load(file_name, res_type='kaiser_fast') \n",
    "        mfccs = librosa.feature.mfcc(y=audio, sr=sample_rate, n_mfcc=40)\n",
    "        pad_width = max_pad_len - mfccs.shape[1]\n",
    "        mfccs = np.pad(mfccs, pad_width=((0, 0), (0, pad_width)), mode='constant')\n",
    "        \n",
    "    except Exception as e:\n",
    "        print(\"Error encountered while parsing file: \", file_name, e)\n",
    "        return None \n",
    "     \n",
    "    return mfccs"
   ]
  },
  {
   "cell_type": "code",
   "execution_count": 16,
   "metadata": {},
   "outputs": [
    {
     "name": "stdout",
     "output_type": "stream",
     "text": [
      "274 365 (40, 91)\n",
      "113 365 (40, 252)\n",
      "284 365 (40, 81)\n",
      "254 365 (40, 111)\n",
      "249 365 (40, 116)\n",
      "236 365 (40, 129)\n",
      "214 365 (40, 151)\n",
      "226 365 (40, 139)\n",
      "265 365 (40, 100)\n",
      "209 365 (40, 156)\n",
      "245 365 (40, 120)\n",
      "129 365 (40, 236)\n",
      "244 365 (40, 121)\n",
      "245 365 (40, 120)\n",
      "220 365 (40, 145)\n",
      "235 365 (40, 130)\n",
      "248 365 (40, 117)\n",
      "230 365 (40, 135)\n",
      "250 365 (40, 115)\n",
      "246 365 (40, 119)\n",
      "284 365 (40, 81)\n",
      "112 365 (40, 253)\n",
      "276 365 (40, 89)\n",
      "276 365 (40, 89)\n",
      "231 365 (40, 134)\n",
      "234 365 (40, 131)\n",
      "222 365 (40, 143)\n",
      "189 365 (40, 176)\n",
      "186 365 (40, 179)\n",
      "198 365 (40, 167)\n",
      "240 365 (40, 125)\n",
      "0 365 (40, 365)\n",
      "270 365 (40, 95)\n",
      "270 365 (40, 95)\n",
      "242 365 (40, 123)\n",
      "245 365 (40, 120)\n",
      "242 365 (40, 123)\n",
      "238 365 (40, 127)\n",
      "248 365 (40, 117)\n",
      "242 365 (40, 123)\n",
      "278 365 (40, 87)\n",
      "272 365 (40, 93)\n",
      "303 365 (40, 62)\n",
      "278 365 (40, 87)\n",
      "287 365 (40, 78)\n",
      "271 365 (40, 94)\n",
      "57 365 (40, 308)\n",
      "267 365 (40, 98)\n",
      "207 365 (40, 158)\n",
      "249 365 (40, 116)\n",
      "243 365 (40, 122)\n",
      "238 365 (40, 127)\n",
      "243 365 (40, 122)\n",
      "242 365 (40, 123)\n",
      "244 365 (40, 121)\n",
      "236 365 (40, 129)\n",
      "199 365 (40, 166)\n",
      "32 365 (40, 333)\n",
      "Finished feature extraction from  58  files\n"
     ]
    }
   ],
   "source": [
    "# Load various imports \n",
    "import pandas as pd\n",
    "import os\n",
    "import librosa\n",
    "\n",
    "# Set the path to the full UrbanSound dataset \n",
    "DATA_DIR = os.path.join(\"data\", \"guitar_sample\")\n",
    "\n",
    "# feature list\n",
    "features = []\n",
    "\n",
    "# Iterate through each sound file and extract the features \n",
    "for folder in os.listdir(DATA_DIR):\n",
    "    for file in os.listdir(os.path.join(DATA_DIR, folder)):\n",
    "        class_label = folder\n",
    "        file_name = os.path.join(os.path.join(DATA_DIR, folder, file))\n",
    "        \n",
    "        data = extract_features(file_name)\n",
    "        features.append([data, class_label])\n",
    "\n",
    "# Convert into a Panda dataframe \n",
    "featuresdf = pd.DataFrame(features, columns=['feature','class_label'])\n",
    "\n",
    "print('Finished feature extraction from ', len(featuresdf), ' files') "
   ]
  },
  {
   "cell_type": "code",
   "execution_count": 17,
   "metadata": {},
   "outputs": [],
   "source": [
    "from sklearn.preprocessing import LabelEncoder\n",
    "from keras.utils import to_categorical\n",
    "\n",
    "# Convert features and corresponding classification labels into numpy arrays\n",
    "X = np.array(featuresdf.feature.tolist())\n",
    "y = np.array(featuresdf.class_label.tolist())\n",
    "\n",
    "# Encode the classification labels\n",
    "le = LabelEncoder()\n",
    "yy = to_categorical(le.fit_transform(y)) \n",
    "\n",
    "# split the dataset \n",
    "from sklearn.model_selection import train_test_split \n",
    "\n",
    "x_train, x_test, y_train, y_test = train_test_split(X, yy, test_size=0.2, random_state = 42)"
   ]
  },
  {
   "cell_type": "markdown",
   "metadata": {},
   "source": [
    "### Convolutional Neural Network (CNN) model architecture \n",
    "\n",
    "\n",
    "We will modify our model to be a Convolutional Neural Network (CNN) again using Keras and a Tensorflow backend. \n",
    "\n",
    "Again we will use a `sequential` model, starting with a simple model architecture, consisting of four `Conv2D` convolution layers, with our final output layer being a `dense` layer. \n",
    "\n",
    "The convolution layers are designed for feature detection. It works by sliding a filter window over the input and performing a matrix multiplication and storing the result in a feature map. This operation is known as a convolution. \n",
    "\n",
    "\n",
    "The `filter` parameter specifies the number of nodes in each layer. Each layer will increase in size from 16, 32, 64 to 128, while the `kernel_size` parameter specifies the size of the kernel window which in this case is 2 resulting in a 2x2 filter matrix. \n",
    "\n",
    "The first layer will receive the input shape of (40, 174, 1) where 40 is the number of MFCC's 174 is the number of frames taking padding into account and the 1 signifying that the audio is mono. \n",
    "\n",
    "The activation function we will be using for our convolutional layers is `ReLU` which is the same as our previous model. We will use a smaller `Dropout` value of 20% on our convolutional layers. \n",
    "\n",
    "Each convolutional layer has an associated pooling layer of `MaxPooling2D` type with the final convolutional layer having a `GlobalAveragePooling2D` type. The pooling layer is do reduce the dimensionality of the model (by reducing the parameters and subsquent computation requirements) which serves to shorten the training time and reduce overfitting. The Max Pooling type takes the maximum size for each window and the Global Average Pooling type takes the average which is suitable for feeding into our `dense` output layer.  \n",
    "\n",
    "Our output layer will have 10 nodes (num_labels) which matches the number of possible classifications. The activation is for our output layer is `softmax`. Softmax makes the output sum up to 1 so the output can be interpreted as probabilities. The model will then make its prediction based on which option has the highest probability."
   ]
  },
  {
   "cell_type": "code",
   "execution_count": 19,
   "metadata": {},
   "outputs": [],
   "source": [
    "import numpy as np\n",
    "from keras.models import Sequential\n",
    "from keras.layers import Dense, Dropout, Activation, Flatten\n",
    "from keras.layers import Convolution2D, Conv2D, MaxPooling2D, GlobalAveragePooling2D\n",
    "from keras.optimizers import Adam\n",
    "from keras.utils import np_utils\n",
    "from sklearn import metrics \n",
    "\n",
    "num_rows = 40\n",
    "num_columns = 365\n",
    "num_channels = 1\n",
    "\n",
    "x_train = x_train.reshape(x_train.shape[0], num_rows, num_columns, num_channels)\n",
    "x_test = x_test.reshape(x_test.shape[0], num_rows, num_columns, num_channels)\n",
    "\n",
    "num_labels = yy.shape[1]\n",
    "filter_size = 2\n",
    "\n",
    "# Construct model \n",
    "model = Sequential()\n",
    "model.add(Conv2D(filters=16, kernel_size=2, input_shape=(num_rows, num_columns, num_channels), activation='relu'))\n",
    "model.add(MaxPooling2D(pool_size=2))\n",
    "model.add(Dropout(0.2))\n",
    "\n",
    "model.add(Conv2D(filters=32, kernel_size=2, activation='relu'))\n",
    "model.add(MaxPooling2D(pool_size=2))\n",
    "model.add(Dropout(0.2))\n",
    "\n",
    "model.add(Conv2D(filters=64, kernel_size=2, activation='relu'))\n",
    "model.add(MaxPooling2D(pool_size=2))\n",
    "model.add(Dropout(0.2))\n",
    "\n",
    "model.add(Conv2D(filters=128, kernel_size=2, activation='relu'))\n",
    "model.add(MaxPooling2D(pool_size=2))\n",
    "model.add(Dropout(0.2))\n",
    "model.add(GlobalAveragePooling2D())\n",
    "\n",
    "model.add(Dense(num_labels, activation='softmax')) "
   ]
  },
  {
   "cell_type": "markdown",
   "metadata": {},
   "source": [
    "### Compiling the model \n",
    "\n",
    "For compiling our model, we will use the same three parameters as the previous model: "
   ]
  },
  {
   "cell_type": "code",
   "execution_count": 20,
   "metadata": {},
   "outputs": [],
   "source": [
    "# Compile the model\n",
    "model.compile(loss='categorical_crossentropy', metrics=['accuracy'], optimizer='adam') "
   ]
  },
  {
   "cell_type": "code",
   "execution_count": 21,
   "metadata": {},
   "outputs": [
    {
     "name": "stdout",
     "output_type": "stream",
     "text": [
      "Model: \"sequential\"\n",
      "_________________________________________________________________\n",
      "Layer (type)                 Output Shape              Param #   \n",
      "=================================================================\n",
      "conv2d (Conv2D)              (None, 39, 364, 16)       80        \n",
      "_________________________________________________________________\n",
      "max_pooling2d (MaxPooling2D) (None, 19, 182, 16)       0         \n",
      "_________________________________________________________________\n",
      "dropout (Dropout)            (None, 19, 182, 16)       0         \n",
      "_________________________________________________________________\n",
      "conv2d_1 (Conv2D)            (None, 18, 181, 32)       2080      \n",
      "_________________________________________________________________\n",
      "max_pooling2d_1 (MaxPooling2 (None, 9, 90, 32)         0         \n",
      "_________________________________________________________________\n",
      "dropout_1 (Dropout)          (None, 9, 90, 32)         0         \n",
      "_________________________________________________________________\n",
      "conv2d_2 (Conv2D)            (None, 8, 89, 64)         8256      \n",
      "_________________________________________________________________\n",
      "max_pooling2d_2 (MaxPooling2 (None, 4, 44, 64)         0         \n",
      "_________________________________________________________________\n",
      "dropout_2 (Dropout)          (None, 4, 44, 64)         0         \n",
      "_________________________________________________________________\n",
      "conv2d_3 (Conv2D)            (None, 3, 43, 128)        32896     \n",
      "_________________________________________________________________\n",
      "max_pooling2d_3 (MaxPooling2 (None, 1, 21, 128)        0         \n",
      "_________________________________________________________________\n",
      "dropout_3 (Dropout)          (None, 1, 21, 128)        0         \n",
      "_________________________________________________________________\n",
      "global_average_pooling2d (Gl (None, 128)               0         \n",
      "_________________________________________________________________\n",
      "dense (Dense)                (None, 6)                 774       \n",
      "=================================================================\n",
      "Total params: 44,086\n",
      "Trainable params: 44,086\n",
      "Non-trainable params: 0\n",
      "_________________________________________________________________\n",
      "1/1 [==============================] - 0s 80ms/step - loss: 5.2278 - accuracy: 0.2500\n",
      "Pre-training accuracy: 25.0000%\n"
     ]
    }
   ],
   "source": [
    "# Display model architecture summary \n",
    "model.summary()\n",
    "\n",
    "# Calculate pre-training accuracy \n",
    "score = model.evaluate(x_test, y_test, verbose=1)\n",
    "accuracy = 100*score[1]\n",
    "\n",
    "print(\"Pre-training accuracy: %.4f%%\" % accuracy)"
   ]
  },
  {
   "cell_type": "markdown",
   "metadata": {},
   "source": [
    "### Training \n",
    "\n",
    "Here we will train the model. As training a CNN can take a sigificant amount of time, we will start with a low number of epochs and a low batch size. If we can see from the output that the model is converging, we will increase both numbers.  "
   ]
  },
  {
   "cell_type": "code",
   "execution_count": 22,
   "metadata": {},
   "outputs": [
    {
     "name": "stdout",
     "output_type": "stream",
     "text": [
      "Epoch 1/72\n",
      "1/1 [==============================] - ETA: 0s - loss: 14.6742 - accuracy: 0.1304\n",
      "Epoch 00001: val_loss improved from inf to 3.96389, saving model to saved_models\\weights.best.basic_cnn.hdf5\n",
      "1/1 [==============================] - 1s 675ms/step - loss: 14.6742 - accuracy: 0.1304 - val_loss: 3.9639 - val_accuracy: 0.1667\n",
      "Epoch 2/72\n",
      "1/1 [==============================] - ETA: 0s - loss: 9.5849 - accuracy: 0.1087\n",
      "Epoch 00002: val_loss did not improve from 3.96389\n",
      "1/1 [==============================] - 0s 134ms/step - loss: 9.5849 - accuracy: 0.1087 - val_loss: 4.4878 - val_accuracy: 0.1667\n",
      "Epoch 3/72\n",
      "1/1 [==============================] - ETA: 0s - loss: 6.6470 - accuracy: 0.1957\n",
      "Epoch 00003: val_loss did not improve from 3.96389\n",
      "1/1 [==============================] - 0s 89ms/step - loss: 6.6470 - accuracy: 0.1957 - val_loss: 4.5296 - val_accuracy: 0.1667\n",
      "Epoch 4/72\n",
      "1/1 [==============================] - ETA: 0s - loss: 5.5422 - accuracy: 0.1957\n",
      "Epoch 00004: val_loss did not improve from 3.96389\n",
      "1/1 [==============================] - 0s 129ms/step - loss: 5.5422 - accuracy: 0.1957 - val_loss: 4.0134 - val_accuracy: 0.1667\n",
      "Epoch 5/72\n",
      "1/1 [==============================] - ETA: 0s - loss: 4.8893 - accuracy: 0.1739\n",
      "Epoch 00005: val_loss did not improve from 3.96389\n",
      "1/1 [==============================] - 0s 105ms/step - loss: 4.8893 - accuracy: 0.1739 - val_loss: 4.1616 - val_accuracy: 0.4167\n",
      "Epoch 6/72\n",
      "1/1 [==============================] - ETA: 0s - loss: 5.3682 - accuracy: 0.2174\n",
      "Epoch 00006: val_loss did not improve from 3.96389\n",
      "1/1 [==============================] - 0s 149ms/step - loss: 5.3682 - accuracy: 0.2174 - val_loss: 4.3593 - val_accuracy: 0.2500\n",
      "Epoch 7/72\n",
      "1/1 [==============================] - ETA: 0s - loss: 5.1329 - accuracy: 0.2391\n",
      "Epoch 00007: val_loss did not improve from 3.96389\n",
      "1/1 [==============================] - 0s 286ms/step - loss: 5.1329 - accuracy: 0.2391 - val_loss: 4.2001 - val_accuracy: 0.3333\n",
      "Epoch 8/72\n",
      "1/1 [==============================] - ETA: 0s - loss: 4.6766 - accuracy: 0.1957\n",
      "Epoch 00008: val_loss improved from 3.96389 to 3.87149, saving model to saved_models\\weights.best.basic_cnn.hdf5\n",
      "1/1 [==============================] - 0s 207ms/step - loss: 4.6766 - accuracy: 0.1957 - val_loss: 3.8715 - val_accuracy: 0.4167\n",
      "Epoch 9/72\n",
      "1/1 [==============================] - ETA: 0s - loss: 3.8281 - accuracy: 0.3261\n",
      "Epoch 00009: val_loss improved from 3.87149 to 3.68278, saving model to saved_models\\weights.best.basic_cnn.hdf5\n",
      "1/1 [==============================] - 0s 158ms/step - loss: 3.8281 - accuracy: 0.3261 - val_loss: 3.6828 - val_accuracy: 0.3333\n",
      "Epoch 10/72\n",
      "1/1 [==============================] - ETA: 0s - loss: 3.5422 - accuracy: 0.3478\n",
      "Epoch 00010: val_loss did not improve from 3.68278\n",
      "1/1 [==============================] - 0s 159ms/step - loss: 3.5422 - accuracy: 0.3478 - val_loss: 3.7042 - val_accuracy: 0.1667\n",
      "Epoch 11/72\n",
      "1/1 [==============================] - ETA: 0s - loss: 3.6432 - accuracy: 0.2609\n",
      "Epoch 00011: val_loss did not improve from 3.68278\n",
      "1/1 [==============================] - 0s 133ms/step - loss: 3.6432 - accuracy: 0.2609 - val_loss: 3.7842 - val_accuracy: 0.1667\n",
      "Epoch 12/72\n",
      "1/1 [==============================] - ETA: 0s - loss: 3.6598 - accuracy: 0.2174\n",
      "Epoch 00012: val_loss did not improve from 3.68278\n",
      "1/1 [==============================] - 0s 128ms/step - loss: 3.6598 - accuracy: 0.2174 - val_loss: 3.7262 - val_accuracy: 0.1667\n",
      "Epoch 13/72\n",
      "1/1 [==============================] - ETA: 0s - loss: 3.1650 - accuracy: 0.3913\n",
      "Epoch 00013: val_loss improved from 3.68278 to 3.55641, saving model to saved_models\\weights.best.basic_cnn.hdf5\n",
      "1/1 [==============================] - 0s 120ms/step - loss: 3.1650 - accuracy: 0.3913 - val_loss: 3.5564 - val_accuracy: 0.1667\n",
      "Epoch 14/72\n",
      "1/1 [==============================] - ETA: 0s - loss: 3.4412 - accuracy: 0.2609\n",
      "Epoch 00014: val_loss improved from 3.55641 to 3.28940, saving model to saved_models\\weights.best.basic_cnn.hdf5\n",
      "1/1 [==============================] - 0s 118ms/step - loss: 3.4412 - accuracy: 0.2609 - val_loss: 3.2894 - val_accuracy: 0.3333\n",
      "Epoch 15/72\n",
      "1/1 [==============================] - ETA: 0s - loss: 3.1270 - accuracy: 0.3261\n",
      "Epoch 00015: val_loss improved from 3.28940 to 2.97659, saving model to saved_models\\weights.best.basic_cnn.hdf5\n",
      "1/1 [==============================] - 0s 109ms/step - loss: 3.1270 - accuracy: 0.3261 - val_loss: 2.9766 - val_accuracy: 0.3333\n",
      "Epoch 16/72\n",
      "1/1 [==============================] - ETA: 0s - loss: 2.5585 - accuracy: 0.5217\n",
      "Epoch 00016: val_loss improved from 2.97659 to 2.67255, saving model to saved_models\\weights.best.basic_cnn.hdf5\n",
      "1/1 [==============================] - 0s 187ms/step - loss: 2.5585 - accuracy: 0.5217 - val_loss: 2.6725 - val_accuracy: 0.3333\n",
      "Epoch 17/72\n",
      "1/1 [==============================] - ETA: 0s - loss: 2.5630 - accuracy: 0.4130\n",
      "Epoch 00017: val_loss improved from 2.67255 to 2.41925, saving model to saved_models\\weights.best.basic_cnn.hdf5\n",
      "1/1 [==============================] - 0s 121ms/step - loss: 2.5630 - accuracy: 0.4130 - val_loss: 2.4192 - val_accuracy: 0.3333\n",
      "Epoch 18/72\n",
      "1/1 [==============================] - ETA: 0s - loss: 2.6385 - accuracy: 0.4348\n",
      "Epoch 00018: val_loss improved from 2.41925 to 2.22209, saving model to saved_models\\weights.best.basic_cnn.hdf5\n",
      "1/1 [==============================] - 0s 144ms/step - loss: 2.6385 - accuracy: 0.4348 - val_loss: 2.2221 - val_accuracy: 0.5833\n",
      "Epoch 19/72\n",
      "1/1 [==============================] - ETA: 0s - loss: 2.0653 - accuracy: 0.5217\n",
      "Epoch 00019: val_loss improved from 2.22209 to 2.08403, saving model to saved_models\\weights.best.basic_cnn.hdf5\n",
      "1/1 [==============================] - 0s 84ms/step - loss: 2.0653 - accuracy: 0.5217 - val_loss: 2.0840 - val_accuracy: 0.5833\n",
      "Epoch 20/72\n",
      "1/1 [==============================] - ETA: 0s - loss: 1.7676 - accuracy: 0.5000\n",
      "Epoch 00020: val_loss improved from 2.08403 to 1.99479, saving model to saved_models\\weights.best.basic_cnn.hdf5\n",
      "1/1 [==============================] - 0s 82ms/step - loss: 1.7676 - accuracy: 0.5000 - val_loss: 1.9948 - val_accuracy: 0.5833\n",
      "Epoch 21/72\n",
      "1/1 [==============================] - ETA: 0s - loss: 1.7256 - accuracy: 0.4565\n",
      "Epoch 00021: val_loss improved from 1.99479 to 1.92768, saving model to saved_models\\weights.best.basic_cnn.hdf5\n",
      "1/1 [==============================] - 0s 190ms/step - loss: 1.7256 - accuracy: 0.4565 - val_loss: 1.9277 - val_accuracy: 0.5833\n",
      "Epoch 22/72\n",
      "1/1 [==============================] - ETA: 0s - loss: 1.4669 - accuracy: 0.6087\n",
      "Epoch 00022: val_loss improved from 1.92768 to 1.85357, saving model to saved_models\\weights.best.basic_cnn.hdf5\n",
      "1/1 [==============================] - 0s 319ms/step - loss: 1.4669 - accuracy: 0.6087 - val_loss: 1.8536 - val_accuracy: 0.5833\n",
      "Epoch 23/72\n",
      "1/1 [==============================] - ETA: 0s - loss: 1.5829 - accuracy: 0.4565\n",
      "Epoch 00023: val_loss improved from 1.85357 to 1.74504, saving model to saved_models\\weights.best.basic_cnn.hdf5\n",
      "1/1 [==============================] - 0s 382ms/step - loss: 1.5829 - accuracy: 0.4565 - val_loss: 1.7450 - val_accuracy: 0.5833\n",
      "Epoch 24/72\n",
      "1/1 [==============================] - ETA: 0s - loss: 1.2829 - accuracy: 0.5435\n",
      "Epoch 00024: val_loss improved from 1.74504 to 1.62229, saving model to saved_models\\weights.best.basic_cnn.hdf5\n",
      "1/1 [==============================] - 0s 139ms/step - loss: 1.2829 - accuracy: 0.5435 - val_loss: 1.6223 - val_accuracy: 0.5833\n",
      "Epoch 25/72\n",
      "1/1 [==============================] - ETA: 0s - loss: 1.3854 - accuracy: 0.5652\n",
      "Epoch 00025: val_loss improved from 1.62229 to 1.48199, saving model to saved_models\\weights.best.basic_cnn.hdf5\n",
      "1/1 [==============================] - 0s 126ms/step - loss: 1.3854 - accuracy: 0.5652 - val_loss: 1.4820 - val_accuracy: 0.5833\n",
      "Epoch 26/72\n",
      "1/1 [==============================] - ETA: 0s - loss: 1.0948 - accuracy: 0.5435\n",
      "Epoch 00026: val_loss improved from 1.48199 to 1.34377, saving model to saved_models\\weights.best.basic_cnn.hdf5\n",
      "1/1 [==============================] - 0s 83ms/step - loss: 1.0948 - accuracy: 0.5435 - val_loss: 1.3438 - val_accuracy: 0.5833\n",
      "Epoch 27/72\n"
     ]
    },
    {
     "name": "stdout",
     "output_type": "stream",
     "text": [
      "1/1 [==============================] - ETA: 0s - loss: 1.0327 - accuracy: 0.6087\n",
      "Epoch 00027: val_loss improved from 1.34377 to 1.22836, saving model to saved_models\\weights.best.basic_cnn.hdf5\n",
      "1/1 [==============================] - 0s 90ms/step - loss: 1.0327 - accuracy: 0.6087 - val_loss: 1.2284 - val_accuracy: 0.5833\n",
      "Epoch 28/72\n",
      "1/1 [==============================] - ETA: 0s - loss: 1.0245 - accuracy: 0.5870\n",
      "Epoch 00028: val_loss improved from 1.22836 to 1.13828, saving model to saved_models\\weights.best.basic_cnn.hdf5\n",
      "1/1 [==============================] - 0s 161ms/step - loss: 1.0245 - accuracy: 0.5870 - val_loss: 1.1383 - val_accuracy: 0.5833\n",
      "Epoch 29/72\n",
      "1/1 [==============================] - ETA: 0s - loss: 0.7644 - accuracy: 0.6957\n",
      "Epoch 00029: val_loss improved from 1.13828 to 1.07306, saving model to saved_models\\weights.best.basic_cnn.hdf5\n",
      "1/1 [==============================] - 0s 124ms/step - loss: 0.7644 - accuracy: 0.6957 - val_loss: 1.0731 - val_accuracy: 0.5000\n",
      "Epoch 30/72\n",
      "1/1 [==============================] - ETA: 0s - loss: 1.2164 - accuracy: 0.5870\n",
      "Epoch 00030: val_loss improved from 1.07306 to 1.02947, saving model to saved_models\\weights.best.basic_cnn.hdf5\n",
      "1/1 [==============================] - 0s 206ms/step - loss: 1.2164 - accuracy: 0.5870 - val_loss: 1.0295 - val_accuracy: 0.4167\n",
      "Epoch 31/72\n",
      "1/1 [==============================] - ETA: 0s - loss: 1.0444 - accuracy: 0.5652\n",
      "Epoch 00031: val_loss improved from 1.02947 to 1.00270, saving model to saved_models\\weights.best.basic_cnn.hdf5\n",
      "1/1 [==============================] - 0s 206ms/step - loss: 1.0444 - accuracy: 0.5652 - val_loss: 1.0027 - val_accuracy: 0.4167\n",
      "Epoch 32/72\n",
      "1/1 [==============================] - ETA: 0s - loss: 1.1248 - accuracy: 0.5217\n",
      "Epoch 00032: val_loss improved from 1.00270 to 0.98459, saving model to saved_models\\weights.best.basic_cnn.hdf5\n",
      "1/1 [==============================] - 0s 157ms/step - loss: 1.1248 - accuracy: 0.5217 - val_loss: 0.9846 - val_accuracy: 0.4167\n",
      "Epoch 33/72\n",
      "1/1 [==============================] - ETA: 0s - loss: 0.9959 - accuracy: 0.6522\n",
      "Epoch 00033: val_loss improved from 0.98459 to 0.97434, saving model to saved_models\\weights.best.basic_cnn.hdf5\n",
      "1/1 [==============================] - 0s 90ms/step - loss: 0.9959 - accuracy: 0.6522 - val_loss: 0.9743 - val_accuracy: 0.4167\n",
      "Epoch 34/72\n",
      "1/1 [==============================] - ETA: 0s - loss: 0.9287 - accuracy: 0.5870\n",
      "Epoch 00034: val_loss improved from 0.97434 to 0.97145, saving model to saved_models\\weights.best.basic_cnn.hdf5\n",
      "1/1 [==============================] - 0s 83ms/step - loss: 0.9287 - accuracy: 0.5870 - val_loss: 0.9715 - val_accuracy: 0.4167\n",
      "Epoch 35/72\n",
      "1/1 [==============================] - ETA: 0s - loss: 0.7879 - accuracy: 0.5870\n",
      "Epoch 00035: val_loss did not improve from 0.97145\n",
      "1/1 [==============================] - 0s 111ms/step - loss: 0.7879 - accuracy: 0.5870 - val_loss: 0.9768 - val_accuracy: 0.5833\n",
      "Epoch 36/72\n",
      "1/1 [==============================] - ETA: 0s - loss: 0.8036 - accuracy: 0.6522\n",
      "Epoch 00036: val_loss did not improve from 0.97145\n",
      "1/1 [==============================] - 0s 76ms/step - loss: 0.8036 - accuracy: 0.6522 - val_loss: 0.9890 - val_accuracy: 0.5833\n",
      "Epoch 37/72\n",
      "1/1 [==============================] - ETA: 0s - loss: 0.8780 - accuracy: 0.6304\n",
      "Epoch 00037: val_loss did not improve from 0.97145\n",
      "1/1 [==============================] - 0s 84ms/step - loss: 0.8780 - accuracy: 0.6304 - val_loss: 1.0082 - val_accuracy: 0.5833\n",
      "Epoch 38/72\n",
      "1/1 [==============================] - ETA: 0s - loss: 0.8289 - accuracy: 0.6304\n",
      "Epoch 00038: val_loss did not improve from 0.97145\n",
      "1/1 [==============================] - 0s 92ms/step - loss: 0.8289 - accuracy: 0.6304 - val_loss: 1.0278 - val_accuracy: 0.5833\n",
      "Epoch 39/72\n",
      "1/1 [==============================] - ETA: 0s - loss: 0.7863 - accuracy: 0.6522\n",
      "Epoch 00039: val_loss did not improve from 0.97145\n",
      "1/1 [==============================] - 0s 151ms/step - loss: 0.7863 - accuracy: 0.6522 - val_loss: 1.0452 - val_accuracy: 0.5833\n",
      "Epoch 40/72\n",
      "1/1 [==============================] - ETA: 0s - loss: 0.6546 - accuracy: 0.8043\n",
      "Epoch 00040: val_loss did not improve from 0.97145\n",
      "1/1 [==============================] - 0s 136ms/step - loss: 0.6546 - accuracy: 0.8043 - val_loss: 1.0521 - val_accuracy: 0.5833\n",
      "Epoch 41/72\n",
      "1/1 [==============================] - ETA: 0s - loss: 0.5874 - accuracy: 0.8478\n",
      "Epoch 00041: val_loss did not improve from 0.97145\n",
      "1/1 [==============================] - 0s 92ms/step - loss: 0.5874 - accuracy: 0.8478 - val_loss: 1.0493 - val_accuracy: 0.5833\n",
      "Epoch 42/72\n",
      "1/1 [==============================] - ETA: 0s - loss: 0.6230 - accuracy: 0.7609\n",
      "Epoch 00042: val_loss did not improve from 0.97145\n",
      "1/1 [==============================] - 0s 161ms/step - loss: 0.6230 - accuracy: 0.7609 - val_loss: 1.0365 - val_accuracy: 0.5833\n",
      "Epoch 43/72\n",
      "1/1 [==============================] - ETA: 0s - loss: 0.6097 - accuracy: 0.7826\n",
      "Epoch 00043: val_loss did not improve from 0.97145\n",
      "1/1 [==============================] - 0s 110ms/step - loss: 0.6097 - accuracy: 0.7826 - val_loss: 1.0131 - val_accuracy: 0.5833\n",
      "Epoch 44/72\n",
      "1/1 [==============================] - ETA: 0s - loss: 0.5596 - accuracy: 0.7609\n",
      "Epoch 00044: val_loss did not improve from 0.97145\n",
      "1/1 [==============================] - 0s 80ms/step - loss: 0.5596 - accuracy: 0.7609 - val_loss: 0.9821 - val_accuracy: 0.7500\n",
      "Epoch 45/72\n",
      "1/1 [==============================] - ETA: 0s - loss: 0.6412 - accuracy: 0.7826\n",
      "Epoch 00045: val_loss improved from 0.97145 to 0.94728, saving model to saved_models\\weights.best.basic_cnn.hdf5\n",
      "1/1 [==============================] - 0s 108ms/step - loss: 0.6412 - accuracy: 0.7826 - val_loss: 0.9473 - val_accuracy: 0.7500\n",
      "Epoch 46/72\n",
      "1/1 [==============================] - ETA: 0s - loss: 0.5376 - accuracy: 0.7391\n",
      "Epoch 00046: val_loss improved from 0.94728 to 0.91136, saving model to saved_models\\weights.best.basic_cnn.hdf5\n",
      "1/1 [==============================] - 0s 106ms/step - loss: 0.5376 - accuracy: 0.7391 - val_loss: 0.9114 - val_accuracy: 0.7500\n",
      "Epoch 47/72\n",
      "1/1 [==============================] - ETA: 0s - loss: 0.5929 - accuracy: 0.7826\n",
      "Epoch 00047: val_loss improved from 0.91136 to 0.87440, saving model to saved_models\\weights.best.basic_cnn.hdf5\n",
      "1/1 [==============================] - 0s 83ms/step - loss: 0.5929 - accuracy: 0.7826 - val_loss: 0.8744 - val_accuracy: 0.7500\n",
      "Epoch 48/72\n",
      "1/1 [==============================] - ETA: 0s - loss: 0.5404 - accuracy: 0.8043\n",
      "Epoch 00048: val_loss improved from 0.87440 to 0.83775, saving model to saved_models\\weights.best.basic_cnn.hdf5\n",
      "1/1 [==============================] - 0s 79ms/step - loss: 0.5404 - accuracy: 0.8043 - val_loss: 0.8378 - val_accuracy: 0.7500\n",
      "Epoch 49/72\n",
      "1/1 [==============================] - ETA: 0s - loss: 0.5772 - accuracy: 0.7391\n",
      "Epoch 00049: val_loss improved from 0.83775 to 0.80108, saving model to saved_models\\weights.best.basic_cnn.hdf5\n",
      "1/1 [==============================] - 0s 89ms/step - loss: 0.5772 - accuracy: 0.7391 - val_loss: 0.8011 - val_accuracy: 0.7500\n",
      "Epoch 50/72\n",
      "1/1 [==============================] - ETA: 0s - loss: 0.4417 - accuracy: 0.8696\n",
      "Epoch 00050: val_loss improved from 0.80108 to 0.76548, saving model to saved_models\\weights.best.basic_cnn.hdf5\n",
      "1/1 [==============================] - 0s 87ms/step - loss: 0.4417 - accuracy: 0.8696 - val_loss: 0.7655 - val_accuracy: 0.7500\n",
      "Epoch 51/72\n",
      "1/1 [==============================] - ETA: 0s - loss: 0.4067 - accuracy: 0.8043\n",
      "Epoch 00051: val_loss improved from 0.76548 to 0.73190, saving model to saved_models\\weights.best.basic_cnn.hdf5\n",
      "1/1 [==============================] - 0s 83ms/step - loss: 0.4067 - accuracy: 0.8043 - val_loss: 0.7319 - val_accuracy: 0.7500\n",
      "Epoch 52/72\n",
      "1/1 [==============================] - ETA: 0s - loss: 0.4323 - accuracy: 0.8478\n",
      "Epoch 00052: val_loss improved from 0.73190 to 0.70099, saving model to saved_models\\weights.best.basic_cnn.hdf5\n",
      "1/1 [==============================] - 0s 90ms/step - loss: 0.4323 - accuracy: 0.8478 - val_loss: 0.7010 - val_accuracy: 0.7500\n",
      "Epoch 53/72\n",
      "1/1 [==============================] - ETA: 0s - loss: 0.3764 - accuracy: 0.8913\n",
      "Epoch 00053: val_loss improved from 0.70099 to 0.67282, saving model to saved_models\\weights.best.basic_cnn.hdf5\n",
      "1/1 [==============================] - 0s 105ms/step - loss: 0.3764 - accuracy: 0.8913 - val_loss: 0.6728 - val_accuracy: 0.8333\n"
     ]
    },
    {
     "name": "stdout",
     "output_type": "stream",
     "text": [
      "Epoch 54/72\n",
      "1/1 [==============================] - ETA: 0s - loss: 0.3790 - accuracy: 0.8478\n",
      "Epoch 00054: val_loss improved from 0.67282 to 0.64866, saving model to saved_models\\weights.best.basic_cnn.hdf5\n",
      "1/1 [==============================] - 0s 75ms/step - loss: 0.3790 - accuracy: 0.8478 - val_loss: 0.6487 - val_accuracy: 0.8333\n",
      "Epoch 55/72\n",
      "1/1 [==============================] - ETA: 0s - loss: 0.4342 - accuracy: 0.8261\n",
      "Epoch 00055: val_loss improved from 0.64866 to 0.62656, saving model to saved_models\\weights.best.basic_cnn.hdf5\n",
      "1/1 [==============================] - 0s 91ms/step - loss: 0.4342 - accuracy: 0.8261 - val_loss: 0.6266 - val_accuracy: 0.9167\n",
      "Epoch 56/72\n",
      "1/1 [==============================] - ETA: 0s - loss: 0.3977 - accuracy: 0.9130\n",
      "Epoch 00056: val_loss improved from 0.62656 to 0.60666, saving model to saved_models\\weights.best.basic_cnn.hdf5\n",
      "1/1 [==============================] - 0s 90ms/step - loss: 0.3977 - accuracy: 0.9130 - val_loss: 0.6067 - val_accuracy: 0.9167\n",
      "Epoch 57/72\n",
      "1/1 [==============================] - ETA: 0s - loss: 0.3626 - accuracy: 0.9130\n",
      "Epoch 00057: val_loss improved from 0.60666 to 0.58901, saving model to saved_models\\weights.best.basic_cnn.hdf5\n",
      "1/1 [==============================] - 0s 79ms/step - loss: 0.3626 - accuracy: 0.9130 - val_loss: 0.5890 - val_accuracy: 0.9167\n",
      "Epoch 58/72\n",
      "1/1 [==============================] - ETA: 0s - loss: 0.2937 - accuracy: 0.9565\n",
      "Epoch 00058: val_loss improved from 0.58901 to 0.57191, saving model to saved_models\\weights.best.basic_cnn.hdf5\n",
      "1/1 [==============================] - 0s 169ms/step - loss: 0.2937 - accuracy: 0.9565 - val_loss: 0.5719 - val_accuracy: 0.9167\n",
      "Epoch 59/72\n",
      "1/1 [==============================] - ETA: 0s - loss: 0.3742 - accuracy: 0.8913\n",
      "Epoch 00059: val_loss improved from 0.57191 to 0.55643, saving model to saved_models\\weights.best.basic_cnn.hdf5\n",
      "1/1 [==============================] - 0s 132ms/step - loss: 0.3742 - accuracy: 0.8913 - val_loss: 0.5564 - val_accuracy: 0.9167\n",
      "Epoch 60/72\n",
      "1/1 [==============================] - ETA: 0s - loss: 0.3263 - accuracy: 0.9130\n",
      "Epoch 00060: val_loss improved from 0.55643 to 0.54071, saving model to saved_models\\weights.best.basic_cnn.hdf5\n",
      "1/1 [==============================] - 0s 86ms/step - loss: 0.3263 - accuracy: 0.9130 - val_loss: 0.5407 - val_accuracy: 0.9167\n",
      "Epoch 61/72\n",
      "1/1 [==============================] - ETA: 0s - loss: 0.2896 - accuracy: 0.9565\n",
      "Epoch 00061: val_loss improved from 0.54071 to 0.52424, saving model to saved_models\\weights.best.basic_cnn.hdf5\n",
      "1/1 [==============================] - 0s 118ms/step - loss: 0.2896 - accuracy: 0.9565 - val_loss: 0.5242 - val_accuracy: 0.9167\n",
      "Epoch 62/72\n",
      "1/1 [==============================] - ETA: 0s - loss: 0.2752 - accuracy: 0.8913\n",
      "Epoch 00062: val_loss improved from 0.52424 to 0.50688, saving model to saved_models\\weights.best.basic_cnn.hdf5\n",
      "1/1 [==============================] - 0s 85ms/step - loss: 0.2752 - accuracy: 0.8913 - val_loss: 0.5069 - val_accuracy: 0.9167\n",
      "Epoch 63/72\n",
      "1/1 [==============================] - ETA: 0s - loss: 0.2601 - accuracy: 0.9783\n",
      "Epoch 00063: val_loss improved from 0.50688 to 0.48988, saving model to saved_models\\weights.best.basic_cnn.hdf5\n",
      "1/1 [==============================] - 0s 95ms/step - loss: 0.2601 - accuracy: 0.9783 - val_loss: 0.4899 - val_accuracy: 0.9167\n",
      "Epoch 64/72\n",
      "1/1 [==============================] - ETA: 0s - loss: 0.2439 - accuracy: 0.9348\n",
      "Epoch 00064: val_loss improved from 0.48988 to 0.47157, saving model to saved_models\\weights.best.basic_cnn.hdf5\n",
      "1/1 [==============================] - 0s 78ms/step - loss: 0.2439 - accuracy: 0.9348 - val_loss: 0.4716 - val_accuracy: 0.9167\n",
      "Epoch 65/72\n",
      "1/1 [==============================] - ETA: 0s - loss: 0.2122 - accuracy: 0.9783\n",
      "Epoch 00065: val_loss improved from 0.47157 to 0.45382, saving model to saved_models\\weights.best.basic_cnn.hdf5\n",
      "1/1 [==============================] - 0s 81ms/step - loss: 0.2122 - accuracy: 0.9783 - val_loss: 0.4538 - val_accuracy: 0.9167\n",
      "Epoch 66/72\n",
      "1/1 [==============================] - ETA: 0s - loss: 0.2547 - accuracy: 0.9130\n",
      "Epoch 00066: val_loss improved from 0.45382 to 0.43574, saving model to saved_models\\weights.best.basic_cnn.hdf5\n",
      "1/1 [==============================] - 0s 91ms/step - loss: 0.2547 - accuracy: 0.9130 - val_loss: 0.4357 - val_accuracy: 0.9167\n",
      "Epoch 67/72\n",
      "1/1 [==============================] - ETA: 0s - loss: 0.2264 - accuracy: 0.9565\n",
      "Epoch 00067: val_loss improved from 0.43574 to 0.41775, saving model to saved_models\\weights.best.basic_cnn.hdf5\n",
      "1/1 [==============================] - 0s 78ms/step - loss: 0.2264 - accuracy: 0.9565 - val_loss: 0.4177 - val_accuracy: 0.9167\n",
      "Epoch 68/72\n",
      "1/1 [==============================] - ETA: 0s - loss: 0.2278 - accuracy: 0.8696\n",
      "Epoch 00068: val_loss improved from 0.41775 to 0.40074, saving model to saved_models\\weights.best.basic_cnn.hdf5\n",
      "1/1 [==============================] - 0s 79ms/step - loss: 0.2278 - accuracy: 0.8696 - val_loss: 0.4007 - val_accuracy: 0.9167\n",
      "Epoch 69/72\n",
      "1/1 [==============================] - ETA: 0s - loss: 0.1754 - accuracy: 0.9565\n",
      "Epoch 00069: val_loss improved from 0.40074 to 0.38569, saving model to saved_models\\weights.best.basic_cnn.hdf5\n",
      "1/1 [==============================] - 0s 90ms/step - loss: 0.1754 - accuracy: 0.9565 - val_loss: 0.3857 - val_accuracy: 0.9167\n",
      "Epoch 70/72\n",
      "1/1 [==============================] - ETA: 0s - loss: 0.1627 - accuracy: 0.9783\n",
      "Epoch 00070: val_loss improved from 0.38569 to 0.37214, saving model to saved_models\\weights.best.basic_cnn.hdf5\n",
      "1/1 [==============================] - 1s 1s/step - loss: 0.1627 - accuracy: 0.9783 - val_loss: 0.3721 - val_accuracy: 0.9167\n",
      "Epoch 71/72\n",
      "1/1 [==============================] - ETA: 0s - loss: 0.1354 - accuracy: 1.0000\n",
      "Epoch 00071: val_loss improved from 0.37214 to 0.35974, saving model to saved_models\\weights.best.basic_cnn.hdf5\n",
      "1/1 [==============================] - 0s 106ms/step - loss: 0.1354 - accuracy: 1.0000 - val_loss: 0.3597 - val_accuracy: 1.0000\n",
      "Epoch 72/72\n",
      "1/1 [==============================] - ETA: 0s - loss: 0.1907 - accuracy: 0.9565\n",
      "Epoch 00072: val_loss improved from 0.35974 to 0.34885, saving model to saved_models\\weights.best.basic_cnn.hdf5\n",
      "1/1 [==============================] - 0s 124ms/step - loss: 0.1907 - accuracy: 0.9565 - val_loss: 0.3488 - val_accuracy: 1.0000\n",
      "Training completed in time:  0:01:27.898677\n"
     ]
    }
   ],
   "source": [
    "from keras.callbacks import ModelCheckpoint \n",
    "from datetime import datetime \n",
    "\n",
    "#num_epochs = 12\n",
    "#num_batch_size = 128\n",
    "\n",
    "num_epochs = 72\n",
    "num_batch_size = 256\n",
    "\n",
    "checkpointer = ModelCheckpoint(\n",
    "    filepath='saved_models/weights.best.basic_cnn.hdf5', \n",
    "    verbose=1, \n",
    "    save_best_only=True\n",
    ")\n",
    "\n",
    "start = datetime.now()\n",
    "model.fit(\n",
    "    x_train, \n",
    "    y_train, \n",
    "    batch_size=num_batch_size, \n",
    "    epochs=num_epochs, \n",
    "    validation_data=(x_test, y_test), \n",
    "    callbacks=[checkpointer], \n",
    "    verbose=1\n",
    ")\n",
    "\n",
    "\n",
    "duration = datetime.now() - start\n",
    "print(\"Training completed in time: \", duration)"
   ]
  },
  {
   "cell_type": "markdown",
   "metadata": {},
   "source": [
    "### Test the model \n",
    "\n",
    "Here we will review the accuracy of the model on both the training and test data sets. "
   ]
  },
  {
   "cell_type": "code",
   "execution_count": 23,
   "metadata": {},
   "outputs": [
    {
     "name": "stdout",
     "output_type": "stream",
     "text": [
      "Training Accuracy:  1.0\n",
      "Testing Accuracy:  1.0\n"
     ]
    }
   ],
   "source": [
    "# Evaluating the model on the training and testing set\n",
    "score = model.evaluate(x_train, y_train, verbose=0)\n",
    "print(\"Training Accuracy: \", score[1])\n",
    "\n",
    "score = model.evaluate(x_test, y_test, verbose=0)\n",
    "print(\"Testing Accuracy: \", score[1])"
   ]
  },
  {
   "cell_type": "markdown",
   "metadata": {},
   "source": [
    "The Training and Testing accuracy scores are both high and an increase on our initial model. Training accuracy has increased by ~6% and Testing accuracy has increased by ~4%. \n",
    "\n",
    "There is a marginal increase in the difference between the Training and Test scores (~6% compared to ~5% previously) though the difference remains low so the model has not suffered from overfitting. "
   ]
  },
  {
   "cell_type": "markdown",
   "metadata": {},
   "source": [
    "### Predictions  \n",
    "\n",
    "Here we will modify our previous method for testing the models predictions on a specified audio .wav file. "
   ]
  },
  {
   "cell_type": "code",
   "execution_count": 30,
   "metadata": {},
   "outputs": [],
   "source": [
    "def print_prediction(file_name):\n",
    "    prediction_feature = extract_features(file_name) \n",
    "    prediction_feature = prediction_feature.reshape(1, num_rows, num_columns, num_channels)\n",
    "\n",
    "    predicted_vector = np.argmax(model.predict(prediction_feature), axis=-1)\n",
    "    predicted_class = le.inverse_transform(predicted_vector) \n",
    "    print(\"The predicted class is:\", predicted_class[0], '\\n') \n",
    "\n",
    "    predicted_proba_vector = model.predict_proba(prediction_feature) \n",
    "    predicted_proba = predicted_proba_vector[0]\n",
    "    for i in range(len(predicted_proba)): \n",
    "        category = le.inverse_transform(np.array([i]))\n",
    "        print(category[0], \"\\t\\t : \", format(predicted_proba[i], '.32f') )"
   ]
  },
  {
   "cell_type": "markdown",
   "metadata": {},
   "source": [
    "### Validation \n",
    "\n",
    "#### Test with sample data \n",
    "\n",
    "As before we will verify the predictions using a subsection of the sample audio files we explored in the first notebook. We expect the bulk of these to be classified correctly. "
   ]
  },
  {
   "cell_type": "code",
   "execution_count": 35,
   "metadata": {},
   "outputs": [
    {
     "name": "stdout",
     "output_type": "stream",
     "text": [
      "274 365 (40, 91)\n",
      "The predicted class is: A \n",
      "\n",
      "A \t\t :  0.44279378652572631835937500000000\n",
      "B \t\t :  0.03873376920819282531738281250000\n",
      "D \t\t :  0.09698215126991271972656250000000\n",
      "E \t\t :  0.13421411812305450439453125000000\n",
      "EH \t\t :  0.24673040211200714111328125000000\n",
      "G \t\t :  0.04054575040936470031738281250000\n"
     ]
    }
   ],
   "source": [
    "# Class: A\n",
    "\n",
    "filename = os.path.join(DATA_DIR, \"A\", \"A1.wav\")\n",
    "print_prediction(filename) "
   ]
  },
  {
   "cell_type": "code",
   "execution_count": 52,
   "metadata": {
    "scrolled": true
   },
   "outputs": [
    {
     "name": "stdout",
     "output_type": "stream",
     "text": [
      "The predicted class is: drilling \n",
      "\n",
      "air_conditioner \t\t :  0.00070991273969411849975585937500\n",
      "car_horn \t\t :  0.00000001777174851724794280016795\n",
      "children_playing \t\t :  0.00001405069633619859814643859863\n",
      "dog_bark \t\t :  0.00000047111242906794359441846609\n",
      "drilling \t\t :  0.99598699808120727539062500000000\n",
      "engine_idling \t\t :  0.00000354658413925790227949619293\n",
      "gun_shot \t\t :  0.00000003223207656333215709310025\n",
      "jackhammer \t\t :  0.00052903906907886266708374023438\n",
      "siren \t\t :  0.00000098340262866258854046463966\n",
      "street_music \t\t :  0.00275487988255918025970458984375\n"
     ]
    }
   ],
   "source": [
    "# Class: B\n",
    "\n",
    "filename = os.path.join(DATA_DIR, \"B\", \"B1.wav\")\n",
    "print_prediction(filename) "
   ]
  },
  {
   "cell_type": "code",
   "execution_count": 53,
   "metadata": {},
   "outputs": [
    {
     "name": "stdout",
     "output_type": "stream",
     "text": [
      "The predicted class is: street_music \n",
      "\n",
      "air_conditioner \t\t :  0.00011496015213197097182273864746\n",
      "car_horn \t\t :  0.00079288281267508864402770996094\n",
      "children_playing \t\t :  0.01791538484394550323486328125000\n",
      "dog_bark \t\t :  0.00257923710159957408905029296875\n",
      "drilling \t\t :  0.00007904539961600676178932189941\n",
      "engine_idling \t\t :  0.00006061193562345579266548156738\n",
      "gun_shot \t\t :  0.00000000007482268277181347571059\n",
      "jackhammer \t\t :  0.00000457825990451965481042861938\n",
      "siren \t\t :  0.00922307930886745452880859375000\n",
      "street_music \t\t :  0.96923023462295532226562500000000\n"
     ]
    }
   ],
   "source": [
    "# Class: D\n",
    "\n",
    "filename = os.path.join(DATA_DIR, \"D\", \"D1.wav\")\n",
    "print_prediction(filename) "
   ]
  },
  {
   "cell_type": "code",
   "execution_count": 34,
   "metadata": {},
   "outputs": [
    {
     "name": "stdout",
     "output_type": "stream",
     "text": [
      "240 365 (40, 125)\n",
      "The predicted class is: E \n",
      "\n",
      "A \t\t :  0.00500741647556424140930175781250\n",
      "B \t\t :  0.00262584001757204532623291015625\n",
      "D \t\t :  0.00001245124531124019995331764221\n",
      "E \t\t :  0.99197739362716674804687500000000\n",
      "EH \t\t :  0.00026903860270977020263671875000\n",
      "G \t\t :  0.00010790056694531813263893127441\n"
     ]
    }
   ],
   "source": [
    "# Class: E\n",
    "\n",
    "filename = os.path.join(DATA_DIR, \"E\", \"E1.wav\")\n",
    "print_prediction(filename) "
   ]
  },
  {
   "cell_type": "markdown",
   "metadata": {},
   "source": [
    "#### Observations \n",
    "\n",
    "We can see that the model performs well. \n",
    "\n",
    "Interestingly, car horn was again incorrectly classifed but this time as drilling - though the per class confidence shows it was a close decision between car horn with 26% confidence and drilling at 34% confidence.  "
   ]
  },
  {
   "cell_type": "markdown",
   "metadata": {},
   "source": [
    "### Other audio\n",
    "\n",
    "Again we will further validate our model using a sample of various copyright free sounds that we not part of either our test or training data. "
   ]
  },
  {
   "cell_type": "code",
   "execution_count": 33,
   "metadata": {},
   "outputs": [
    {
     "name": "stdout",
     "output_type": "stream",
     "text": [
      "278 365 (40, 87)\n",
      "The predicted class is: EH \n",
      "\n",
      "A \t\t :  0.21721151471138000488281250000000\n",
      "B \t\t :  0.03729132190346717834472656250000\n",
      "D \t\t :  0.06721183657646179199218750000000\n",
      "E \t\t :  0.05496610701084136962890625000000\n",
      "EH \t\t :  0.56571435928344726562500000000000\n",
      "G \t\t :  0.05760479718446731567382812500000\n"
     ]
    }
   ],
   "source": [
    "# Class: EH\n",
    "\n",
    "filename = os.path.join(DATA_DIR, \"EH\", \"E1.wav\")\n",
    "print_prediction(filename) "
   ]
  },
  {
   "cell_type": "code",
   "execution_count": 32,
   "metadata": {
    "scrolled": true
   },
   "outputs": [
    {
     "name": "stdout",
     "output_type": "stream",
     "text": [
      "249 365 (40, 116)\n",
      "The predicted class is: G \n",
      "\n",
      "A \t\t :  0.04788042232394218444824218750000\n",
      "B \t\t :  0.06000442057847976684570312500000\n",
      "D \t\t :  0.13914313912391662597656250000000\n",
      "E \t\t :  0.04142617434263229370117187500000\n",
      "EH \t\t :  0.10056187212467193603515625000000\n",
      "G \t\t :  0.61098396778106689453125000000000\n"
     ]
    }
   ],
   "source": [
    "# Class: G\n",
    "\n",
    "filename = os.path.join(DATA_DIR, \"G\", \"G1.wav\")\n",
    "print_prediction(filename) "
   ]
  },
  {
   "cell_type": "markdown",
   "metadata": {},
   "source": [
    "#### Observations \n",
    "\n",
    "The performance of our final model is very good and has generalised well, seeming to predict well when tested against new audio data. "
   ]
  }
 ],
 "metadata": {
  "kernelspec": {
   "display_name": "Python 3",
   "language": "python",
   "name": "python3"
  },
  "language_info": {
   "codemirror_mode": {
    "name": "ipython",
    "version": 3
   },
   "file_extension": ".py",
   "mimetype": "text/x-python",
   "name": "python",
   "nbconvert_exporter": "python",
   "pygments_lexer": "ipython3",
   "version": "3.7.2"
  }
 },
 "nbformat": 4,
 "nbformat_minor": 2
}

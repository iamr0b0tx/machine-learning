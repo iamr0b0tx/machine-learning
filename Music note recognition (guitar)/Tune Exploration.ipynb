{
 "cells": [
  {
   "cell_type": "code",
   "execution_count": 3,
   "metadata": {},
   "outputs": [
    {
     "name": "stdout",
     "output_type": "stream",
     "text": [
      "The autoreload extension is already loaded. To reload it, use:\n",
      "  %reload_ext autoreload\n"
     ]
    }
   ],
   "source": [
    "%load_ext autoreload\n",
    "%autoreload 2"
   ]
  },
  {
   "cell_type": "code",
   "execution_count": 4,
   "metadata": {},
   "outputs": [],
   "source": [
    "import sounddevice as sd\n",
    "import librosa\n",
    "\n",
    "import matplotlib.pyplot as plt\n",
    "import numpy as np\n",
    "import math\n",
    "\n",
    "import os\n",
    "\n",
    "import array\n",
    "import scipy\n",
    "import numpy as np\n",
    "from pydub import AudioSegment\n",
    "from pydub.utils import get_array_type\n",
    "\n",
    "# DATA_DIR = os.path.join(\"data\" , \"old_guitar_sample\")\n",
    "DATA_DIR = os.path.join(\"data\" , \"guitar_sample\")"
   ]
  },
  {
   "cell_type": "code",
   "execution_count": 5,
   "metadata": {},
   "outputs": [],
   "source": [
    "def fft(f):\n",
    "    Ni = len(f)\n",
    "    Mi = int(Ni / 2)\n",
    "    if Mi <= 2:\n",
    "        return [f[0] + f[1] + f[2] + f[3], \n",
    "               f[0] - 1j*f[1] - f[2] + 1j*f[3],\n",
    "               f[0] - f[1] + f[2] - f[3],\n",
    "               f[0] + 1j*f[1] - f[2] - 1j*f[3]]\n",
    "    \n",
    "    wn = math.cos(2*math.pi/Ni) - 1j*math.sin(2*math.pi/Ni)\n",
    "    fe = [f[i] for i in range(Ni) if i % 2 == 0]\n",
    "    fo = [f[i] for i in range(Ni) if i % 2 == 1]\n",
    "    Fe = fft(fe)\n",
    "    Fo = fft(fo)\n",
    "    return [np.around(Fe[i] + (wn**i)*Fo[i], decimals=10) for i in range(Mi)] + [np.around(Fe[i] - (wn**i)*Fo[i], decimals=10) for i in range(Mi)]\n",
    "\n",
    "def get_pressed(f, spectrum):\n",
    "    fh = [329, 247, 196, 147, 110, 82]\n",
    "    notes = [\"EH\", \"B\", \"G\", \"D\", \"A\", \"EL\"]\n",
    "    \n",
    "    f, spectrum = zip(*sorted(zip(f, spectrum), key=lambda x: x[1], reverse=True))\n",
    "    f1 = f[0]\n",
    "    f2 = None\n",
    "    for fi in f:\n",
    "        if abs(fi - f1) >= 200:\n",
    "            f2 = fi\n",
    "            break\n",
    "    \n",
    "#     print(np.array(f)[np.array(spectrum).argsort()[::-1]][:10])\n",
    "    f1, f2 = min(f1, f2), max(f1, f2)\n",
    "    rows, _ = zip(*sorted(zip([i for i in range(len(fh))], [abs(f1 - fi) for fi in fh]), key=lambda x: x[1]))\n",
    "    row = rows[0]\n",
    "    \n",
    "    print(f'  Frequencies detected {notes[row]}[{row}]: {f1}Hz, {f2}Hz.', min(f))\n",
    "    return notes[row]\n",
    "        \n",
    "def get_audio_data(filename=None, quiet=True):\n",
    "    fs = 2**12 # sample rate\n",
    "    tp = 2 # sampling duration\n",
    "    N = n = fs*tp # number of samples\n",
    "    \n",
    "    # Extract data and sampling rate from file\n",
    "    recording, fs = librosa.load(filename, sr=fs, duration=tp)\n",
    "    recording = recording.reshape((-1, 1))\n",
    "\n",
    "    n = len(recording)        \n",
    "    tp = int(n / fs)\n",
    "\n",
    "    if tp < 2:\n",
    "        pad_width = N - recording.shape[0]\n",
    "        recording = np.pad(recording, pad_width=((0, pad_width), (0, 0)), mode='constant')\n",
    "\n",
    "        n = len(recording)\n",
    "        tp = int(n / fs)\n",
    "\n",
    "    N = fs*tp # number of samples\n",
    "    x = [round(float(recording[i]), 10) for i in range(n)] # input sequence\n",
    "    return x, tp, n\n",
    "\n",
    "def get_frequency_amplitude(x, tp, N):\n",
    "    _X = fft(x) # discrete Fourier transform\n",
    "    X = [round(Xi/N, 10) for Xi in _X] # frequency spectrum\n",
    "    X_amp = [np.absolute(Xi) for Xi in X] # amplitude spectrum\n",
    "\n",
    "    M = int(N/2)\n",
    "    ti = [i*tp/N for i in range(N)]\n",
    "    fi = [i/tp for i in range(M)]\n",
    "    X_amp = np.array(X_amp[:M])*2\n",
    "    \n",
    "    return ti, fi, X_amp\n",
    "\n",
    "def extract_features2(file_name):\n",
    "    try:\n",
    "        song = AudioSegment.from_file(file_name)\n",
    "        features = np.array(frequency_spectrum(song))\n",
    "        print(features.shape)\n",
    "\n",
    "    except Exception as e:\n",
    "        print(\"Error encountered while parsing file: \", file_name, e)\n",
    "        return None \n",
    "     \n",
    "    return features\n",
    "\n",
    "def frequency_spectrum(sample, max_frequency=800):\n",
    "    \"\"\"\n",
    "    Derive frequency spectrum of a signal pydub.AudioSample\n",
    "    Returns an array of frequencies and an array of how prevelant that frequency is in the sample\n",
    "    \"\"\"\n",
    "    # Convert pydub.AudioSample to raw audio data\n",
    "    # Copied from Jiaaro's answer on https://stackoverflow.com/questions/32373996/pydub-raw-audio-data\n",
    "    bit_depth = sample.sample_width * 8\n",
    "    array_type = get_array_type(bit_depth)\n",
    "    raw_audio_data = array.array(array_type, sample._data)\n",
    "    n = len(raw_audio_data)\n",
    "\n",
    "    # Compute FFT and frequency value for each index in FFT array\n",
    "    # Inspired by Reveille's answer on https://stackoverflow.com/questions/53308674/audio-frequencies-in-python\n",
    "    freq_array = np.arange(n) * (float(sample.frame_rate) / n)  # two sides frequency range\n",
    "    freq_array = freq_array[: (n // 2)]  # one side frequency range\n",
    "\n",
    "    raw_audio_data = raw_audio_data - np.average(raw_audio_data)  # zero-centering\n",
    "    freq_magnitude = scipy.fft.fft(raw_audio_data)  # fft computing and normalization\n",
    "    freq_magnitude = freq_magnitude[: (n // 2)]  # one side\n",
    "\n",
    "    if max_frequency:\n",
    "        max_index = int(max_frequency * n / sample.frame_rate) + 1\n",
    "        freq_array = freq_array[:max_index]\n",
    "        freq_magnitude = freq_magnitude[:max_index]\n",
    "\n",
    "    freq_magnitude = abs(freq_magnitude)\n",
    "    freq_magnitude = freq_magnitude / np.sum(freq_magnitude)\n",
    "    return freq_array, freq_magnitude"
   ]
  },
  {
   "cell_type": "code",
   "execution_count": 6,
   "metadata": {},
   "outputs": [],
   "source": [
    "# x, tp, N = get_audio_data()\n",
    "# print(x[:5], len(x))"
   ]
  },
  {
   "cell_type": "code",
   "execution_count": 7,
   "metadata": {
    "scrolled": false
   },
   "outputs": [
    {
     "name": "stdout",
     "output_type": "stream",
     "text": [
      "[0.0006707453, 0.0106267091, 0.0102058174, 0.0119427675, 0.0068773152] 8192\n",
      "(2, 1451)\n",
      "[7.99542368e+02 9.03221102e-02]\n"
     ]
    }
   ],
   "source": [
    "filename = os.path.join(DATA_DIR, \"0A\", \"A out tune#27.wav\")\n",
    "# filename = os.path.join(DATA_DIR, \"1A\", \"A sample 17.wav\")\n",
    "filename = os.path.join(DATA_DIR, \"1A\", \"A sample 1.wav\")\n",
    "# filename = \"C:\\\\Users\\\\christian\\\\Documents\\\\christian\\\\work\\\\python\\\\guitar_music_note_recognizer\\\\media\\\\1\\\\sample.wav\"\n",
    "\n",
    "x, tp, N = get_audio_data(filename)\n",
    "print(x[:5], len(x))\n",
    "\n",
    "features = extract_features2(filename)\n",
    "print(features.max(1))"
   ]
  },
  {
   "cell_type": "code",
   "execution_count": 8,
   "metadata": {},
   "outputs": [
    {
     "data": {
      "text/plain": [
       "(8192, 13.0)"
      ]
     },
     "execution_count": 8,
     "metadata": {},
     "output_type": "execute_result"
    }
   ],
   "source": [
    "# 8628\n",
    "N, math.log(N, 2)"
   ]
  },
  {
   "cell_type": "code",
   "execution_count": 9,
   "metadata": {},
   "outputs": [
    {
     "name": "stdout",
     "output_type": "stream",
     "text": [
      "shape: ti = 8192, fi = 4096, X_amp = 4096 0.023595093546467258\n"
     ]
    }
   ],
   "source": [
    "ti, fi, X_amp = get_frequency_amplitude(x, tp, N)\n",
    "\n",
    "print(f\"shape: ti = {len(ti)}, fi = {len(fi)}, X_amp = {len(X_amp)}\", max(X_amp))"
   ]
  },
  {
   "cell_type": "code",
   "execution_count": 10,
   "metadata": {},
   "outputs": [
    {
     "name": "stdout",
     "output_type": "stream",
     "text": [
      "  Frequencies detected A[4]: 108.5Hz, 434.0Hz. 0.0\n",
      "A was pressed.\n"
     ]
    }
   ],
   "source": [
    "pressed = get_pressed(fi, X_amp)\n",
    "print(pressed, 'was pressed.')"
   ]
  },
  {
   "cell_type": "code",
   "execution_count": 11,
   "metadata": {},
   "outputs": [
    {
     "data": {
      "image/png": "[encoded data removed]",
      "text/plain": [
       "<Figure size 432x288 with 2 Axes>"
      ]
     },
     "metadata": {
      "needs_background": "light"
     },
     "output_type": "display_data"
    }
   ],
   "source": [
    "plt.subplots_adjust(wspace=0.4, hspace=0.4)\n",
    "\n",
    "ax1= plt.subplot(211)\n",
    "plt.plot(ti, x)\n",
    "plt.xlabel('t (seconds)')\n",
    "plt.ylabel('x(t)')\n",
    "plt.minorticks_on()\n",
    "plt.grid(b=True, which='major', linestyle='-')\n",
    "plt.grid(b=True, which='minor', linestyle='--')\n",
    "\n",
    "ax2 = plt.subplot(212)\n",
    "plt.plot(fi, X_amp)\n",
    "plt.xlabel('f (hertz)')\n",
    "plt.ylabel('|X(f)|')\n",
    "ax2.set_xscale('log')\n",
    "plt.minorticks_on()\n",
    "plt.grid(b=True, which='major', linestyle='-')\n",
    "plt.grid(b=True, which='minor', linestyle='--')\n",
    "\n",
    "plt.show()"
   ]
  },
  {
   "cell_type": "code",
   "execution_count": 12,
   "metadata": {},
   "outputs": [
    {
     "name": "stdout",
     "output_type": "stream",
     "text": [
      "  Frequencies detected A[4]: 108.5Hz, 434.0Hz. 0.0\n",
      "A was pressed.\n"
     ]
    }
   ],
   "source": [
    "pressed = get_pressed(fi, X_amp)\n",
    "print(pressed, 'was pressed.')"
   ]
  },
  {
   "cell_type": "code",
   "execution_count": 13,
   "metadata": {},
   "outputs": [
    {
     "data": {
      "image/png": "[encoded data removed]",
      "text/plain": [
       "<Figure size 432x288 with 2 Axes>"
      ]
     },
     "metadata": {
      "needs_background": "light"
     },
     "output_type": "display_data"
    }
   ],
   "source": [
    "plt.subplots_adjust(wspace=0.4, hspace=0.4)\n",
    "\n",
    "ax1= plt.subplot(211)\n",
    "plt.plot(ti, x)\n",
    "plt.xlabel('t (seconds)')\n",
    "plt.ylabel('x(t)')\n",
    "plt.minorticks_on()\n",
    "plt.grid(b=True, which='major', linestyle='-')\n",
    "plt.grid(b=True, which='minor', linestyle='--')\n",
    "\n",
    "ax2 = plt.subplot(212)\n",
    "plt.plot(fi, X_amp)\n",
    "plt.xlabel('f (hertz)')\n",
    "plt.ylabel('|X(f)|')\n",
    "ax2.set_xscale('log')\n",
    "plt.minorticks_on()\n",
    "plt.grid(b=True, which='major', linestyle='-')\n",
    "plt.grid(b=True, which='minor', linestyle='--')\n",
    "\n",
    "plt.show()"
   ]
  },
  {
   "cell_type": "code",
   "execution_count": 14,
   "metadata": {},
   "outputs": [
    {
     "data": {
      "text/plain": [
       "0.023595093546467258"
      ]
     },
     "execution_count": 14,
     "metadata": {},
     "output_type": "execute_result"
    }
   ],
   "source": [
    "max(X_amp)"
   ]
  },
  {
   "cell_type": "code",
   "execution_count": 15,
   "metadata": {},
   "outputs": [
    {
     "name": "stdout",
     "output_type": "stream",
     "text": [
      "0A\n",
      "  Frequencies detected A[4]: 110.0Hz, 330.0Hz. 0.0\n",
      "  Frequencies detected B[1]: 224.5Hz, 449.5Hz. 0.0\n",
      "  Frequencies detected A[4]: 118.5Hz, 356.0Hz. 0.0\n",
      "  Frequencies detected A[4]: 122.5Hz, 367.5Hz. 0.0\n",
      "  Frequencies detected A[4]: 125.5Hz, 373.5Hz. 0.0\n",
      "  Frequencies detected D[3]: 131.0Hz, 389.5Hz. 0.0\n",
      "  Frequencies detected D[3]: 134.5Hz, 405.0Hz. 0.0\n",
      "  Frequencies detected D[3]: 138.5Hz, 415.0Hz. 0.0\n",
      "  Frequencies detected D[3]: 134.0Hz, 402.5Hz. 0.0\n",
      "  Frequencies detected D[3]: 142.0Hz, 429.5Hz. 0.0\n",
      "  Frequencies detected A[4]: 107.0Hz, 321.5Hz. 0.0\n",
      "  Frequencies detected B[1]: 257.5Hz, 644.0Hz. 0.0\n",
      "  Frequencies detected A[4]: 119.5Hz, 359.0Hz. 0.0\n",
      "  Frequencies detected A[4]: 113.5Hz, 321.5Hz. 0.0\n",
      "  Frequencies detected G[2]: 199.5Hz, 399.5Hz. 0.0\n",
      "  Frequencies detected EH[0]: 290.0Hz, 774.5Hz. 0.0\n",
      "  Frequencies detected B[1]: 248.5Hz, 473.0Hz. 0.0\n",
      "  Frequencies detected B[1]: 239.5Hz, 482.0Hz. 0.0\n",
      "  Frequencies detected D[3]: 138.5Hz, 338.5Hz. 0.0\n",
      "  Frequencies detected D[3]: 139.0Hz, 339.0Hz. 0.0\n",
      "  Frequencies detected A[4]: 113.0Hz, 338.5Hz. 0.0\n",
      "  Frequencies detected B[1]: 251.5Hz, 587.0Hz. 0.0\n",
      "  Frequencies detected B[1]: 278.5Hz, 650.0Hz. 0.0\n",
      "  Frequencies detected G[2]: 196.5Hz, 591.5Hz. 0.0\n",
      "  Frequencies detected A[4]: 105.5Hz, 316.5Hz. 0.0\n",
      "  Frequencies detected A[4]: 109.0Hz, 327.0Hz. 0.0\n",
      "  Frequencies detected A[4]: 111.5Hz, 335.5Hz. 0.0\n",
      "0B\n",
      "  Frequencies detected G[2]: 220.5Hz, 435.5Hz. 0.0\n",
      "  Frequencies detected B[1]: 249.0Hz, 993.0Hz. 0.0\n",
      "  Frequencies detected G[2]: 205.5Hz, 425.0Hz. 0.0\n",
      "  Frequencies detected G[2]: 197.5Hz, 408.0Hz. 0.0\n",
      "  Frequencies detected G[2]: 193.0Hz, 393.0Hz. 0.0\n",
      "  Frequencies detected G[2]: 182.0Hz, 746.5Hz. 0.0\n",
      "  Frequencies detected G[2]: 176.5Hz, 376.5Hz. 0.0\n",
      "  Frequencies detected D[3]: 170.5Hz, 1041.5Hz. 0.0\n",
      "  Frequencies detected G[2]: 186.0Hz, 746.0Hz. 0.0\n",
      "  Frequencies detected G[2]: 197.5Hz, 1179.0Hz. 0.0\n",
      "  Frequencies detected G[2]: 209.5Hz, 419.0Hz. 0.0\n",
      "  Frequencies detected B[1]: 227.5Hz, 456.5Hz. 0.0\n",
      "  Frequencies detected B[1]: 236.5Hz, 924.5Hz. 0.0\n",
      "  Frequencies detected B[1]: 259.0Hz, 1032.5Hz. 0.0\n",
      "  Frequencies detected B[1]: 265.5Hz, 1058.0Hz. 0.0\n",
      "  Frequencies detected B[1]: 279.0Hz, 557.0Hz. 0.0\n",
      "  Frequencies detected EH[0]: 288.0Hz, 573.0Hz. 0.0\n",
      "  Frequencies detected EH[0]: 296.0Hz, 1183.0Hz. 0.0\n",
      "  Frequencies detected EH[0]: 302.5Hz, 602.5Hz. 0.0\n",
      "  Frequencies detected EH[0]: 310.5Hz, 608.0Hz. 0.0\n",
      "0D\n",
      "  Frequencies detected D[3]: 144.5Hz, 434.5Hz. 0.0\n",
      "  Frequencies detected D[3]: 148.5Hz, 447.0Hz. 0.0\n",
      "  Frequencies detected D[3]: 153.0Hz, 457.0Hz. 0.0\n",
      "  Frequencies detected D[3]: 157.0Hz, 472.0Hz. 0.0\n",
      "  Frequencies detected A[4]: 121.5Hz, 323.5Hz. 0.0\n",
      "  Frequencies detected EH[0]: 332.0Hz, 995.5Hz. 0.0\n",
      "  Frequencies detected EH[0]: 334.5Hz, 999.0Hz. 0.0\n",
      "  Frequencies detected EH[0]: 346.0Hz, 1037.0Hz. 0.0\n",
      "  Frequencies detected EH[0]: 347.5Hz, 695.0Hz. 0.0\n",
      "  Frequencies detected EH[0]: 335.5Hz, 670.5Hz. 0.0\n",
      "  Frequencies detected EH[0]: 320.5Hz, 641.0Hz. 0.0\n",
      "  Frequencies detected D[3]: 151.0Hz, 454.0Hz. 0.0\n",
      "  Frequencies detected D[3]: 143.5Hz, 431.5Hz. 0.0\n",
      "  Frequencies detected D[3]: 138.0Hz, 415.5Hz. 0.0\n",
      "  Frequencies detected D[3]: 131.5Hz, 395.0Hz. 0.0\n",
      "  Frequencies detected A[4]: 122.5Hz, 368.5Hz. 0.0\n",
      "  Frequencies detected A[4]: 117.0Hz, 350.5Hz. 0.0\n",
      "  Frequencies detected A[4]: 108.5Hz, 434.0Hz. 0.0\n",
      "  Frequencies detected G[2]: 203.0Hz, 406.5Hz. 0.0\n",
      "  Frequencies detected B[1]: 286.0Hz, 580.5Hz. 0.0\n",
      "  Frequencies detected G[2]: 191.0Hz, 391.5Hz. 0.0\n",
      "  Frequencies detected G[2]: 202.0Hz, 404.0Hz. 0.0\n",
      "  Frequencies detected A[4]: 111.5Hz, 436.0Hz. 0.0\n",
      "  Frequencies detected A[4]: 120.5Hz, 339.0Hz. 0.0\n",
      "  Frequencies detected A[4]: 123.5Hz, 372.5Hz. 0.0\n",
      "0EH\n",
      "  Frequencies detected EH[0]: 317.5Hz, 1275.5Hz. 0.0\n",
      "  Frequencies detected EH[0]: 312.5Hz, 1254.5Hz. 0.0\n",
      "  Frequencies detected EH[0]: 304.0Hz, 606.5Hz. 0.0\n",
      "  Frequencies detected EH[0]: 297.5Hz, 594.0Hz. 0.0\n",
      "  Frequencies detected EH[0]: 288.5Hz, 1174.5Hz. 0.0\n",
      "  Frequencies detected B[1]: 284.0Hz, 566.5Hz. 0.0\n",
      "  Frequencies detected B[1]: 275.0Hz, 549.0Hz. 0.0\n",
      "  Frequencies detected B[1]: 271.0Hz, 1087.0Hz. 0.0\n",
      "  Frequencies detected B[1]: 263.5Hz, 1061.5Hz. 0.0\n",
      "  Frequencies detected B[1]: 256.5Hz, 1038.5Hz. 0.0\n",
      "  Frequencies detected B[1]: 269.0Hz, 1074.5Hz. 0.0\n",
      "  Frequencies detected EH[0]: 294.5Hz, 1180.0Hz. 0.0\n",
      "  Frequencies detected EH[0]: 313.0Hz, 1254.5Hz. 0.0\n",
      "  Frequencies detected EH[0]: 333.0Hz, 1300.5Hz. 0.0\n",
      "  Frequencies detected EH[0]: 348.0Hz, 1041.0Hz. 0.0\n",
      "  Frequencies detected EH[0]: 360.5Hz, 1080.5Hz. 0.0\n",
      "  Frequencies detected EH[0]: 366.5Hz, 1096.5Hz. 0.0\n",
      "  Frequencies detected EH[0]: 433.5Hz, 1033.5Hz. 0.0\n",
      "0EL\n",
      "  Frequencies detected D[3]: 166.5Hz, 418.0Hz. 0.0\n",
      "  Frequencies detected B[1]: 248.0Hz, 752.0Hz. 0.0\n",
      "  Frequencies detected B[1]: 243.5Hz, 656.5Hz. 0.0\n",
      "  Frequencies detected B[1]: 235.0Hz, 462.5Hz. 0.0\n",
      "  Frequencies detected B[1]: 226.5Hz, 455.0Hz. 0.0\n",
      "  Frequencies detected D[3]: 145.0Hz, 435.5Hz. 0.0\n",
      "  Frequencies detected D[3]: 140.5Hz, 423.5Hz. 0.0\n",
      "  Frequencies detected D[3]: 134.5Hz, 403.0Hz. 0.0\n",
      "  Frequencies detected A[4]: 120.0Hz, 378.0Hz. 0.0\n",
      "  Frequencies detected A[4]: 116.5Hz, 358.5Hz. 0.0\n",
      "  Frequencies detected A[4]: 109.0Hz, 328.0Hz. 0.0\n",
      "  Frequencies detected A[4]: 120.0Hz, 402.5Hz. 0.0\n",
      "  Frequencies detected D[3]: 148.5Hz, 447.0Hz. 0.0\n",
      "  Frequencies detected B[1]: 241.0Hz, 641.0Hz. 0.0\n",
      "  Frequencies detected B[1]: 263.5Hz, 883.5Hz. 0.0\n",
      "  Frequencies detected G[2]: 194.0Hz, 465.5Hz. 0.0\n",
      "  Frequencies detected G[2]: 194.0Hz, 488.0Hz. 0.0\n",
      "  Frequencies detected G[2]: 200.0Hz, 400.0Hz. 0.0\n",
      "  Frequencies detected G[2]: 208.0Hz, 417.5Hz. 0.0\n",
      "  Frequencies detected G[2]: 208.0Hz, 417.5Hz. 0.0\n",
      "  Frequencies detected G[2]: 212.5Hz, 428.0Hz. 0.0\n",
      "  Frequencies detected A[4]: 112.0Hz, 335.5Hz. 0.0\n",
      "  Frequencies detected A[4]: 112.5Hz, 337.0Hz. 0.0\n",
      "0G\n",
      "  Frequencies detected A[4]: 121.0Hz, 386.5Hz. 0.0\n",
      "  Frequencies detected G[2]: 185.0Hz, 556.0Hz. 0.0\n",
      "  Frequencies detected G[2]: 180.5Hz, 545.0Hz. 0.0\n",
      "  Frequencies detected G[2]: 174.0Hz, 523.5Hz. 0.0\n",
      "  Frequencies detected D[3]: 167.5Hz, 502.5Hz. 0.0\n",
      "  Frequencies detected D[3]: 162.5Hz, 487.0Hz. 0.0\n",
      "  Frequencies detected EH[0]: 320.0Hz, 640.5Hz. 0.0\n",
      "  Frequencies detected D[3]: 149.5Hz, 447.5Hz. 0.0\n",
      "  Frequencies detected D[3]: 143.5Hz, 432.0Hz. 0.0\n",
      "  Frequencies detected D[3]: 136.0Hz, 407.5Hz. 0.0\n",
      "  Frequencies detected D[3]: 150.0Hz, 451.5Hz. 0.0\n",
      "  Frequencies detected D[3]: 159.0Hz, 465.0Hz. 0.0\n",
      "  Frequencies detected EH[0]: 323.5Hz, 645.5Hz. 0.0\n",
      "  Frequencies detected G[2]: 173.0Hz, 519.5Hz. 0.0\n",
      "  Frequencies detected G[2]: 178.5Hz, 533.5Hz. 0.0\n",
      "  Frequencies detected G[2]: 180.5Hz, 542.5Hz. 0.0\n",
      "  Frequencies detected G[2]: 186.0Hz, 561.5Hz. 0.0\n",
      "  Frequencies detected A[4]: 120.5Hz, 386.5Hz. 0.0\n",
      "  Frequencies detected G[2]: 197.5Hz, 594.5Hz. 0.0\n",
      "  Frequencies detected G[2]: 200.5Hz, 403.0Hz. 0.0\n",
      "1A\n",
      "  Frequencies detected A[4]: 108.5Hz, 434.0Hz. 0.0\n",
      "  Frequencies detected A[4]: 108.0Hz, 324.5Hz. 0.0\n",
      "  Frequencies detected A[4]: 108.5Hz, 435.5Hz. 0.0\n",
      "  Frequencies detected A[4]: 108.0Hz, 325.5Hz. 0.0\n",
      "  Frequencies detected A[4]: 108.0Hz, 326.0Hz. 0.0\n",
      "  Frequencies detected A[4]: 108.0Hz, 433.0Hz. 0.0\n",
      "  Frequencies detected A[4]: 108.5Hz, 435.0Hz. 0.0\n",
      "  Frequencies detected A[4]: 108.5Hz, 435.5Hz. 0.0\n",
      "  Frequencies detected A[4]: 108.5Hz, 436.5Hz. 0.0\n",
      "  Frequencies detected A[4]: 108.5Hz, 437.0Hz. 0.0\n",
      "  Frequencies detected A[4]: 108.0Hz, 434.5Hz. 0.0\n",
      "  Frequencies detected A[4]: 108.5Hz, 434.5Hz. 0.0\n",
      "  Frequencies detected A[4]: 108.5Hz, 437.0Hz. 0.0\n",
      "  Frequencies detected A[4]: 108.5Hz, 434.5Hz. 0.0\n",
      "  Frequencies detected A[4]: 108.0Hz, 435.5Hz. 0.0\n",
      "  Frequencies detected A[4]: 108.5Hz, 435.5Hz. 0.0\n",
      "  Frequencies detected A[4]: 108.0Hz, 325.0Hz. 0.0\n",
      "  Frequencies detected A[4]: 108.0Hz, 325.0Hz. 0.0\n",
      "  Frequencies detected A[4]: 108.0Hz, 325.5Hz. 0.0\n",
      "  Frequencies detected A[4]: 108.0Hz, 434.5Hz. 0.0\n",
      "1B\n",
      "  Frequencies detected B[1]: 246.5Hz, 737.5Hz. 0.0\n",
      "  Frequencies detected B[1]: 246.5Hz, 736.5Hz. 0.0\n",
      "  Frequencies detected B[1]: 247.0Hz, 737.5Hz. 0.0\n",
      "  Frequencies detected B[1]: 246.5Hz, 736.5Hz. 0.0\n",
      "  Frequencies detected B[1]: 246.5Hz, 736.0Hz. 0.0\n",
      "  Frequencies detected B[1]: 246.5Hz, 736.0Hz. 0.0\n",
      "  Frequencies detected B[1]: 247.0Hz, 737.0Hz. 0.0\n"
     ]
    },
    {
     "name": "stdout",
     "output_type": "stream",
     "text": [
      "  Frequencies detected B[1]: 246.0Hz, 736.5Hz. 0.0\n",
      "  Frequencies detected B[1]: 246.5Hz, 737.0Hz. 0.0\n",
      "  Frequencies detected B[1]: 246.5Hz, 737.5Hz. 0.0\n",
      "  Frequencies detected B[1]: 247.0Hz, 735.5Hz. 0.0\n",
      "  Frequencies detected B[1]: 246.5Hz, 738.0Hz. 0.0\n",
      "  Frequencies detected B[1]: 246.0Hz, 1227.0Hz. 0.0\n",
      "  Frequencies detected B[1]: 246.5Hz, 737.5Hz. 0.0\n",
      "  Frequencies detected B[1]: 246.5Hz, 736.5Hz. 0.0\n",
      "  Frequencies detected B[1]: 246.5Hz, 737.0Hz. 0.0\n",
      "  Frequencies detected B[1]: 246.5Hz, 738.0Hz. 0.0\n",
      "  Frequencies detected B[1]: 247.0Hz, 736.5Hz. 0.0\n",
      "  Frequencies detected B[1]: 247.0Hz, 736.5Hz. 0.0\n",
      "1D\n",
      "  Frequencies detected D[3]: 145.0Hz, 436.0Hz. 0.0\n",
      "  Frequencies detected D[3]: 145.0Hz, 436.0Hz. 0.0\n",
      "  Frequencies detected D[3]: 145.0Hz, 436.5Hz. 0.0\n",
      "  Frequencies detected D[3]: 145.0Hz, 436.0Hz. 0.0\n",
      "  Frequencies detected D[3]: 145.0Hz, 436.5Hz. 0.0\n",
      "  Frequencies detected D[3]: 145.0Hz, 436.0Hz. 0.0\n",
      "  Frequencies detected D[3]: 145.0Hz, 436.0Hz. 0.0\n",
      "  Frequencies detected D[3]: 145.0Hz, 436.0Hz. 0.0\n",
      "  Frequencies detected D[3]: 145.0Hz, 436.5Hz. 0.0\n",
      "  Frequencies detected D[3]: 145.0Hz, 436.0Hz. 0.0\n",
      "  Frequencies detected D[3]: 145.0Hz, 436.0Hz. 0.0\n",
      "  Frequencies detected D[3]: 145.0Hz, 436.0Hz. 0.0\n",
      "  Frequencies detected D[3]: 145.0Hz, 436.0Hz. 0.0\n",
      "  Frequencies detected D[3]: 145.0Hz, 436.0Hz. 0.0\n",
      "  Frequencies detected D[3]: 145.0Hz, 436.0Hz. 0.0\n",
      "  Frequencies detected D[3]: 145.0Hz, 436.0Hz. 0.0\n",
      "  Frequencies detected D[3]: 145.0Hz, 436.0Hz. 0.0\n",
      "  Frequencies detected D[3]: 145.0Hz, 436.0Hz. 0.0\n",
      "  Frequencies detected D[3]: 145.0Hz, 436.0Hz. 0.0\n",
      "  Frequencies detected D[3]: 145.0Hz, 436.0Hz. 0.0\n",
      "1EH\n",
      "  Frequencies detected EH[0]: 324.0Hz, 1297.0Hz. 0.0\n",
      "  Frequencies detected EH[0]: 323.5Hz, 1296.0Hz. 0.0\n",
      "  Frequencies detected EH[0]: 323.5Hz, 1292.5Hz. 0.0\n",
      "  Frequencies detected A[4]: 122.0Hz, 323.5Hz. 0.0\n",
      "  Frequencies detected EH[0]: 323.5Hz, 646.0Hz. 0.0\n",
      "  Frequencies detected EH[0]: 323.0Hz, 646.0Hz. 0.0\n",
      "  Frequencies detected EH[0]: 323.0Hz, 646.0Hz. 0.0\n",
      "  Frequencies detected EH[0]: 323.0Hz, 646.0Hz. 0.0\n",
      "  Frequencies detected EH[0]: 323.0Hz, 646.0Hz. 0.0\n",
      "  Frequencies detected EH[0]: 323.0Hz, 645.5Hz. 0.0\n",
      "  Frequencies detected EH[0]: 324.0Hz, 1297.0Hz. 0.0\n",
      "  Frequencies detected EH[0]: 324.0Hz, 1292.5Hz. 0.0\n",
      "  Frequencies detected EH[0]: 324.0Hz, 1297.5Hz. 0.0\n",
      "  Frequencies detected EH[0]: 324.0Hz, 1298.0Hz. 0.0\n",
      "  Frequencies detected EH[0]: 323.0Hz, 1294.0Hz. 0.0\n",
      "  Frequencies detected EH[0]: 323.5Hz, 1296.5Hz. 0.0\n",
      "  Frequencies detected EH[0]: 323.5Hz, 1294.0Hz. 0.0\n",
      "  Frequencies detected EH[0]: 323.5Hz, 1292.5Hz. 0.0\n",
      "1EL\n",
      "  Frequencies detected D[3]: 166.0Hz, 416.0Hz. 0.0\n",
      "  Frequencies detected D[3]: 166.0Hz, 416.5Hz. 0.0\n",
      "  Frequencies detected D[3]: 167.5Hz, 417.5Hz. 0.0\n",
      "  Frequencies detected D[3]: 167.0Hz, 419.0Hz. 0.0\n",
      "  Frequencies detected D[3]: 167.0Hz, 420.5Hz. 0.0\n",
      "  Frequencies detected D[3]: 167.5Hz, 423.5Hz. 0.0\n",
      "  Frequencies detected D[3]: 165.5Hz, 416.0Hz. 0.0\n",
      "  Frequencies detected B[1]: 248.0Hz, 580.0Hz. 0.0\n",
      "  Frequencies detected D[3]: 165.5Hz, 415.0Hz. 0.0\n",
      "  Frequencies detected D[3]: 165.5Hz, 416.0Hz. 0.0\n",
      "  Frequencies detected D[3]: 166.0Hz, 417.5Hz. 0.0\n",
      "  Frequencies detected D[3]: 166.0Hz, 418.0Hz. 0.0\n",
      "  Frequencies detected D[3]: 167.0Hz, 419.5Hz. 0.0\n",
      "  Frequencies detected D[3]: 166.5Hz, 422.5Hz. 0.0\n",
      "  Frequencies detected D[3]: 167.0Hz, 431.0Hz. 0.0\n",
      "  Frequencies detected D[3]: 166.5Hz, 431.5Hz. 0.0\n",
      "  Frequencies detected D[3]: 166.5Hz, 418.0Hz. 0.0\n"
     ]
    },
    {
     "ename": "KeyboardInterrupt",
     "evalue": "",
     "output_type": "error",
     "traceback": [
      "\u001b[1;31m---------------------------------------------------------------------------\u001b[0m",
      "\u001b[1;31mKeyboardInterrupt\u001b[0m                         Traceback (most recent call last)",
      "\u001b[1;32m<ipython-input-15-3f7324398150>\u001b[0m in \u001b[0;36m<module>\u001b[1;34m\u001b[0m\n\u001b[0;32m     11\u001b[0m \u001b[1;33m\u001b[0m\u001b[0m\n\u001b[0;32m     12\u001b[0m         \u001b[0mx\u001b[0m\u001b[1;33m,\u001b[0m \u001b[0mtp\u001b[0m\u001b[1;33m,\u001b[0m \u001b[0mN\u001b[0m \u001b[1;33m=\u001b[0m \u001b[0maudio_features\u001b[0m\u001b[1;33m\u001b[0m\u001b[1;33m\u001b[0m\u001b[0m\n\u001b[1;32m---> 13\u001b[1;33m         \u001b[0mti\u001b[0m\u001b[1;33m,\u001b[0m \u001b[0mfi\u001b[0m\u001b[1;33m,\u001b[0m \u001b[0mX_amp\u001b[0m \u001b[1;33m=\u001b[0m \u001b[0mget_frequency_amplitude\u001b[0m\u001b[1;33m(\u001b[0m\u001b[0mx\u001b[0m\u001b[1;33m,\u001b[0m \u001b[0mtp\u001b[0m\u001b[1;33m,\u001b[0m \u001b[0mN\u001b[0m\u001b[1;33m)\u001b[0m\u001b[1;33m\u001b[0m\u001b[1;33m\u001b[0m\u001b[0m\n\u001b[0m\u001b[0;32m     14\u001b[0m \u001b[1;33m\u001b[0m\u001b[0m\n\u001b[0;32m     15\u001b[0m         \u001b[0mpressed\u001b[0m \u001b[1;33m=\u001b[0m \u001b[0mget_pressed\u001b[0m\u001b[1;33m(\u001b[0m\u001b[0mfi\u001b[0m\u001b[1;33m,\u001b[0m \u001b[0mX_amp\u001b[0m\u001b[1;33m)\u001b[0m\u001b[1;33m\u001b[0m\u001b[1;33m\u001b[0m\u001b[0m\n",
      "\u001b[1;32m<ipython-input-5-7e5e14e3a073>\u001b[0m in \u001b[0;36mget_frequency_amplitude\u001b[1;34m(x, tp, N)\u001b[0m\n\u001b[0;32m     59\u001b[0m \u001b[1;33m\u001b[0m\u001b[0m\n\u001b[0;32m     60\u001b[0m \u001b[1;32mdef\u001b[0m \u001b[0mget_frequency_amplitude\u001b[0m\u001b[1;33m(\u001b[0m\u001b[0mx\u001b[0m\u001b[1;33m,\u001b[0m \u001b[0mtp\u001b[0m\u001b[1;33m,\u001b[0m \u001b[0mN\u001b[0m\u001b[1;33m)\u001b[0m\u001b[1;33m:\u001b[0m\u001b[1;33m\u001b[0m\u001b[1;33m\u001b[0m\u001b[0m\n\u001b[1;32m---> 61\u001b[1;33m     \u001b[0m_X\u001b[0m \u001b[1;33m=\u001b[0m \u001b[0mfft\u001b[0m\u001b[1;33m(\u001b[0m\u001b[0mx\u001b[0m\u001b[1;33m)\u001b[0m \u001b[1;31m# discrete Fourier transform\u001b[0m\u001b[1;33m\u001b[0m\u001b[1;33m\u001b[0m\u001b[0m\n\u001b[0m\u001b[0;32m     62\u001b[0m     \u001b[0mX\u001b[0m \u001b[1;33m=\u001b[0m \u001b[1;33m[\u001b[0m\u001b[0mround\u001b[0m\u001b[1;33m(\u001b[0m\u001b[0mXi\u001b[0m\u001b[1;33m/\u001b[0m\u001b[0mN\u001b[0m\u001b[1;33m,\u001b[0m \u001b[1;36m10\u001b[0m\u001b[1;33m)\u001b[0m \u001b[1;32mfor\u001b[0m \u001b[0mXi\u001b[0m \u001b[1;32min\u001b[0m \u001b[0m_X\u001b[0m\u001b[1;33m]\u001b[0m \u001b[1;31m# frequency spectrum\u001b[0m\u001b[1;33m\u001b[0m\u001b[1;33m\u001b[0m\u001b[0m\n\u001b[0;32m     63\u001b[0m     \u001b[0mX_amp\u001b[0m \u001b[1;33m=\u001b[0m \u001b[1;33m[\u001b[0m\u001b[0mnp\u001b[0m\u001b[1;33m.\u001b[0m\u001b[0mabsolute\u001b[0m\u001b[1;33m(\u001b[0m\u001b[0mXi\u001b[0m\u001b[1;33m)\u001b[0m \u001b[1;32mfor\u001b[0m \u001b[0mXi\u001b[0m \u001b[1;32min\u001b[0m \u001b[0mX\u001b[0m\u001b[1;33m]\u001b[0m \u001b[1;31m# amplitude spectrum\u001b[0m\u001b[1;33m\u001b[0m\u001b[1;33m\u001b[0m\u001b[0m\n",
      "\u001b[1;32m<ipython-input-5-7e5e14e3a073>\u001b[0m in \u001b[0;36mfft\u001b[1;34m(f)\u001b[0m\n\u001b[0;32m     12\u001b[0m     \u001b[0mfo\u001b[0m \u001b[1;33m=\u001b[0m \u001b[1;33m[\u001b[0m\u001b[0mf\u001b[0m\u001b[1;33m[\u001b[0m\u001b[0mi\u001b[0m\u001b[1;33m]\u001b[0m \u001b[1;32mfor\u001b[0m \u001b[0mi\u001b[0m \u001b[1;32min\u001b[0m \u001b[0mrange\u001b[0m\u001b[1;33m(\u001b[0m\u001b[0mNi\u001b[0m\u001b[1;33m)\u001b[0m \u001b[1;32mif\u001b[0m \u001b[0mi\u001b[0m \u001b[1;33m%\u001b[0m \u001b[1;36m2\u001b[0m \u001b[1;33m==\u001b[0m \u001b[1;36m1\u001b[0m\u001b[1;33m]\u001b[0m\u001b[1;33m\u001b[0m\u001b[1;33m\u001b[0m\u001b[0m\n\u001b[0;32m     13\u001b[0m     \u001b[0mFe\u001b[0m \u001b[1;33m=\u001b[0m \u001b[0mfft\u001b[0m\u001b[1;33m(\u001b[0m\u001b[0mfe\u001b[0m\u001b[1;33m)\u001b[0m\u001b[1;33m\u001b[0m\u001b[1;33m\u001b[0m\u001b[0m\n\u001b[1;32m---> 14\u001b[1;33m     \u001b[0mFo\u001b[0m \u001b[1;33m=\u001b[0m \u001b[0mfft\u001b[0m\u001b[1;33m(\u001b[0m\u001b[0mfo\u001b[0m\u001b[1;33m)\u001b[0m\u001b[1;33m\u001b[0m\u001b[1;33m\u001b[0m\u001b[0m\n\u001b[0m\u001b[0;32m     15\u001b[0m     \u001b[1;32mreturn\u001b[0m \u001b[1;33m[\u001b[0m\u001b[0mnp\u001b[0m\u001b[1;33m.\u001b[0m\u001b[0maround\u001b[0m\u001b[1;33m(\u001b[0m\u001b[0mFe\u001b[0m\u001b[1;33m[\u001b[0m\u001b[0mi\u001b[0m\u001b[1;33m]\u001b[0m \u001b[1;33m+\u001b[0m \u001b[1;33m(\u001b[0m\u001b[0mwn\u001b[0m\u001b[1;33m**\u001b[0m\u001b[0mi\u001b[0m\u001b[1;33m)\u001b[0m\u001b[1;33m*\u001b[0m\u001b[0mFo\u001b[0m\u001b[1;33m[\u001b[0m\u001b[0mi\u001b[0m\u001b[1;33m]\u001b[0m\u001b[1;33m,\u001b[0m \u001b[0mdecimals\u001b[0m\u001b[1;33m=\u001b[0m\u001b[1;36m10\u001b[0m\u001b[1;33m)\u001b[0m \u001b[1;32mfor\u001b[0m \u001b[0mi\u001b[0m \u001b[1;32min\u001b[0m \u001b[0mrange\u001b[0m\u001b[1;33m(\u001b[0m\u001b[0mMi\u001b[0m\u001b[1;33m)\u001b[0m\u001b[1;33m]\u001b[0m \u001b[1;33m+\u001b[0m \u001b[1;33m[\u001b[0m\u001b[0mnp\u001b[0m\u001b[1;33m.\u001b[0m\u001b[0maround\u001b[0m\u001b[1;33m(\u001b[0m\u001b[0mFe\u001b[0m\u001b[1;33m[\u001b[0m\u001b[0mi\u001b[0m\u001b[1;33m]\u001b[0m \u001b[1;33m-\u001b[0m \u001b[1;33m(\u001b[0m\u001b[0mwn\u001b[0m\u001b[1;33m**\u001b[0m\u001b[0mi\u001b[0m\u001b[1;33m)\u001b[0m\u001b[1;33m*\u001b[0m\u001b[0mFo\u001b[0m\u001b[1;33m[\u001b[0m\u001b[0mi\u001b[0m\u001b[1;33m]\u001b[0m\u001b[1;33m,\u001b[0m \u001b[0mdecimals\u001b[0m\u001b[1;33m=\u001b[0m\u001b[1;36m10\u001b[0m\u001b[1;33m)\u001b[0m \u001b[1;32mfor\u001b[0m \u001b[0mi\u001b[0m \u001b[1;32min\u001b[0m \u001b[0mrange\u001b[0m\u001b[1;33m(\u001b[0m\u001b[0mMi\u001b[0m\u001b[1;33m)\u001b[0m\u001b[1;33m]\u001b[0m\u001b[1;33m\u001b[0m\u001b[1;33m\u001b[0m\u001b[0m\n\u001b[0;32m     16\u001b[0m \u001b[1;33m\u001b[0m\u001b[0m\n",
      "\u001b[1;32m<ipython-input-5-7e5e14e3a073>\u001b[0m in \u001b[0;36mfft\u001b[1;34m(f)\u001b[0m\n\u001b[0;32m     11\u001b[0m     \u001b[0mfe\u001b[0m \u001b[1;33m=\u001b[0m \u001b[1;33m[\u001b[0m\u001b[0mf\u001b[0m\u001b[1;33m[\u001b[0m\u001b[0mi\u001b[0m\u001b[1;33m]\u001b[0m \u001b[1;32mfor\u001b[0m \u001b[0mi\u001b[0m \u001b[1;32min\u001b[0m \u001b[0mrange\u001b[0m\u001b[1;33m(\u001b[0m\u001b[0mNi\u001b[0m\u001b[1;33m)\u001b[0m \u001b[1;32mif\u001b[0m \u001b[0mi\u001b[0m \u001b[1;33m%\u001b[0m \u001b[1;36m2\u001b[0m \u001b[1;33m==\u001b[0m \u001b[1;36m0\u001b[0m\u001b[1;33m]\u001b[0m\u001b[1;33m\u001b[0m\u001b[1;33m\u001b[0m\u001b[0m\n\u001b[0;32m     12\u001b[0m     \u001b[0mfo\u001b[0m \u001b[1;33m=\u001b[0m \u001b[1;33m[\u001b[0m\u001b[0mf\u001b[0m\u001b[1;33m[\u001b[0m\u001b[0mi\u001b[0m\u001b[1;33m]\u001b[0m \u001b[1;32mfor\u001b[0m \u001b[0mi\u001b[0m \u001b[1;32min\u001b[0m \u001b[0mrange\u001b[0m\u001b[1;33m(\u001b[0m\u001b[0mNi\u001b[0m\u001b[1;33m)\u001b[0m \u001b[1;32mif\u001b[0m \u001b[0mi\u001b[0m \u001b[1;33m%\u001b[0m \u001b[1;36m2\u001b[0m \u001b[1;33m==\u001b[0m \u001b[1;36m1\u001b[0m\u001b[1;33m]\u001b[0m\u001b[1;33m\u001b[0m\u001b[1;33m\u001b[0m\u001b[0m\n\u001b[1;32m---> 13\u001b[1;33m     \u001b[0mFe\u001b[0m \u001b[1;33m=\u001b[0m \u001b[0mfft\u001b[0m\u001b[1;33m(\u001b[0m\u001b[0mfe\u001b[0m\u001b[1;33m)\u001b[0m\u001b[1;33m\u001b[0m\u001b[1;33m\u001b[0m\u001b[0m\n\u001b[0m\u001b[0;32m     14\u001b[0m     \u001b[0mFo\u001b[0m \u001b[1;33m=\u001b[0m \u001b[0mfft\u001b[0m\u001b[1;33m(\u001b[0m\u001b[0mfo\u001b[0m\u001b[1;33m)\u001b[0m\u001b[1;33m\u001b[0m\u001b[1;33m\u001b[0m\u001b[0m\n\u001b[0;32m     15\u001b[0m     \u001b[1;32mreturn\u001b[0m \u001b[1;33m[\u001b[0m\u001b[0mnp\u001b[0m\u001b[1;33m.\u001b[0m\u001b[0maround\u001b[0m\u001b[1;33m(\u001b[0m\u001b[0mFe\u001b[0m\u001b[1;33m[\u001b[0m\u001b[0mi\u001b[0m\u001b[1;33m]\u001b[0m \u001b[1;33m+\u001b[0m \u001b[1;33m(\u001b[0m\u001b[0mwn\u001b[0m\u001b[1;33m**\u001b[0m\u001b[0mi\u001b[0m\u001b[1;33m)\u001b[0m\u001b[1;33m*\u001b[0m\u001b[0mFo\u001b[0m\u001b[1;33m[\u001b[0m\u001b[0mi\u001b[0m\u001b[1;33m]\u001b[0m\u001b[1;33m,\u001b[0m \u001b[0mdecimals\u001b[0m\u001b[1;33m=\u001b[0m\u001b[1;36m10\u001b[0m\u001b[1;33m)\u001b[0m \u001b[1;32mfor\u001b[0m \u001b[0mi\u001b[0m \u001b[1;32min\u001b[0m \u001b[0mrange\u001b[0m\u001b[1;33m(\u001b[0m\u001b[0mMi\u001b[0m\u001b[1;33m)\u001b[0m\u001b[1;33m]\u001b[0m \u001b[1;33m+\u001b[0m \u001b[1;33m[\u001b[0m\u001b[0mnp\u001b[0m\u001b[1;33m.\u001b[0m\u001b[0maround\u001b[0m\u001b[1;33m(\u001b[0m\u001b[0mFe\u001b[0m\u001b[1;33m[\u001b[0m\u001b[0mi\u001b[0m\u001b[1;33m]\u001b[0m \u001b[1;33m-\u001b[0m \u001b[1;33m(\u001b[0m\u001b[0mwn\u001b[0m\u001b[1;33m**\u001b[0m\u001b[0mi\u001b[0m\u001b[1;33m)\u001b[0m\u001b[1;33m*\u001b[0m\u001b[0mFo\u001b[0m\u001b[1;33m[\u001b[0m\u001b[0mi\u001b[0m\u001b[1;33m]\u001b[0m\u001b[1;33m,\u001b[0m \u001b[0mdecimals\u001b[0m\u001b[1;33m=\u001b[0m\u001b[1;36m10\u001b[0m\u001b[1;33m)\u001b[0m \u001b[1;32mfor\u001b[0m \u001b[0mi\u001b[0m \u001b[1;32min\u001b[0m \u001b[0mrange\u001b[0m\u001b[1;33m(\u001b[0m\u001b[0mMi\u001b[0m\u001b[1;33m)\u001b[0m\u001b[1;33m]\u001b[0m\u001b[1;33m\u001b[0m\u001b[1;33m\u001b[0m\u001b[0m\n",
      "\u001b[1;32m<ipython-input-5-7e5e14e3a073>\u001b[0m in \u001b[0;36mfft\u001b[1;34m(f)\u001b[0m\n\u001b[0;32m     11\u001b[0m     \u001b[0mfe\u001b[0m \u001b[1;33m=\u001b[0m \u001b[1;33m[\u001b[0m\u001b[0mf\u001b[0m\u001b[1;33m[\u001b[0m\u001b[0mi\u001b[0m\u001b[1;33m]\u001b[0m \u001b[1;32mfor\u001b[0m \u001b[0mi\u001b[0m \u001b[1;32min\u001b[0m \u001b[0mrange\u001b[0m\u001b[1;33m(\u001b[0m\u001b[0mNi\u001b[0m\u001b[1;33m)\u001b[0m \u001b[1;32mif\u001b[0m \u001b[0mi\u001b[0m \u001b[1;33m%\u001b[0m \u001b[1;36m2\u001b[0m \u001b[1;33m==\u001b[0m \u001b[1;36m0\u001b[0m\u001b[1;33m]\u001b[0m\u001b[1;33m\u001b[0m\u001b[1;33m\u001b[0m\u001b[0m\n\u001b[0;32m     12\u001b[0m     \u001b[0mfo\u001b[0m \u001b[1;33m=\u001b[0m \u001b[1;33m[\u001b[0m\u001b[0mf\u001b[0m\u001b[1;33m[\u001b[0m\u001b[0mi\u001b[0m\u001b[1;33m]\u001b[0m \u001b[1;32mfor\u001b[0m \u001b[0mi\u001b[0m \u001b[1;32min\u001b[0m \u001b[0mrange\u001b[0m\u001b[1;33m(\u001b[0m\u001b[0mNi\u001b[0m\u001b[1;33m)\u001b[0m \u001b[1;32mif\u001b[0m \u001b[0mi\u001b[0m \u001b[1;33m%\u001b[0m \u001b[1;36m2\u001b[0m \u001b[1;33m==\u001b[0m \u001b[1;36m1\u001b[0m\u001b[1;33m]\u001b[0m\u001b[1;33m\u001b[0m\u001b[1;33m\u001b[0m\u001b[0m\n\u001b[1;32m---> 13\u001b[1;33m     \u001b[0mFe\u001b[0m \u001b[1;33m=\u001b[0m \u001b[0mfft\u001b[0m\u001b[1;33m(\u001b[0m\u001b[0mfe\u001b[0m\u001b[1;33m)\u001b[0m\u001b[1;33m\u001b[0m\u001b[1;33m\u001b[0m\u001b[0m\n\u001b[0m\u001b[0;32m     14\u001b[0m     \u001b[0mFo\u001b[0m \u001b[1;33m=\u001b[0m \u001b[0mfft\u001b[0m\u001b[1;33m(\u001b[0m\u001b[0mfo\u001b[0m\u001b[1;33m)\u001b[0m\u001b[1;33m\u001b[0m\u001b[1;33m\u001b[0m\u001b[0m\n\u001b[0;32m     15\u001b[0m     \u001b[1;32mreturn\u001b[0m \u001b[1;33m[\u001b[0m\u001b[0mnp\u001b[0m\u001b[1;33m.\u001b[0m\u001b[0maround\u001b[0m\u001b[1;33m(\u001b[0m\u001b[0mFe\u001b[0m\u001b[1;33m[\u001b[0m\u001b[0mi\u001b[0m\u001b[1;33m]\u001b[0m \u001b[1;33m+\u001b[0m \u001b[1;33m(\u001b[0m\u001b[0mwn\u001b[0m\u001b[1;33m**\u001b[0m\u001b[0mi\u001b[0m\u001b[1;33m)\u001b[0m\u001b[1;33m*\u001b[0m\u001b[0mFo\u001b[0m\u001b[1;33m[\u001b[0m\u001b[0mi\u001b[0m\u001b[1;33m]\u001b[0m\u001b[1;33m,\u001b[0m \u001b[0mdecimals\u001b[0m\u001b[1;33m=\u001b[0m\u001b[1;36m10\u001b[0m\u001b[1;33m)\u001b[0m \u001b[1;32mfor\u001b[0m \u001b[0mi\u001b[0m \u001b[1;32min\u001b[0m \u001b[0mrange\u001b[0m\u001b[1;33m(\u001b[0m\u001b[0mMi\u001b[0m\u001b[1;33m)\u001b[0m\u001b[1;33m]\u001b[0m \u001b[1;33m+\u001b[0m \u001b[1;33m[\u001b[0m\u001b[0mnp\u001b[0m\u001b[1;33m.\u001b[0m\u001b[0maround\u001b[0m\u001b[1;33m(\u001b[0m\u001b[0mFe\u001b[0m\u001b[1;33m[\u001b[0m\u001b[0mi\u001b[0m\u001b[1;33m]\u001b[0m \u001b[1;33m-\u001b[0m \u001b[1;33m(\u001b[0m\u001b[0mwn\u001b[0m\u001b[1;33m**\u001b[0m\u001b[0mi\u001b[0m\u001b[1;33m)\u001b[0m\u001b[1;33m*\u001b[0m\u001b[0mFo\u001b[0m\u001b[1;33m[\u001b[0m\u001b[0mi\u001b[0m\u001b[1;33m]\u001b[0m\u001b[1;33m,\u001b[0m \u001b[0mdecimals\u001b[0m\u001b[1;33m=\u001b[0m\u001b[1;36m10\u001b[0m\u001b[1;33m)\u001b[0m \u001b[1;32mfor\u001b[0m \u001b[0mi\u001b[0m \u001b[1;32min\u001b[0m \u001b[0mrange\u001b[0m\u001b[1;33m(\u001b[0m\u001b[0mMi\u001b[0m\u001b[1;33m)\u001b[0m\u001b[1;33m]\u001b[0m\u001b[1;33m\u001b[0m\u001b[1;33m\u001b[0m\u001b[0m\n",
      "\u001b[1;32m<ipython-input-5-7e5e14e3a073>\u001b[0m in \u001b[0;36mfft\u001b[1;34m(f)\u001b[0m\n\u001b[0;32m     12\u001b[0m     \u001b[0mfo\u001b[0m \u001b[1;33m=\u001b[0m \u001b[1;33m[\u001b[0m\u001b[0mf\u001b[0m\u001b[1;33m[\u001b[0m\u001b[0mi\u001b[0m\u001b[1;33m]\u001b[0m \u001b[1;32mfor\u001b[0m \u001b[0mi\u001b[0m \u001b[1;32min\u001b[0m \u001b[0mrange\u001b[0m\u001b[1;33m(\u001b[0m\u001b[0mNi\u001b[0m\u001b[1;33m)\u001b[0m \u001b[1;32mif\u001b[0m \u001b[0mi\u001b[0m \u001b[1;33m%\u001b[0m \u001b[1;36m2\u001b[0m \u001b[1;33m==\u001b[0m \u001b[1;36m1\u001b[0m\u001b[1;33m]\u001b[0m\u001b[1;33m\u001b[0m\u001b[1;33m\u001b[0m\u001b[0m\n\u001b[0;32m     13\u001b[0m     \u001b[0mFe\u001b[0m \u001b[1;33m=\u001b[0m \u001b[0mfft\u001b[0m\u001b[1;33m(\u001b[0m\u001b[0mfe\u001b[0m\u001b[1;33m)\u001b[0m\u001b[1;33m\u001b[0m\u001b[1;33m\u001b[0m\u001b[0m\n\u001b[1;32m---> 14\u001b[1;33m     \u001b[0mFo\u001b[0m \u001b[1;33m=\u001b[0m \u001b[0mfft\u001b[0m\u001b[1;33m(\u001b[0m\u001b[0mfo\u001b[0m\u001b[1;33m)\u001b[0m\u001b[1;33m\u001b[0m\u001b[1;33m\u001b[0m\u001b[0m\n\u001b[0m\u001b[0;32m     15\u001b[0m     \u001b[1;32mreturn\u001b[0m \u001b[1;33m[\u001b[0m\u001b[0mnp\u001b[0m\u001b[1;33m.\u001b[0m\u001b[0maround\u001b[0m\u001b[1;33m(\u001b[0m\u001b[0mFe\u001b[0m\u001b[1;33m[\u001b[0m\u001b[0mi\u001b[0m\u001b[1;33m]\u001b[0m \u001b[1;33m+\u001b[0m \u001b[1;33m(\u001b[0m\u001b[0mwn\u001b[0m\u001b[1;33m**\u001b[0m\u001b[0mi\u001b[0m\u001b[1;33m)\u001b[0m\u001b[1;33m*\u001b[0m\u001b[0mFo\u001b[0m\u001b[1;33m[\u001b[0m\u001b[0mi\u001b[0m\u001b[1;33m]\u001b[0m\u001b[1;33m,\u001b[0m \u001b[0mdecimals\u001b[0m\u001b[1;33m=\u001b[0m\u001b[1;36m10\u001b[0m\u001b[1;33m)\u001b[0m \u001b[1;32mfor\u001b[0m \u001b[0mi\u001b[0m \u001b[1;32min\u001b[0m \u001b[0mrange\u001b[0m\u001b[1;33m(\u001b[0m\u001b[0mMi\u001b[0m\u001b[1;33m)\u001b[0m\u001b[1;33m]\u001b[0m \u001b[1;33m+\u001b[0m \u001b[1;33m[\u001b[0m\u001b[0mnp\u001b[0m\u001b[1;33m.\u001b[0m\u001b[0maround\u001b[0m\u001b[1;33m(\u001b[0m\u001b[0mFe\u001b[0m\u001b[1;33m[\u001b[0m\u001b[0mi\u001b[0m\u001b[1;33m]\u001b[0m \u001b[1;33m-\u001b[0m \u001b[1;33m(\u001b[0m\u001b[0mwn\u001b[0m\u001b[1;33m**\u001b[0m\u001b[0mi\u001b[0m\u001b[1;33m)\u001b[0m\u001b[1;33m*\u001b[0m\u001b[0mFo\u001b[0m\u001b[1;33m[\u001b[0m\u001b[0mi\u001b[0m\u001b[1;33m]\u001b[0m\u001b[1;33m,\u001b[0m \u001b[0mdecimals\u001b[0m\u001b[1;33m=\u001b[0m\u001b[1;36m10\u001b[0m\u001b[1;33m)\u001b[0m \u001b[1;32mfor\u001b[0m \u001b[0mi\u001b[0m \u001b[1;32min\u001b[0m \u001b[0mrange\u001b[0m\u001b[1;33m(\u001b[0m\u001b[0mMi\u001b[0m\u001b[1;33m)\u001b[0m\u001b[1;33m]\u001b[0m\u001b[1;33m\u001b[0m\u001b[1;33m\u001b[0m\u001b[0m\n\u001b[0;32m     16\u001b[0m \u001b[1;33m\u001b[0m\u001b[0m\n",
      "\u001b[1;32m<ipython-input-5-7e5e14e3a073>\u001b[0m in \u001b[0;36mfft\u001b[1;34m(f)\u001b[0m\n\u001b[0;32m     12\u001b[0m     \u001b[0mfo\u001b[0m \u001b[1;33m=\u001b[0m \u001b[1;33m[\u001b[0m\u001b[0mf\u001b[0m\u001b[1;33m[\u001b[0m\u001b[0mi\u001b[0m\u001b[1;33m]\u001b[0m \u001b[1;32mfor\u001b[0m \u001b[0mi\u001b[0m \u001b[1;32min\u001b[0m \u001b[0mrange\u001b[0m\u001b[1;33m(\u001b[0m\u001b[0mNi\u001b[0m\u001b[1;33m)\u001b[0m \u001b[1;32mif\u001b[0m \u001b[0mi\u001b[0m \u001b[1;33m%\u001b[0m \u001b[1;36m2\u001b[0m \u001b[1;33m==\u001b[0m \u001b[1;36m1\u001b[0m\u001b[1;33m]\u001b[0m\u001b[1;33m\u001b[0m\u001b[1;33m\u001b[0m\u001b[0m\n\u001b[0;32m     13\u001b[0m     \u001b[0mFe\u001b[0m \u001b[1;33m=\u001b[0m \u001b[0mfft\u001b[0m\u001b[1;33m(\u001b[0m\u001b[0mfe\u001b[0m\u001b[1;33m)\u001b[0m\u001b[1;33m\u001b[0m\u001b[1;33m\u001b[0m\u001b[0m\n\u001b[1;32m---> 14\u001b[1;33m     \u001b[0mFo\u001b[0m \u001b[1;33m=\u001b[0m \u001b[0mfft\u001b[0m\u001b[1;33m(\u001b[0m\u001b[0mfo\u001b[0m\u001b[1;33m)\u001b[0m\u001b[1;33m\u001b[0m\u001b[1;33m\u001b[0m\u001b[0m\n\u001b[0m\u001b[0;32m     15\u001b[0m     \u001b[1;32mreturn\u001b[0m \u001b[1;33m[\u001b[0m\u001b[0mnp\u001b[0m\u001b[1;33m.\u001b[0m\u001b[0maround\u001b[0m\u001b[1;33m(\u001b[0m\u001b[0mFe\u001b[0m\u001b[1;33m[\u001b[0m\u001b[0mi\u001b[0m\u001b[1;33m]\u001b[0m \u001b[1;33m+\u001b[0m \u001b[1;33m(\u001b[0m\u001b[0mwn\u001b[0m\u001b[1;33m**\u001b[0m\u001b[0mi\u001b[0m\u001b[1;33m)\u001b[0m\u001b[1;33m*\u001b[0m\u001b[0mFo\u001b[0m\u001b[1;33m[\u001b[0m\u001b[0mi\u001b[0m\u001b[1;33m]\u001b[0m\u001b[1;33m,\u001b[0m \u001b[0mdecimals\u001b[0m\u001b[1;33m=\u001b[0m\u001b[1;36m10\u001b[0m\u001b[1;33m)\u001b[0m \u001b[1;32mfor\u001b[0m \u001b[0mi\u001b[0m \u001b[1;32min\u001b[0m \u001b[0mrange\u001b[0m\u001b[1;33m(\u001b[0m\u001b[0mMi\u001b[0m\u001b[1;33m)\u001b[0m\u001b[1;33m]\u001b[0m \u001b[1;33m+\u001b[0m \u001b[1;33m[\u001b[0m\u001b[0mnp\u001b[0m\u001b[1;33m.\u001b[0m\u001b[0maround\u001b[0m\u001b[1;33m(\u001b[0m\u001b[0mFe\u001b[0m\u001b[1;33m[\u001b[0m\u001b[0mi\u001b[0m\u001b[1;33m]\u001b[0m \u001b[1;33m-\u001b[0m \u001b[1;33m(\u001b[0m\u001b[0mwn\u001b[0m\u001b[1;33m**\u001b[0m\u001b[0mi\u001b[0m\u001b[1;33m)\u001b[0m\u001b[1;33m*\u001b[0m\u001b[0mFo\u001b[0m\u001b[1;33m[\u001b[0m\u001b[0mi\u001b[0m\u001b[1;33m]\u001b[0m\u001b[1;33m,\u001b[0m \u001b[0mdecimals\u001b[0m\u001b[1;33m=\u001b[0m\u001b[1;36m10\u001b[0m\u001b[1;33m)\u001b[0m \u001b[1;32mfor\u001b[0m \u001b[0mi\u001b[0m \u001b[1;32min\u001b[0m \u001b[0mrange\u001b[0m\u001b[1;33m(\u001b[0m\u001b[0mMi\u001b[0m\u001b[1;33m)\u001b[0m\u001b[1;33m]\u001b[0m\u001b[1;33m\u001b[0m\u001b[1;33m\u001b[0m\u001b[0m\n\u001b[0;32m     16\u001b[0m \u001b[1;33m\u001b[0m\u001b[0m\n",
      "\u001b[1;32m<ipython-input-5-7e5e14e3a073>\u001b[0m in \u001b[0;36mfft\u001b[1;34m(f)\u001b[0m\n\u001b[0;32m     11\u001b[0m     \u001b[0mfe\u001b[0m \u001b[1;33m=\u001b[0m \u001b[1;33m[\u001b[0m\u001b[0mf\u001b[0m\u001b[1;33m[\u001b[0m\u001b[0mi\u001b[0m\u001b[1;33m]\u001b[0m \u001b[1;32mfor\u001b[0m \u001b[0mi\u001b[0m \u001b[1;32min\u001b[0m \u001b[0mrange\u001b[0m\u001b[1;33m(\u001b[0m\u001b[0mNi\u001b[0m\u001b[1;33m)\u001b[0m \u001b[1;32mif\u001b[0m \u001b[0mi\u001b[0m \u001b[1;33m%\u001b[0m \u001b[1;36m2\u001b[0m \u001b[1;33m==\u001b[0m \u001b[1;36m0\u001b[0m\u001b[1;33m]\u001b[0m\u001b[1;33m\u001b[0m\u001b[1;33m\u001b[0m\u001b[0m\n\u001b[0;32m     12\u001b[0m     \u001b[0mfo\u001b[0m \u001b[1;33m=\u001b[0m \u001b[1;33m[\u001b[0m\u001b[0mf\u001b[0m\u001b[1;33m[\u001b[0m\u001b[0mi\u001b[0m\u001b[1;33m]\u001b[0m \u001b[1;32mfor\u001b[0m \u001b[0mi\u001b[0m \u001b[1;32min\u001b[0m \u001b[0mrange\u001b[0m\u001b[1;33m(\u001b[0m\u001b[0mNi\u001b[0m\u001b[1;33m)\u001b[0m \u001b[1;32mif\u001b[0m \u001b[0mi\u001b[0m \u001b[1;33m%\u001b[0m \u001b[1;36m2\u001b[0m \u001b[1;33m==\u001b[0m \u001b[1;36m1\u001b[0m\u001b[1;33m]\u001b[0m\u001b[1;33m\u001b[0m\u001b[1;33m\u001b[0m\u001b[0m\n\u001b[1;32m---> 13\u001b[1;33m     \u001b[0mFe\u001b[0m \u001b[1;33m=\u001b[0m \u001b[0mfft\u001b[0m\u001b[1;33m(\u001b[0m\u001b[0mfe\u001b[0m\u001b[1;33m)\u001b[0m\u001b[1;33m\u001b[0m\u001b[1;33m\u001b[0m\u001b[0m\n\u001b[0m\u001b[0;32m     14\u001b[0m     \u001b[0mFo\u001b[0m \u001b[1;33m=\u001b[0m \u001b[0mfft\u001b[0m\u001b[1;33m(\u001b[0m\u001b[0mfo\u001b[0m\u001b[1;33m)\u001b[0m\u001b[1;33m\u001b[0m\u001b[1;33m\u001b[0m\u001b[0m\n\u001b[0;32m     15\u001b[0m     \u001b[1;32mreturn\u001b[0m \u001b[1;33m[\u001b[0m\u001b[0mnp\u001b[0m\u001b[1;33m.\u001b[0m\u001b[0maround\u001b[0m\u001b[1;33m(\u001b[0m\u001b[0mFe\u001b[0m\u001b[1;33m[\u001b[0m\u001b[0mi\u001b[0m\u001b[1;33m]\u001b[0m \u001b[1;33m+\u001b[0m \u001b[1;33m(\u001b[0m\u001b[0mwn\u001b[0m\u001b[1;33m**\u001b[0m\u001b[0mi\u001b[0m\u001b[1;33m)\u001b[0m\u001b[1;33m*\u001b[0m\u001b[0mFo\u001b[0m\u001b[1;33m[\u001b[0m\u001b[0mi\u001b[0m\u001b[1;33m]\u001b[0m\u001b[1;33m,\u001b[0m \u001b[0mdecimals\u001b[0m\u001b[1;33m=\u001b[0m\u001b[1;36m10\u001b[0m\u001b[1;33m)\u001b[0m \u001b[1;32mfor\u001b[0m \u001b[0mi\u001b[0m \u001b[1;32min\u001b[0m \u001b[0mrange\u001b[0m\u001b[1;33m(\u001b[0m\u001b[0mMi\u001b[0m\u001b[1;33m)\u001b[0m\u001b[1;33m]\u001b[0m \u001b[1;33m+\u001b[0m \u001b[1;33m[\u001b[0m\u001b[0mnp\u001b[0m\u001b[1;33m.\u001b[0m\u001b[0maround\u001b[0m\u001b[1;33m(\u001b[0m\u001b[0mFe\u001b[0m\u001b[1;33m[\u001b[0m\u001b[0mi\u001b[0m\u001b[1;33m]\u001b[0m \u001b[1;33m-\u001b[0m \u001b[1;33m(\u001b[0m\u001b[0mwn\u001b[0m\u001b[1;33m**\u001b[0m\u001b[0mi\u001b[0m\u001b[1;33m)\u001b[0m\u001b[1;33m*\u001b[0m\u001b[0mFo\u001b[0m\u001b[1;33m[\u001b[0m\u001b[0mi\u001b[0m\u001b[1;33m]\u001b[0m\u001b[1;33m,\u001b[0m \u001b[0mdecimals\u001b[0m\u001b[1;33m=\u001b[0m\u001b[1;36m10\u001b[0m\u001b[1;33m)\u001b[0m \u001b[1;32mfor\u001b[0m \u001b[0mi\u001b[0m \u001b[1;32min\u001b[0m \u001b[0mrange\u001b[0m\u001b[1;33m(\u001b[0m\u001b[0mMi\u001b[0m\u001b[1;33m)\u001b[0m\u001b[1;33m]\u001b[0m\u001b[1;33m\u001b[0m\u001b[1;33m\u001b[0m\u001b[0m\n",
      "\u001b[1;32m<ipython-input-5-7e5e14e3a073>\u001b[0m in \u001b[0;36mfft\u001b[1;34m(f)\u001b[0m\n\u001b[0;32m     11\u001b[0m     \u001b[0mfe\u001b[0m \u001b[1;33m=\u001b[0m \u001b[1;33m[\u001b[0m\u001b[0mf\u001b[0m\u001b[1;33m[\u001b[0m\u001b[0mi\u001b[0m\u001b[1;33m]\u001b[0m \u001b[1;32mfor\u001b[0m \u001b[0mi\u001b[0m \u001b[1;32min\u001b[0m \u001b[0mrange\u001b[0m\u001b[1;33m(\u001b[0m\u001b[0mNi\u001b[0m\u001b[1;33m)\u001b[0m \u001b[1;32mif\u001b[0m \u001b[0mi\u001b[0m \u001b[1;33m%\u001b[0m \u001b[1;36m2\u001b[0m \u001b[1;33m==\u001b[0m \u001b[1;36m0\u001b[0m\u001b[1;33m]\u001b[0m\u001b[1;33m\u001b[0m\u001b[1;33m\u001b[0m\u001b[0m\n\u001b[0;32m     12\u001b[0m     \u001b[0mfo\u001b[0m \u001b[1;33m=\u001b[0m \u001b[1;33m[\u001b[0m\u001b[0mf\u001b[0m\u001b[1;33m[\u001b[0m\u001b[0mi\u001b[0m\u001b[1;33m]\u001b[0m \u001b[1;32mfor\u001b[0m \u001b[0mi\u001b[0m \u001b[1;32min\u001b[0m \u001b[0mrange\u001b[0m\u001b[1;33m(\u001b[0m\u001b[0mNi\u001b[0m\u001b[1;33m)\u001b[0m \u001b[1;32mif\u001b[0m \u001b[0mi\u001b[0m \u001b[1;33m%\u001b[0m \u001b[1;36m2\u001b[0m \u001b[1;33m==\u001b[0m \u001b[1;36m1\u001b[0m\u001b[1;33m]\u001b[0m\u001b[1;33m\u001b[0m\u001b[1;33m\u001b[0m\u001b[0m\n\u001b[1;32m---> 13\u001b[1;33m     \u001b[0mFe\u001b[0m \u001b[1;33m=\u001b[0m \u001b[0mfft\u001b[0m\u001b[1;33m(\u001b[0m\u001b[0mfe\u001b[0m\u001b[1;33m)\u001b[0m\u001b[1;33m\u001b[0m\u001b[1;33m\u001b[0m\u001b[0m\n\u001b[0m\u001b[0;32m     14\u001b[0m     \u001b[0mFo\u001b[0m \u001b[1;33m=\u001b[0m \u001b[0mfft\u001b[0m\u001b[1;33m(\u001b[0m\u001b[0mfo\u001b[0m\u001b[1;33m)\u001b[0m\u001b[1;33m\u001b[0m\u001b[1;33m\u001b[0m\u001b[0m\n\u001b[0;32m     15\u001b[0m     \u001b[1;32mreturn\u001b[0m \u001b[1;33m[\u001b[0m\u001b[0mnp\u001b[0m\u001b[1;33m.\u001b[0m\u001b[0maround\u001b[0m\u001b[1;33m(\u001b[0m\u001b[0mFe\u001b[0m\u001b[1;33m[\u001b[0m\u001b[0mi\u001b[0m\u001b[1;33m]\u001b[0m \u001b[1;33m+\u001b[0m \u001b[1;33m(\u001b[0m\u001b[0mwn\u001b[0m\u001b[1;33m**\u001b[0m\u001b[0mi\u001b[0m\u001b[1;33m)\u001b[0m\u001b[1;33m*\u001b[0m\u001b[0mFo\u001b[0m\u001b[1;33m[\u001b[0m\u001b[0mi\u001b[0m\u001b[1;33m]\u001b[0m\u001b[1;33m,\u001b[0m \u001b[0mdecimals\u001b[0m\u001b[1;33m=\u001b[0m\u001b[1;36m10\u001b[0m\u001b[1;33m)\u001b[0m \u001b[1;32mfor\u001b[0m \u001b[0mi\u001b[0m \u001b[1;32min\u001b[0m \u001b[0mrange\u001b[0m\u001b[1;33m(\u001b[0m\u001b[0mMi\u001b[0m\u001b[1;33m)\u001b[0m\u001b[1;33m]\u001b[0m \u001b[1;33m+\u001b[0m \u001b[1;33m[\u001b[0m\u001b[0mnp\u001b[0m\u001b[1;33m.\u001b[0m\u001b[0maround\u001b[0m\u001b[1;33m(\u001b[0m\u001b[0mFe\u001b[0m\u001b[1;33m[\u001b[0m\u001b[0mi\u001b[0m\u001b[1;33m]\u001b[0m \u001b[1;33m-\u001b[0m \u001b[1;33m(\u001b[0m\u001b[0mwn\u001b[0m\u001b[1;33m**\u001b[0m\u001b[0mi\u001b[0m\u001b[1;33m)\u001b[0m\u001b[1;33m*\u001b[0m\u001b[0mFo\u001b[0m\u001b[1;33m[\u001b[0m\u001b[0mi\u001b[0m\u001b[1;33m]\u001b[0m\u001b[1;33m,\u001b[0m \u001b[0mdecimals\u001b[0m\u001b[1;33m=\u001b[0m\u001b[1;36m10\u001b[0m\u001b[1;33m)\u001b[0m \u001b[1;32mfor\u001b[0m \u001b[0mi\u001b[0m \u001b[1;32min\u001b[0m \u001b[0mrange\u001b[0m\u001b[1;33m(\u001b[0m\u001b[0mMi\u001b[0m\u001b[1;33m)\u001b[0m\u001b[1;33m]\u001b[0m\u001b[1;33m\u001b[0m\u001b[1;33m\u001b[0m\u001b[0m\n",
      "\u001b[1;32m<ipython-input-5-7e5e14e3a073>\u001b[0m in \u001b[0;36mfft\u001b[1;34m(f)\u001b[0m\n\u001b[0;32m     11\u001b[0m     \u001b[0mfe\u001b[0m \u001b[1;33m=\u001b[0m \u001b[1;33m[\u001b[0m\u001b[0mf\u001b[0m\u001b[1;33m[\u001b[0m\u001b[0mi\u001b[0m\u001b[1;33m]\u001b[0m \u001b[1;32mfor\u001b[0m \u001b[0mi\u001b[0m \u001b[1;32min\u001b[0m \u001b[0mrange\u001b[0m\u001b[1;33m(\u001b[0m\u001b[0mNi\u001b[0m\u001b[1;33m)\u001b[0m \u001b[1;32mif\u001b[0m \u001b[0mi\u001b[0m \u001b[1;33m%\u001b[0m \u001b[1;36m2\u001b[0m \u001b[1;33m==\u001b[0m \u001b[1;36m0\u001b[0m\u001b[1;33m]\u001b[0m\u001b[1;33m\u001b[0m\u001b[1;33m\u001b[0m\u001b[0m\n\u001b[0;32m     12\u001b[0m     \u001b[0mfo\u001b[0m \u001b[1;33m=\u001b[0m \u001b[1;33m[\u001b[0m\u001b[0mf\u001b[0m\u001b[1;33m[\u001b[0m\u001b[0mi\u001b[0m\u001b[1;33m]\u001b[0m \u001b[1;32mfor\u001b[0m \u001b[0mi\u001b[0m \u001b[1;32min\u001b[0m \u001b[0mrange\u001b[0m\u001b[1;33m(\u001b[0m\u001b[0mNi\u001b[0m\u001b[1;33m)\u001b[0m \u001b[1;32mif\u001b[0m \u001b[0mi\u001b[0m \u001b[1;33m%\u001b[0m \u001b[1;36m2\u001b[0m \u001b[1;33m==\u001b[0m \u001b[1;36m1\u001b[0m\u001b[1;33m]\u001b[0m\u001b[1;33m\u001b[0m\u001b[1;33m\u001b[0m\u001b[0m\n\u001b[1;32m---> 13\u001b[1;33m     \u001b[0mFe\u001b[0m \u001b[1;33m=\u001b[0m \u001b[0mfft\u001b[0m\u001b[1;33m(\u001b[0m\u001b[0mfe\u001b[0m\u001b[1;33m)\u001b[0m\u001b[1;33m\u001b[0m\u001b[1;33m\u001b[0m\u001b[0m\n\u001b[0m\u001b[0;32m     14\u001b[0m     \u001b[0mFo\u001b[0m \u001b[1;33m=\u001b[0m \u001b[0mfft\u001b[0m\u001b[1;33m(\u001b[0m\u001b[0mfo\u001b[0m\u001b[1;33m)\u001b[0m\u001b[1;33m\u001b[0m\u001b[1;33m\u001b[0m\u001b[0m\n\u001b[0;32m     15\u001b[0m     \u001b[1;32mreturn\u001b[0m \u001b[1;33m[\u001b[0m\u001b[0mnp\u001b[0m\u001b[1;33m.\u001b[0m\u001b[0maround\u001b[0m\u001b[1;33m(\u001b[0m\u001b[0mFe\u001b[0m\u001b[1;33m[\u001b[0m\u001b[0mi\u001b[0m\u001b[1;33m]\u001b[0m \u001b[1;33m+\u001b[0m \u001b[1;33m(\u001b[0m\u001b[0mwn\u001b[0m\u001b[1;33m**\u001b[0m\u001b[0mi\u001b[0m\u001b[1;33m)\u001b[0m\u001b[1;33m*\u001b[0m\u001b[0mFo\u001b[0m\u001b[1;33m[\u001b[0m\u001b[0mi\u001b[0m\u001b[1;33m]\u001b[0m\u001b[1;33m,\u001b[0m \u001b[0mdecimals\u001b[0m\u001b[1;33m=\u001b[0m\u001b[1;36m10\u001b[0m\u001b[1;33m)\u001b[0m \u001b[1;32mfor\u001b[0m \u001b[0mi\u001b[0m \u001b[1;32min\u001b[0m \u001b[0mrange\u001b[0m\u001b[1;33m(\u001b[0m\u001b[0mMi\u001b[0m\u001b[1;33m)\u001b[0m\u001b[1;33m]\u001b[0m \u001b[1;33m+\u001b[0m \u001b[1;33m[\u001b[0m\u001b[0mnp\u001b[0m\u001b[1;33m.\u001b[0m\u001b[0maround\u001b[0m\u001b[1;33m(\u001b[0m\u001b[0mFe\u001b[0m\u001b[1;33m[\u001b[0m\u001b[0mi\u001b[0m\u001b[1;33m]\u001b[0m \u001b[1;33m-\u001b[0m \u001b[1;33m(\u001b[0m\u001b[0mwn\u001b[0m\u001b[1;33m**\u001b[0m\u001b[0mi\u001b[0m\u001b[1;33m)\u001b[0m\u001b[1;33m*\u001b[0m\u001b[0mFo\u001b[0m\u001b[1;33m[\u001b[0m\u001b[0mi\u001b[0m\u001b[1;33m]\u001b[0m\u001b[1;33m,\u001b[0m \u001b[0mdecimals\u001b[0m\u001b[1;33m=\u001b[0m\u001b[1;36m10\u001b[0m\u001b[1;33m)\u001b[0m \u001b[1;32mfor\u001b[0m \u001b[0mi\u001b[0m \u001b[1;32min\u001b[0m \u001b[0mrange\u001b[0m\u001b[1;33m(\u001b[0m\u001b[0mMi\u001b[0m\u001b[1;33m)\u001b[0m\u001b[1;33m]\u001b[0m\u001b[1;33m\u001b[0m\u001b[1;33m\u001b[0m\u001b[0m\n",
      "\u001b[1;32m<ipython-input-5-7e5e14e3a073>\u001b[0m in \u001b[0;36mfft\u001b[1;34m(f)\u001b[0m\n\u001b[0;32m     13\u001b[0m     \u001b[0mFe\u001b[0m \u001b[1;33m=\u001b[0m \u001b[0mfft\u001b[0m\u001b[1;33m(\u001b[0m\u001b[0mfe\u001b[0m\u001b[1;33m)\u001b[0m\u001b[1;33m\u001b[0m\u001b[1;33m\u001b[0m\u001b[0m\n\u001b[0;32m     14\u001b[0m     \u001b[0mFo\u001b[0m \u001b[1;33m=\u001b[0m \u001b[0mfft\u001b[0m\u001b[1;33m(\u001b[0m\u001b[0mfo\u001b[0m\u001b[1;33m)\u001b[0m\u001b[1;33m\u001b[0m\u001b[1;33m\u001b[0m\u001b[0m\n\u001b[1;32m---> 15\u001b[1;33m     \u001b[1;32mreturn\u001b[0m \u001b[1;33m[\u001b[0m\u001b[0mnp\u001b[0m\u001b[1;33m.\u001b[0m\u001b[0maround\u001b[0m\u001b[1;33m(\u001b[0m\u001b[0mFe\u001b[0m\u001b[1;33m[\u001b[0m\u001b[0mi\u001b[0m\u001b[1;33m]\u001b[0m \u001b[1;33m+\u001b[0m \u001b[1;33m(\u001b[0m\u001b[0mwn\u001b[0m\u001b[1;33m**\u001b[0m\u001b[0mi\u001b[0m\u001b[1;33m)\u001b[0m\u001b[1;33m*\u001b[0m\u001b[0mFo\u001b[0m\u001b[1;33m[\u001b[0m\u001b[0mi\u001b[0m\u001b[1;33m]\u001b[0m\u001b[1;33m,\u001b[0m \u001b[0mdecimals\u001b[0m\u001b[1;33m=\u001b[0m\u001b[1;36m10\u001b[0m\u001b[1;33m)\u001b[0m \u001b[1;32mfor\u001b[0m \u001b[0mi\u001b[0m \u001b[1;32min\u001b[0m \u001b[0mrange\u001b[0m\u001b[1;33m(\u001b[0m\u001b[0mMi\u001b[0m\u001b[1;33m)\u001b[0m\u001b[1;33m]\u001b[0m \u001b[1;33m+\u001b[0m \u001b[1;33m[\u001b[0m\u001b[0mnp\u001b[0m\u001b[1;33m.\u001b[0m\u001b[0maround\u001b[0m\u001b[1;33m(\u001b[0m\u001b[0mFe\u001b[0m\u001b[1;33m[\u001b[0m\u001b[0mi\u001b[0m\u001b[1;33m]\u001b[0m \u001b[1;33m-\u001b[0m \u001b[1;33m(\u001b[0m\u001b[0mwn\u001b[0m\u001b[1;33m**\u001b[0m\u001b[0mi\u001b[0m\u001b[1;33m)\u001b[0m\u001b[1;33m*\u001b[0m\u001b[0mFo\u001b[0m\u001b[1;33m[\u001b[0m\u001b[0mi\u001b[0m\u001b[1;33m]\u001b[0m\u001b[1;33m,\u001b[0m \u001b[0mdecimals\u001b[0m\u001b[1;33m=\u001b[0m\u001b[1;36m10\u001b[0m\u001b[1;33m)\u001b[0m \u001b[1;32mfor\u001b[0m \u001b[0mi\u001b[0m \u001b[1;32min\u001b[0m \u001b[0mrange\u001b[0m\u001b[1;33m(\u001b[0m\u001b[0mMi\u001b[0m\u001b[1;33m)\u001b[0m\u001b[1;33m]\u001b[0m\u001b[1;33m\u001b[0m\u001b[1;33m\u001b[0m\u001b[0m\n\u001b[0m\u001b[0;32m     16\u001b[0m \u001b[1;33m\u001b[0m\u001b[0m\n\u001b[0;32m     17\u001b[0m \u001b[1;32mdef\u001b[0m \u001b[0mget_pressed\u001b[0m\u001b[1;33m(\u001b[0m\u001b[0mf\u001b[0m\u001b[1;33m,\u001b[0m \u001b[0mspectrum\u001b[0m\u001b[1;33m)\u001b[0m\u001b[1;33m:\u001b[0m\u001b[1;33m\u001b[0m\u001b[1;33m\u001b[0m\u001b[0m\n",
      "\u001b[1;32m<ipython-input-5-7e5e14e3a073>\u001b[0m in \u001b[0;36m<listcomp>\u001b[1;34m(.0)\u001b[0m\n\u001b[0;32m     13\u001b[0m     \u001b[0mFe\u001b[0m \u001b[1;33m=\u001b[0m \u001b[0mfft\u001b[0m\u001b[1;33m(\u001b[0m\u001b[0mfe\u001b[0m\u001b[1;33m)\u001b[0m\u001b[1;33m\u001b[0m\u001b[1;33m\u001b[0m\u001b[0m\n\u001b[0;32m     14\u001b[0m     \u001b[0mFo\u001b[0m \u001b[1;33m=\u001b[0m \u001b[0mfft\u001b[0m\u001b[1;33m(\u001b[0m\u001b[0mfo\u001b[0m\u001b[1;33m)\u001b[0m\u001b[1;33m\u001b[0m\u001b[1;33m\u001b[0m\u001b[0m\n\u001b[1;32m---> 15\u001b[1;33m     \u001b[1;32mreturn\u001b[0m \u001b[1;33m[\u001b[0m\u001b[0mnp\u001b[0m\u001b[1;33m.\u001b[0m\u001b[0maround\u001b[0m\u001b[1;33m(\u001b[0m\u001b[0mFe\u001b[0m\u001b[1;33m[\u001b[0m\u001b[0mi\u001b[0m\u001b[1;33m]\u001b[0m \u001b[1;33m+\u001b[0m \u001b[1;33m(\u001b[0m\u001b[0mwn\u001b[0m\u001b[1;33m**\u001b[0m\u001b[0mi\u001b[0m\u001b[1;33m)\u001b[0m\u001b[1;33m*\u001b[0m\u001b[0mFo\u001b[0m\u001b[1;33m[\u001b[0m\u001b[0mi\u001b[0m\u001b[1;33m]\u001b[0m\u001b[1;33m,\u001b[0m \u001b[0mdecimals\u001b[0m\u001b[1;33m=\u001b[0m\u001b[1;36m10\u001b[0m\u001b[1;33m)\u001b[0m \u001b[1;32mfor\u001b[0m \u001b[0mi\u001b[0m \u001b[1;32min\u001b[0m \u001b[0mrange\u001b[0m\u001b[1;33m(\u001b[0m\u001b[0mMi\u001b[0m\u001b[1;33m)\u001b[0m\u001b[1;33m]\u001b[0m \u001b[1;33m+\u001b[0m \u001b[1;33m[\u001b[0m\u001b[0mnp\u001b[0m\u001b[1;33m.\u001b[0m\u001b[0maround\u001b[0m\u001b[1;33m(\u001b[0m\u001b[0mFe\u001b[0m\u001b[1;33m[\u001b[0m\u001b[0mi\u001b[0m\u001b[1;33m]\u001b[0m \u001b[1;33m-\u001b[0m \u001b[1;33m(\u001b[0m\u001b[0mwn\u001b[0m\u001b[1;33m**\u001b[0m\u001b[0mi\u001b[0m\u001b[1;33m)\u001b[0m\u001b[1;33m*\u001b[0m\u001b[0mFo\u001b[0m\u001b[1;33m[\u001b[0m\u001b[0mi\u001b[0m\u001b[1;33m]\u001b[0m\u001b[1;33m,\u001b[0m \u001b[0mdecimals\u001b[0m\u001b[1;33m=\u001b[0m\u001b[1;36m10\u001b[0m\u001b[1;33m)\u001b[0m \u001b[1;32mfor\u001b[0m \u001b[0mi\u001b[0m \u001b[1;32min\u001b[0m \u001b[0mrange\u001b[0m\u001b[1;33m(\u001b[0m\u001b[0mMi\u001b[0m\u001b[1;33m)\u001b[0m\u001b[1;33m]\u001b[0m\u001b[1;33m\u001b[0m\u001b[1;33m\u001b[0m\u001b[0m\n\u001b[0m\u001b[0;32m     16\u001b[0m \u001b[1;33m\u001b[0m\u001b[0m\n\u001b[0;32m     17\u001b[0m \u001b[1;32mdef\u001b[0m \u001b[0mget_pressed\u001b[0m\u001b[1;33m(\u001b[0m\u001b[0mf\u001b[0m\u001b[1;33m,\u001b[0m \u001b[0mspectrum\u001b[0m\u001b[1;33m)\u001b[0m\u001b[1;33m:\u001b[0m\u001b[1;33m\u001b[0m\u001b[1;33m\u001b[0m\u001b[0m\n",
      "\u001b[1;32m<__array_function__ internals>\u001b[0m in \u001b[0;36maround\u001b[1;34m(*args, **kwargs)\u001b[0m\n",
      "\u001b[1;32mc:\\users\\christian\\.virtualenvs\\guitar_music_note_recognizer_notebook\\lib\\site-packages\\numpy\\core\\fromnumeric.py\u001b[0m in \u001b[0;36maround\u001b[1;34m(a, decimals, out)\u001b[0m\n\u001b[0;32m   3222\u001b[0m \u001b[1;33m\u001b[0m\u001b[0m\n\u001b[0;32m   3223\u001b[0m     \"\"\"\n\u001b[1;32m-> 3224\u001b[1;33m     \u001b[1;32mreturn\u001b[0m \u001b[0m_wrapfunc\u001b[0m\u001b[1;33m(\u001b[0m\u001b[0ma\u001b[0m\u001b[1;33m,\u001b[0m \u001b[1;34m'round'\u001b[0m\u001b[1;33m,\u001b[0m \u001b[0mdecimals\u001b[0m\u001b[1;33m=\u001b[0m\u001b[0mdecimals\u001b[0m\u001b[1;33m,\u001b[0m \u001b[0mout\u001b[0m\u001b[1;33m=\u001b[0m\u001b[0mout\u001b[0m\u001b[1;33m)\u001b[0m\u001b[1;33m\u001b[0m\u001b[1;33m\u001b[0m\u001b[0m\n\u001b[0m\u001b[0;32m   3225\u001b[0m \u001b[1;33m\u001b[0m\u001b[0m\n\u001b[0;32m   3226\u001b[0m \u001b[1;33m\u001b[0m\u001b[0m\n",
      "\u001b[1;32mc:\\users\\christian\\.virtualenvs\\guitar_music_note_recognizer_notebook\\lib\\site-packages\\numpy\\core\\fromnumeric.py\u001b[0m in \u001b[0;36m_wrapfunc\u001b[1;34m(obj, method, *args, **kwds)\u001b[0m\n\u001b[0;32m     59\u001b[0m \u001b[1;33m\u001b[0m\u001b[0m\n\u001b[0;32m     60\u001b[0m     \u001b[1;32mtry\u001b[0m\u001b[1;33m:\u001b[0m\u001b[1;33m\u001b[0m\u001b[1;33m\u001b[0m\u001b[0m\n\u001b[1;32m---> 61\u001b[1;33m         \u001b[1;32mreturn\u001b[0m \u001b[0mbound\u001b[0m\u001b[1;33m(\u001b[0m\u001b[1;33m*\u001b[0m\u001b[0margs\u001b[0m\u001b[1;33m,\u001b[0m \u001b[1;33m**\u001b[0m\u001b[0mkwds\u001b[0m\u001b[1;33m)\u001b[0m\u001b[1;33m\u001b[0m\u001b[1;33m\u001b[0m\u001b[0m\n\u001b[0m\u001b[0;32m     62\u001b[0m     \u001b[1;32mexcept\u001b[0m \u001b[0mTypeError\u001b[0m\u001b[1;33m:\u001b[0m\u001b[1;33m\u001b[0m\u001b[1;33m\u001b[0m\u001b[0m\n\u001b[0;32m     63\u001b[0m         \u001b[1;31m# A TypeError occurs if the object does have such a method in its\u001b[0m\u001b[1;33m\u001b[0m\u001b[1;33m\u001b[0m\u001b[1;33m\u001b[0m\u001b[0m\n",
      "\u001b[1;31mKeyboardInterrupt\u001b[0m: "
     ]
    }
   ],
   "source": [
    "for label in os.listdir(DATA_DIR):\n",
    "    print(label)\n",
    "    labeldir= os.path.join(DATA_DIR, label)\n",
    "\n",
    "    for filename in os.listdir(labeldir):\n",
    "        filepath = os.path.join(DATA_DIR, label, filename)\n",
    "\n",
    "        audio_features = get_audio_data(filepath, quiet=True)\n",
    "        if not audio_features:\n",
    "            continue\n",
    "\n",
    "        x, tp, N = audio_features\n",
    "        ti, fi, X_amp = get_frequency_amplitude(x, tp, N)\n",
    "\n",
    "        pressed = get_pressed(fi, X_amp)\n",
    "    #     print(pressed, 'was pressed.')"
   ]
  },
  {
   "cell_type": "code",
   "execution_count": null,
   "metadata": {},
   "outputs": [],
   "source": [
    "for label in os.listdir(DATA_DIR):\n",
    "    print(label)\n",
    "    labeldir= os.path.join(DATA_DIR, label)\n",
    "\n",
    "    for filename in os.listdir(labeldir):\n",
    "        filepath = os.path.join(DATA_DIR, label, filename)\n",
    "\n",
    "        audio_features = get_audio_data(filepath, quiet=True)\n",
    "        if not audio_features:\n",
    "            continue\n",
    "\n",
    "        x, tp, N = audio_features\n",
    "        ti, fi, X_amp = get_frequency_amplitude(x, tp, N)\n",
    "\n",
    "        pressed = get_pressed(fi, X_amp)\n",
    "    #     print(pressed, 'was pressed.')"
   ]
  },
  {
   "cell_type": "code",
   "execution_count": null,
   "metadata": {},
   "outputs": [],
   "source": [
    "np.log2(4096)"
   ]
  },
  {
   "cell_type": "code",
   "execution_count": null,
   "metadata": {},
   "outputs": [],
   "source": []
  }
 ],
 "metadata": {
  "kernelspec": {
   "display_name": "Python 3",
   "language": "python",
   "name": "python3"
  }
 },
 "nbformat": 4,
 "nbformat_minor": 4
}

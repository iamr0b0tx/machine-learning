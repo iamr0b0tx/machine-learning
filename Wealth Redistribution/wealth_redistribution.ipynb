{
 "cells": [
  {
   "cell_type": "code",
   "execution_count": 1,
   "metadata": {},
   "outputs": [],
   "source": [
    "%load_ext autoreload\n",
    "%autoreload 2"
   ]
  },
  {
   "cell_type": "markdown",
   "metadata": {},
   "source": [
    "## import all necessary modules"
   ]
  },
  {
   "cell_type": "code",
   "execution_count": 2,
   "metadata": {},
   "outputs": [],
   "source": [
    "# from third party libs\n",
    "import numpy as np\n",
    "import pandas as pd\n",
    "\n",
    "from sklearn.svm import SVC\n",
    "from sklearn.cluster import KMeans\n",
    "from matplotlib import pyplot as plt\n",
    "from sklearn.model_selection import train_test_split\n",
    "from sklearn.metrics import classification_report, confusion_matrix"
   ]
  },
  {
   "cell_type": "markdown",
   "metadata": {},
   "source": [
    "## define useful functions"
   ]
  },
  {
   "cell_type": "code",
   "execution_count": 3,
   "metadata": {},
   "outputs": [],
   "source": [
    "def show_data(x, y, n):\n",
    "    for a, b in zip(x[:n], y[:n]):\n",
    "        print(a, b)\n",
    "    return\n",
    "\n",
    "def group_age(x):\n",
    "    if 18 <= x <= 25:\n",
    "        return 0\n",
    "    elif 26 <= x <= 33:\n",
    "        return 1\n",
    "    elif 34 <= x <= 41:\n",
    "        return 2\n",
    "    elif 42 <= x <= 49:\n",
    "        return 3\n",
    "    elif 50 <= x <= 60:\n",
    "        return 4\n",
    "    elif x > 60:\n",
    "        return 5\n",
    "    else:\n",
    "        print(f\"Unexpected datapoint '{x}' in Age\")\n",
    "        return -1\n",
    "\n",
    "def group_employed(x):\n",
    "    if x == \"yes\":\n",
    "        return 1\n",
    "    elif x == \"no\":\n",
    "        return 0\n",
    "    else:\n",
    "        print(f\"Unexpected datapoint '{x}' in Employed\")\n",
    "        return -1\n",
    "\n",
    "def group_household_size(x):\n",
    "    if x > 4:\n",
    "        return 2\n",
    "    elif x == 4:\n",
    "        return 1\n",
    "    elif x < 4:\n",
    "        return 0\n",
    "    else:\n",
    "        print(f\"Unexpected datapoint '{x}' in Household size\")\n",
    "        return x\n",
    "    \n",
    "def group_benefit(x):\n",
    "    if x < 1500:\n",
    "        return 0\n",
    "    elif x == 1500:\n",
    "        return 1\n",
    "    elif x > 1500:\n",
    "        return 2\n",
    "    else:\n",
    "        print(f\"Unexpected datapoint '{x}' in Benefit\")\n",
    "        return x"
   ]
  },
  {
   "cell_type": "markdown",
   "metadata": {},
   "source": [
    "## load dataset"
   ]
  },
  {
   "cell_type": "code",
   "execution_count": 4,
   "metadata": {},
   "outputs": [
    {
     "data": {
      "text/html": [
       "<div>\n",
       "<style scoped>\n",
       "    .dataframe tbody tr th:only-of-type {\n",
       "        vertical-align: middle;\n",
       "    }\n",
       "\n",
       "    .dataframe tbody tr th {\n",
       "        vertical-align: top;\n",
       "    }\n",
       "\n",
       "    .dataframe thead th {\n",
       "        text-align: right;\n",
       "    }\n",
       "</style>\n",
       "<table border=\"1\" class=\"dataframe\">\n",
       "  <thead>\n",
       "    <tr style=\"text-align: right;\">\n",
       "      <th></th>\n",
       "      <th>Age</th>\n",
       "      <th>Household_size</th>\n",
       "      <th>Employed</th>\n",
       "      <th>label</th>\n",
       "    </tr>\n",
       "  </thead>\n",
       "  <tbody>\n",
       "    <tr>\n",
       "      <th>0</th>\n",
       "      <td>26</td>\n",
       "      <td>5</td>\n",
       "      <td>yes</td>\n",
       "      <td>0</td>\n",
       "    </tr>\n",
       "    <tr>\n",
       "      <th>1</th>\n",
       "      <td>65</td>\n",
       "      <td>3</td>\n",
       "      <td>no</td>\n",
       "      <td>0</td>\n",
       "    </tr>\n",
       "    <tr>\n",
       "      <th>2</th>\n",
       "      <td>45</td>\n",
       "      <td>3</td>\n",
       "      <td>yes</td>\n",
       "      <td>0</td>\n",
       "    </tr>\n",
       "    <tr>\n",
       "      <th>3</th>\n",
       "      <td>25</td>\n",
       "      <td>4</td>\n",
       "      <td>yes</td>\n",
       "      <td>0</td>\n",
       "    </tr>\n",
       "    <tr>\n",
       "      <th>4</th>\n",
       "      <td>73</td>\n",
       "      <td>5</td>\n",
       "      <td>no</td>\n",
       "      <td>0</td>\n",
       "    </tr>\n",
       "  </tbody>\n",
       "</table>\n",
       "</div>"
      ],
      "text/plain": [
       "   Age  Household_size Employed  label\n",
       "0   26               5      yes      0\n",
       "1   65               3       no      0\n",
       "2   45               3      yes      0\n",
       "3   25               4      yes      0\n",
       "4   73               5       no      0"
      ]
     },
     "execution_count": 4,
     "metadata": {},
     "output_type": "execute_result"
    }
   ],
   "source": [
    "dataset = pd.read_csv(\"dataset.csv\")\n",
    "dataset.head()"
   ]
  },
  {
   "cell_type": "markdown",
   "metadata": {},
   "source": [
    "## Prepare data"
   ]
  },
  {
   "cell_type": "code",
   "execution_count": 5,
   "metadata": {},
   "outputs": [
    {
     "name": "stdout",
     "output_type": "stream",
     "text": [
      "[26 5 1] 1066.6666666666665\n",
      "[65 3 0] 2266.666666666667\n",
      "[45 3 1] 1633.3333333333333\n",
      "[25 4 1] 1000.0\n",
      "[73 5 0] 2600.0\n",
      "[74 4 0] 2600.0\n",
      "[90 4 0] 3133.333333333333\n",
      "[34 3 1] 1266.6666666666665\n",
      "[28 4 1] 1100.0\n",
      "[32 2 0] 1133.3333333333335\n"
     ]
    }
   ],
   "source": [
    "X = dataset[[\"Age\", \"Household_size\", \"Employed\"]].to_numpy()\n",
    "\n",
    "# turn yes to 1 and no to 0\n",
    "X[:, 2] = np.vectorize(group_employed)(X[:, 2])\n",
    "\n",
    "Y = 100 * X.mean(1)#dataset[\"label\"]\n",
    "\n",
    "show_data(X, Y, 10)"
   ]
  },
  {
   "cell_type": "code",
   "execution_count": 6,
   "metadata": {},
   "outputs": [
    {
     "name": "stdout",
     "output_type": "stream",
     "text": [
      "[1 2 1] 0\n",
      "[5 0 0] 2\n",
      "[3 0 1] 2\n",
      "[0 1 1] 0\n",
      "[5 2 0] 2\n",
      "[5 1 0] 2\n",
      "[5 1 0] 2\n",
      "[2 0 1] 0\n",
      "[1 1 1] 0\n",
      "[1 0 0] 0\n"
     ]
    }
   ],
   "source": [
    "X_group = X.copy()\n",
    "Y_group = Y.copy()\n",
    "\n",
    "# group age\n",
    "X_group[:, 0] = np.vectorize(group_age)(X[:, 0])\n",
    "\n",
    "# group house hold size\n",
    "X_group[:, 1] = np.vectorize(group_household_size)(X[:, 1])\n",
    "\n",
    "\n",
    "Y_group = np.vectorize(group_benefit)(Y)\n",
    "num_of_classes = len(np.unique(Y_group))\n",
    "\n",
    "show_data(X_group, Y_group, 10)"
   ]
  },
  {
   "cell_type": "code",
   "execution_count": 13,
   "metadata": {},
   "outputs": [],
   "source": [
    "x_train, x_test, y_train, y_test = train_test_split(X, Y_group, test_size=0.33, random_state=42)"
   ]
  },
  {
   "cell_type": "code",
   "execution_count": 14,
   "metadata": {
    "scrolled": true
   },
   "outputs": [
    {
     "data": {
      "text/plain": [
       "Text(0.5, 1.0, 'Benefit against Age Group')"
      ]
     },
     "execution_count": 14,
     "metadata": {},
     "output_type": "execute_result"
    },
    {
     "data": {
      "image/png": "[encoded data removed]",
      "text/plain": [
       "<Figure size 432x288 with 1 Axes>"
      ]
     },
     "metadata": {
      "needs_background": "light"
     },
     "output_type": "display_data"
    }
   ],
   "source": [
    "plt.scatter(X[:, 0], Y_group)\n",
    "plt.title(\"Benefit against Age Group\")"
   ]
  },
  {
   "cell_type": "code",
   "execution_count": 15,
   "metadata": {},
   "outputs": [
    {
     "data": {
      "text/plain": [
       "Text(0.5, 1.0, 'Benefit against HouseHold Size Group')"
      ]
     },
     "execution_count": 15,
     "metadata": {},
     "output_type": "execute_result"
    },
    {
     "data": {
      "image/png": "[encoded data removed]",
      "text/plain": [
       "<Figure size 432x288 with 1 Axes>"
      ]
     },
     "metadata": {
      "needs_background": "light"
     },
     "output_type": "display_data"
    }
   ],
   "source": [
    "plt.scatter(X[:, 1], Y_group)\n",
    "plt.title(\"Benefit against HouseHold Size Group\")"
   ]
  },
  {
   "cell_type": "code",
   "execution_count": 16,
   "metadata": {},
   "outputs": [
    {
     "data": {
      "text/plain": [
       "Text(0.5, 1.0, 'Benefit against Employed Group')"
      ]
     },
     "execution_count": 16,
     "metadata": {},
     "output_type": "execute_result"
    },
    {
     "data": {
      "image/png": "[encoded data removed]",
      "text/plain": [
       "<Figure size 432x288 with 1 Axes>"
      ]
     },
     "metadata": {
      "needs_background": "light"
     },
     "output_type": "display_data"
    }
   ],
   "source": [
    "plt.scatter(X[:, 2], Y_group)\n",
    "plt.title(\"Benefit against Employed Group\")"
   ]
  },
  {
   "cell_type": "markdown",
   "metadata": {},
   "source": [
    "## Prep K-Means Algorithm"
   ]
  },
  {
   "cell_type": "code",
   "execution_count": 17,
   "metadata": {},
   "outputs": [],
   "source": [
    "kmeans = KMeans(n_clusters=num_of_classes, random_state=0)"
   ]
  },
  {
   "cell_type": "markdown",
   "metadata": {},
   "source": [
    "## Run the model"
   ]
  },
  {
   "cell_type": "code",
   "execution_count": 19,
   "metadata": {},
   "outputs": [],
   "source": [
    "kmeans = kmeans.fit(X)"
   ]
  },
  {
   "cell_type": "markdown",
   "metadata": {},
   "source": [
    "## Analyse result"
   ]
  },
  {
   "cell_type": "code",
   "execution_count": 20,
   "metadata": {},
   "outputs": [
    {
     "data": {
      "text/plain": [
       "array([0, 1, 2, 0, 1, 1, 1, 0, 0, 0])"
      ]
     },
     "execution_count": 20,
     "metadata": {},
     "output_type": "execute_result"
    }
   ],
   "source": [
    "kmeans.labels_[:10]"
   ]
  },
  {
   "cell_type": "code",
   "execution_count": 21,
   "metadata": {},
   "outputs": [
    {
     "data": {
      "text/plain": [
       "array([[27.47169811,  3.81132075,  0.46226415],\n",
       "       [59.4516129 ,  3.85483871,  0.5       ],\n",
       "       [43.6625    ,  3.9       ,  0.45      ]])"
      ]
     },
     "execution_count": 21,
     "metadata": {},
     "output_type": "execute_result"
    }
   ],
   "source": [
    "kmeans.cluster_centers_"
   ]
  },
  {
   "cell_type": "code",
   "execution_count": 23,
   "metadata": {},
   "outputs": [
    {
     "data": {
      "text/plain": [
       "array([1, 1, 0, 1, 2, 0, 1, 0, 0, 2])"
      ]
     },
     "execution_count": 23,
     "metadata": {},
     "output_type": "execute_result"
    }
   ],
   "source": [
    "kmeans_y_pred = kmeans.predict(x_test)\n",
    "kmeans_y_pred[:10]"
   ]
  },
  {
   "cell_type": "code",
   "execution_count": 24,
   "metadata": {},
   "outputs": [],
   "source": [
    "# print(confusion_matrix(y_test, kmeans_y_pred))"
   ]
  },
  {
   "cell_type": "code",
   "execution_count": 25,
   "metadata": {},
   "outputs": [],
   "source": [
    "# print(classification_report(y_test, kmeans_y_pred))"
   ]
  },
  {
   "cell_type": "code",
   "execution_count": 33,
   "metadata": {
    "scrolled": true
   },
   "outputs": [
    {
     "name": "stdout",
     "output_type": "stream",
     "text": [
      "Benefit against Age Group\n"
     ]
    },
    {
     "data": {
      "text/plain": [
       "Text(0.5, 1.0, 'Kmeans')"
      ]
     },
     "execution_count": 33,
     "metadata": {},
     "output_type": "execute_result"
    },
    {
     "data": {
      "image/png": "[encoded data removed]",
      "text/plain": [
       "<Figure size 432x288 with 2 Axes>"
      ]
     },
     "metadata": {
      "needs_background": "light"
     },
     "output_type": "display_data"
    }
   ],
   "source": [
    "print(\"Benefit against Age Group\")\n",
    "\n",
    "plt.subplot(221)\n",
    "plt.scatter(X[:, 0], Y_group)\n",
    "plt.title(\"Actual\")\n",
    "\n",
    "plt.subplot(222)\n",
    "plt.scatter(X[:, 0], kmeans.labels_, c=10+np.zeros(len(X)))\n",
    "plt.title(\"Kmeans\")"
   ]
  },
  {
   "cell_type": "code",
   "execution_count": 36,
   "metadata": {},
   "outputs": [
    {
     "name": "stdout",
     "output_type": "stream",
     "text": [
      "Benefit against HouseHold Size Group\n"
     ]
    },
    {
     "data": {
      "text/plain": [
       "Text(0.5, 1.0, 'Kmeans')"
      ]
     },
     "execution_count": 36,
     "metadata": {},
     "output_type": "execute_result"
    },
    {
     "data": {
      "image/png": "[encoded data removed]",
      "text/plain": [
       "<Figure size 432x288 with 2 Axes>"
      ]
     },
     "metadata": {
      "needs_background": "light"
     },
     "output_type": "display_data"
    }
   ],
   "source": [
    "print(\"Benefit against HouseHold Size Group\")\n",
    "\n",
    "plt.subplot(221)\n",
    "plt.scatter(X[:, 1], Y_group)\n",
    "plt.title(\"Actual\")\n",
    "\n",
    "plt.subplot(222)\n",
    "plt.scatter(X[:, 2], kmeans.labels_, c=10+np.zeros(len(X)))\n",
    "plt.title(\"Kmeans\")"
   ]
  },
  {
   "cell_type": "code",
   "execution_count": 35,
   "metadata": {},
   "outputs": [
    {
     "name": "stdout",
     "output_type": "stream",
     "text": [
      "Benefit against Employed Group\n"
     ]
    },
    {
     "data": {
      "text/plain": [
       "Text(0.5, 1.0, 'Kmeans')"
      ]
     },
     "execution_count": 35,
     "metadata": {},
     "output_type": "execute_result"
    },
    {
     "data": {
      "image/png": "[encoded data removed]",
      "text/plain": [
       "<Figure size 432x288 with 2 Axes>"
      ]
     },
     "metadata": {
      "needs_background": "light"
     },
     "output_type": "display_data"
    }
   ],
   "source": [
    "print(\"Benefit against Employed Group\")\n",
    "\n",
    "plt.subplot(221)\n",
    "plt.scatter(X[:, 2], Y_group)\n",
    "plt.title(\"Actual\")\n",
    "\n",
    "plt.subplot(222)\n",
    "plt.scatter(X[:, 2], kmeans.labels_, c=10+np.zeros(len(X)))\n",
    "plt.title(\"Kmeans\")"
   ]
  },
  {
   "cell_type": "markdown",
   "metadata": {},
   "source": [
    "## prep SVM"
   ]
  },
  {
   "cell_type": "code",
   "execution_count": 55,
   "metadata": {},
   "outputs": [],
   "source": [
    "svclassifier = SVC(kernel='ploy', gamma=\"auto\", degree=num_of_classes)"
   ]
  },
  {
   "cell_type": "markdown",
   "metadata": {},
   "source": [
    "## Run SVM model"
   ]
  },
  {
   "cell_type": "code",
   "execution_count": 40,
   "metadata": {},
   "outputs": [],
   "source": [
    "svclassifier_y_pred = svclassifier.fit(x_train, y_train)"
   ]
  },
  {
   "cell_type": "markdown",
   "metadata": {},
   "source": [
    "## Analyse result"
   ]
  },
  {
   "cell_type": "code",
   "execution_count": 41,
   "metadata": {},
   "outputs": [],
   "source": [
    "svclassifier_y_pred = svclassifier.predict(x_test)"
   ]
  },
  {
   "cell_type": "code",
   "execution_count": 42,
   "metadata": {},
   "outputs": [
    {
     "name": "stdout",
     "output_type": "stream",
     "text": [
      "[[37  0  1]\n",
      " [ 0  0  5]\n",
      " [ 0  0 39]]\n"
     ]
    }
   ],
   "source": [
    "print(confusion_matrix(y_test, svclassifier_y_pred))"
   ]
  },
  {
   "cell_type": "code",
   "execution_count": 43,
   "metadata": {
    "scrolled": true
   },
   "outputs": [
    {
     "name": "stdout",
     "output_type": "stream",
     "text": [
      "              precision    recall  f1-score   support\n",
      "\n",
      "           0       1.00      0.97      0.99        38\n",
      "           1       0.00      0.00      0.00         5\n",
      "           2       0.87      1.00      0.93        39\n",
      "\n",
      "   micro avg       0.93      0.93      0.93        82\n",
      "   macro avg       0.62      0.66      0.64        82\n",
      "weighted avg       0.88      0.93      0.90        82\n",
      "\n"
     ]
    },
    {
     "name": "stderr",
     "output_type": "stream",
     "text": [
      "c:\\program files\\python37\\lib\\site-packages\\sklearn\\metrics\\classification.py:1143: UndefinedMetricWarning: Precision and F-score are ill-defined and being set to 0.0 in labels with no predicted samples.\n",
      "  'precision', 'predicted', average, warn_for)\n"
     ]
    }
   ],
   "source": [
    "print(classification_report(y_test, svclassifier_y_pred))"
   ]
  },
  {
   "cell_type": "code",
   "execution_count": 47,
   "metadata": {},
   "outputs": [],
   "source": [
    "xx, yy = x_test, y_test\n",
    "zz = svclassifier.predict(xx)"
   ]
  },
  {
   "cell_type": "code",
   "execution_count": 54,
   "metadata": {
    "scrolled": true
   },
   "outputs": [
    {
     "name": "stdout",
     "output_type": "stream",
     "text": [
      "Benefit against Age Group\n"
     ]
    },
    {
     "data": {
      "text/plain": [
       "Text(0.5, 1.0, 'SVM')"
      ]
     },
     "execution_count": 54,
     "metadata": {},
     "output_type": "execute_result"
    },
    {
     "data": {
      "image/png": "[encoded data removed]",
      "text/plain": [
       "<Figure size 432x288 with 1 Axes>"
      ]
     },
     "metadata": {
      "needs_background": "light"
     },
     "output_type": "display_data"
    }
   ],
   "source": [
    "print(\"Benefit against Age Group\")\n",
    "\n",
    "plt.scatter(np.arange(len(yy)), yy)\n",
    "plt.scatter(np.arange(len(yy)), zz)\n",
    "plt.title(\"SVM\")"
   ]
  },
  {
   "cell_type": "code",
   "execution_count": 36,
   "metadata": {},
   "outputs": [
    {
     "name": "stdout",
     "output_type": "stream",
     "text": [
      "Benefit against HouseHold Size Group\n"
     ]
    },
    {
     "data": {
      "text/plain": [
       "Text(0.5, 1.0, 'Kmeans')"
      ]
     },
     "execution_count": 36,
     "metadata": {},
     "output_type": "execute_result"
    },
    {
     "data": {
      "image/png": "[encoded data removed]",
      "text/plain": [
       "<Figure size 432x288 with 2 Axes>"
      ]
     },
     "metadata": {
      "needs_background": "light"
     },
     "output_type": "display_data"
    }
   ],
   "source": [
    "print(\"Benefit against HouseHold Size Group\")\n",
    "\n",
    "plt.subplot(221)\n",
    "plt.scatter(X[:, 1], Y_group)\n",
    "plt.title(\"Actual\")\n",
    "\n",
    "plt.subplot(222)\n",
    "plt.scatter(X[:, 2], kmeans.labels_, c=10+np.zeros(len(X)))\n",
    "plt.title(\"Kmeans\")"
   ]
  },
  {
   "cell_type": "code",
   "execution_count": 35,
   "metadata": {},
   "outputs": [
    {
     "name": "stdout",
     "output_type": "stream",
     "text": [
      "Benefit against Employed Group\n"
     ]
    },
    {
     "data": {
      "text/plain": [
       "Text(0.5, 1.0, 'Kmeans')"
      ]
     },
     "execution_count": 35,
     "metadata": {},
     "output_type": "execute_result"
    },
    {
     "data": {
      "image/png": "[encoded data removed]",
      "text/plain": [
       "<Figure size 432x288 with 2 Axes>"
      ]
     },
     "metadata": {
      "needs_background": "light"
     },
     "output_type": "display_data"
    }
   ],
   "source": [
    "print(\"Benefit against Employed Group\")\n",
    "\n",
    "plt.subplot(221)\n",
    "plt.scatter(X[:, 2], Y_group)\n",
    "plt.title(\"Actual\")\n",
    "\n",
    "plt.subplot(222)\n",
    "plt.scatter(X[:, 2], kmeans.labels_, c=10+np.zeros(len(X)))\n",
    "plt.title(\"Kmeans\")"
   ]
  },
  {
   "cell_type": "code",
   "execution_count": 69,
   "metadata": {
    "scrolled": true
   },
   "outputs": [
    {
     "data": {
      "text/plain": [
       "Text(0.5, 1.0, 'Benefit against Age Group')"
      ]
     },
     "execution_count": 69,
     "metadata": {},
     "output_type": "execute_result"
    },
    {
     "data": {
      "image/png": "[encoded data removed]",
      "text/plain": [
       "<Figure size 432x288 with 1 Axes>"
      ]
     },
     "metadata": {
      "needs_background": "light"
     },
     "output_type": "display_data"
    }
   ],
   "source": [
    "Benefit against HouseHold Size Group"
   ]
  },
  {
   "cell_type": "code",
   "execution_count": 63,
   "metadata": {},
   "outputs": [
    {
     "data": {
      "text/plain": [
       "Text(0.5, 1.0, 'Benefit against HouseHold Size Group')"
      ]
     },
     "execution_count": 63,
     "metadata": {},
     "output_type": "execute_result"
    },
    {
     "data": {
      "image/png": "[encoded data removed]",
      "text/plain": [
       "<Figure size 432x288 with 1 Axes>"
      ]
     },
     "metadata": {
      "needs_background": "light"
     },
     "output_type": "display_data"
    }
   ],
   "source": [
    "plt.scatter(x_train[:, 1], kmeans.labels_)\n",
    "plt.title(\"Benefit against HouseHold Size Group\")"
   ]
  },
  {
   "cell_type": "code",
   "execution_count": 64,
   "metadata": {},
   "outputs": [
    {
     "data": {
      "text/plain": [
       "Text(0.5, 1.0, 'Benefit against Employed Group')"
      ]
     },
     "execution_count": 64,
     "metadata": {},
     "output_type": "execute_result"
    },
    {
     "data": {
      "image/png": "[encoded data removed]",
      "text/plain": [
       "<Figure size 432x288 with 1 Axes>"
      ]
     },
     "metadata": {
      "needs_background": "light"
     },
     "output_type": "display_data"
    }
   ],
   "source": [
    "plt.scatter(x_train[:, 2], kmeans.labels_)\n",
    "plt.title(\"Benefit against Employed Group\")"
   ]
  }
 ],
 "metadata": {
  "kernelspec": {
   "display_name": "Python 3",
   "language": "python",
   "name": "python3"
  },
  "language_info": {
   "codemirror_mode": {
    "name": "ipython",
    "version": 3
   },
   "file_extension": ".py",
   "mimetype": "text/x-python",
   "name": "python",
   "nbconvert_exporter": "python",
   "pygments_lexer": "ipython3",
   "version": "3.7.2"
  }
 },
 "nbformat": 4,
 "nbformat_minor": 2
}

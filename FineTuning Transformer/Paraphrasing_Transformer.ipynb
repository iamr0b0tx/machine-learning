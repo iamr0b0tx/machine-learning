{
  "nbformat": 4,
  "nbformat_minor": 0,
  "metadata": {
    "accelerator": "GPU",
    "colab": {
      "name": "Paraphrasing_Transformer.ipynb",
      "provenance": [],
      "collapsed_sections": [],
      "toc_visible": true
    },
    "kernelspec": {
      "display_name": "Python 3",
      "language": "python",
      "name": "python3"
    },
    "language_info": {
      "codemirror_mode": {
        "name": "ipython",
        "version": 3
      },
      "file_extension": ".py",
      "mimetype": "text/x-python",
      "name": "python",
      "nbconvert_exporter": "python",
      "pygments_lexer": "ipython3",
      "version": "3.7.6"
    }
  },
  "cells": [
    {
      "cell_type": "code",
      "metadata": {
        "colab_type": "code",
        "id": "HsGr6o0_MvmF",
        "colab": {}
      },
      "source": [
        "!nvidia-smi"
      ],
      "execution_count": null,
      "outputs": []
    },
    {
      "cell_type": "markdown",
      "metadata": {
        "colab_type": "text",
        "id": "qwj6GL6LJvDI"
      },
      "source": [
        "### installing modules"
      ]
    },
    {
      "cell_type": "code",
      "metadata": {
        "colab_type": "code",
        "id": "yYAh2ykV28d5",
        "colab": {}
      },
      "source": [
        "# Install dependencies\n",
        "!pip install transformers==2.9.0 -qq"
      ],
      "execution_count": null,
      "outputs": []
    },
    {
      "cell_type": "code",
      "metadata": {
        "id": "ndtfTpxWU398",
        "colab_type": "code",
        "colab": {}
      },
      "source": [
        "!pip install pandas numpy torch tensorboard beautifulsoup4 -qq"
      ],
      "execution_count": null,
      "outputs": []
    },
    {
      "cell_type": "code",
      "metadata": {
        "colab_type": "code",
        "id": "Ae6VqgIIMzHg",
        "colab": {}
      },
      "source": [
        "!pip install pytorch_lightning --qq"
      ],
      "execution_count": null,
      "outputs": []
    },
    {
      "cell_type": "code",
      "metadata": {
        "colab_type": "code",
        "id": "69sfV6nE28eF",
        "colab": {}
      },
      "source": [
        "# imports \n",
        "import random, os, json, re\n",
        "\n",
        "import numpy as np # linear algebra\n",
        "import pandas as pd # data processing, CSV file I/O (e.g. pd.read_csv)\n",
        "import textwrap, logging, argparse\n",
        "from bs4 import BeautifulSoup\n",
        "\n",
        "import torch\n",
        "from torch.utils.data import Dataset, DataLoader\n",
        "\n",
        "import pytorch_lightning as pl\n",
        "pl.__version__\n",
        "\n",
        "from transformers import (\n",
        "    AdamW, T5ForConditionalGeneration, T5Tokenizer, get_linear_schedule_with_warmup\n",
        ")"
      ],
      "execution_count": null,
      "outputs": []
    },
    {
      "cell_type": "markdown",
      "metadata": {
        "colab_type": "text",
        "id": "RRIaF6ld28eS"
      },
      "source": [
        "### Set up Transformer neural network COnfig Args"
      ]
    },
    {
      "cell_type": "code",
      "metadata": {
        "colab_type": "code",
        "id": "UhUzi5Dh8aEb",
        "colab": {}
      },
      "source": [
        "args_dict = dict(\n",
        "    data_dir=\"\", # path for data files\n",
        "    output_dir=\"\", # path to save the checkpoints\n",
        "    model_name_or_path=\"t5-small\",\n",
        "    tokenizer_name_or_path=\"t5-small\",\n",
        "    max_seq_length=512,\n",
        "    learning_rate=3e-4,\n",
        "    weight_decay=0.0,\n",
        "    adam_epsilon=1e-8,\n",
        "    warmup_steps=0,\n",
        "    train_batch_size=32,\n",
        "    eval_batch_size=32,\n",
        "    num_train_epochs=2,\n",
        "    gradient_accumulation_steps=32,\n",
        "    n_gpu=1,\n",
        "    early_stop_callback=False,\n",
        "    fp_16=False, # if you want to enable 16-bit training then install apex and set this to true\n",
        "    opt_level='O1', # you can find out more on optimisation levels here https://nvidia.github.io/apex/amp.html#opt-levels-and-properties\n",
        "    max_grad_norm=1.0, # if you enable 16-bit training then set this to a sensible value, 0.5 is a good default\n",
        "    seed=42,\n",
        ")\n"
      ],
      "execution_count": null,
      "outputs": []
    },
    {
      "cell_type": "code",
      "metadata": {
        "id": "Id27iZ0Hocy8",
        "colab_type": "code",
        "colab": {}
      },
      "source": [
        "def clean_text(text):\n",
        "    text = BeautifulSoup(text, \"lxml\").text\n",
        "    text = re.sub(r'http[s]?://(?:[a-zA-Z]|[0-9]|[$-_@.&+]|(?:%[0-9a-fA-F][0-9a-fA-F]))+', r'<URL>', text)\n",
        "    text = re.sub(r'http\\S+', r'<URL>', text)\n",
        "    text = re.sub(r\"[^a-zA-Z-]\", r\" \", text)\n",
        "    text = re.sub(r'\\|\\|\\|', r' ', text)\n",
        "    text = re.sub(r'\\'\\'', r' ', text)\n",
        "    text = re.sub(r\"^'\", r' ', text)\n",
        "    text = re.sub(r\"'$\", r' ', text)\n",
        "    text = re.sub(r' +', r' ', text)\n",
        "    return text.strip()"
      ],
      "execution_count": null,
      "outputs": []
    },
    {
      "cell_type": "code",
      "metadata": {
        "colab_type": "code",
        "id": "u4l3L95_4llX",
        "colab": {}
      },
      "source": [
        "class ParaphraseDataset(Dataset):\n",
        "    def __init__(self, tokenizer, data_dir, type_path, max_len=256):\n",
        "        self.path = os.path.join(\"./\", data_dir, type_path + '.csv')\n",
        "\n",
        "        self.source_column = \"source\"\n",
        "        self.target_column = \"target\"\n",
        "        self.data = pd.read_csv(self.path)\n",
        "\n",
        "        self.max_len = max_len\n",
        "        self.tokenizer = tokenizer\n",
        "        self.inputs = []\n",
        "        self.targets = []\n",
        "\n",
        "        self._build()\n",
        "\n",
        "    def __len__(self):\n",
        "        return len(self.inputs)\n",
        "\n",
        "    def __getitem__(self, index):\n",
        "        source_ids = self.inputs[index][\"input_ids\"].squeeze()\n",
        "        target_ids = self.targets[index][\"input_ids\"].squeeze()\n",
        "\n",
        "        src_mask = self.inputs[index][\"attention_mask\"].squeeze()  # might need to squeeze\n",
        "        target_mask = self.targets[index][\"attention_mask\"].squeeze()  # might need to squeeze\n",
        "\n",
        "        return {\"source_ids\": source_ids, \"source_mask\": src_mask, \"target_ids\": target_ids, \"target_mask\": target_mask}\n",
        "\n",
        "    def _build(self):\n",
        "        for idx in range(len(self.data)):\n",
        "            target, source= self.data.loc[idx, self.target_column], self.data.loc[idx, self.source_column]\n",
        "\n",
        "            use_prefix = False\n",
        "\n",
        "            if use_prefix:\n",
        "              input_ = \"original: %s </s>\" % (source)\n",
        "              target = \"paraphrase: %s </s>\" %(target)\n",
        "\n",
        "            else:\n",
        "              input_ = \"%s </s>\" % (source)\n",
        "              target = \"%s </s>\" %(target)\n",
        "              \n",
        "            # tokenize inputs\n",
        "            tokenized_inputs = self.tokenizer.batch_encode_plus(\n",
        "                [input_], max_length=self.max_len, truncation=True, pad_to_max_length=True, return_tensors=\"pt\"\n",
        "            )\n",
        "            # tokenize targets\n",
        "            tokenized_targets = self.tokenizer.batch_encode_plus(\n",
        "                [target], max_length=self.max_len, truncation=True, pad_to_max_length=True, return_tensors=\"pt\"\n",
        "            )\n",
        "\n",
        "            self.inputs.append(tokenized_inputs)\n",
        "            self.targets.append(tokenized_targets)"
      ],
      "execution_count": null,
      "outputs": []
    },
    {
      "cell_type": "code",
      "metadata": {
        "colab_type": "code",
        "id": "KHSPf_DQ7oRa",
        "colab": {}
      },
      "source": [
        "class LanguageModelDataset(ParaphraseDataset):\n",
        "    def _build(self):\n",
        "        for idx in range(len(self.data)):\n",
        "            use_tokens = False\n",
        "            target_text, source_text= self.data.loc[idx, self.target_column], self.data.loc[idx, self.source_column]\n",
        "            \n",
        "            if use_tokens:\n",
        "              source = source_text.split()\n",
        "              source_size = len(source)\n",
        "              size = int(source_size / 3)\n",
        "              if size > 100:\n",
        "                size = 100\n",
        "\n",
        "              cursor = 0\n",
        "              input_, target = \"\", \"\"\n",
        "              random_masks = np.random.randint(low=1, high=4, size=size)\n",
        "\n",
        "              if source_size:\n",
        "                target = \"<extra_id_1>\"\n",
        "\n",
        "              for index, rm in enumerate(random_masks[:-1:3]):\n",
        "                if cursor+random_masks[index+1]+rm >= source_size:\n",
        "                  break\n",
        "                input_ = \" \".join([input_, \" \".join(source[cursor:cursor+rm]), f\" <extra_id_{index+1}> \"])\n",
        "                cursor += rm\n",
        "                target = \" \".join([target, \" \".join(source[cursor:cursor+random_masks[index+1]]), f\" <extra_id_{index+2}> \"])\n",
        "                cursor += random_masks[index+1]\n",
        "\n",
        "              # input_ = \" \".join([input_, \" </s>\"]).strip()\n",
        "              target = \" \".join([target, \"</s>\"]).strip()\n",
        "\n",
        "            else:\n",
        "              input_ = \"%s </s>\" % (source_text)\n",
        "              target = \"%s </s>\" %(target_text)\n",
        "\n",
        "            # tokenize inputs\n",
        "            tokenized_inputs = self.tokenizer.batch_encode_plus(\n",
        "                [input_], max_length=self.max_len, truncation=True, pad_to_max_length=True, return_tensors=\"pt\"\n",
        "            )\n",
        "            # tokenize targets\n",
        "            tokenized_targets = self.tokenizer.batch_encode_plus(\n",
        "                [target], max_length=self.max_len, truncation=True, pad_to_max_length=True, return_tensors=\"pt\"\n",
        "            )\n",
        "\n",
        "            self.inputs.append(tokenized_inputs)\n",
        "            self.targets.append(tokenized_targets)"
      ],
      "execution_count": null,
      "outputs": []
    },
    {
      "cell_type": "code",
      "metadata": {
        "colab_type": "code",
        "id": "E3vr4J8tmK4i",
        "colab": {}
      },
      "source": [
        "def clean_prediction(text):\n",
        "    token = '<|endoftext|>'\n",
        "    text = text.replace(token, '')\n",
        "    text = text.strip()\n",
        "    if text[-1] == '\"' and text.count('\"') % 2: text = text[:-1]\n",
        "    return text.strip()\n",
        "\n",
        "def get_language_model_dataset(tokenizer, type_path, args):\n",
        "    return LanguageModelDataset(\n",
        "        tokenizer=tokenizer, \n",
        "        data_dir=args.data_dir, \n",
        "        type_path=type_path,  \n",
        "        max_len=args.max_seq_length\n",
        "    )\n",
        "\n",
        "def get_paraphrase_dataset(tokenizer, type_path, args):\n",
        "    return ParaphraseDataset(\n",
        "        tokenizer=tokenizer, \n",
        "        data_dir=args.data_dir, \n",
        "        type_path=type_path,  \n",
        "        max_len=args.max_seq_length\n",
        "    )\n",
        "\n",
        "def set_seed(seed):\n",
        "    random.seed(seed)\n",
        "    np.random.seed(seed)\n",
        "    torch.manual_seed(seed)\n",
        "    if torch.cuda.is_available():\n",
        "        torch.cuda.manual_seed_all(seed)\n",
        "\n",
        "set_seed(42)"
      ],
      "execution_count": null,
      "outputs": []
    },
    {
      "cell_type": "code",
      "metadata": {
        "colab_type": "code",
        "id": "tmnXSKKQ4hQM",
        "colab": {}
      },
      "source": [
        "logger = logging.getLogger(__name__)\n",
        "\n",
        "class LoggingCallback(pl.Callback):\n",
        "        def on_validation_end(self, trainer, pl_module):\n",
        "            logger.info(\"***** Validation results *****\")\n",
        "            if pl_module.is_logger():\n",
        "                  metrics = trainer.callback_metrics\n",
        "                  # Log results\n",
        "                  for key in sorted(metrics):\n",
        "                    if key not in [\"log\", \"progress_bar\"]:\n",
        "                      logger.info(\"{} = {}\\n\".format(key, str(metrics[key])))\n",
        "\n",
        "        def on_test_end(self, trainer, pl_module):\n",
        "            logger.info(\"***** Test results *****\")\n",
        "\n",
        "            if pl_module.is_logger():\n",
        "                metrics = trainer.callback_metrics\n",
        "\n",
        "                  # Log and save results to file\n",
        "                output_test_results_file = os.path.join(pl_module.hparams.output_dir, \"test_results.txt\")\n",
        "                with open(output_test_results_file, \"w\") as writer:\n",
        "                    for key in sorted(metrics):\n",
        "                          if key not in [\"log\", \"progress_bar\"]:\n",
        "                            logger.info(\"{} = {}\\n\".format(key, str(metrics[key])))\n",
        "                            writer.write(\"{} = {}\\n\".format(key, str(metrics[key])))"
      ],
      "execution_count": null,
      "outputs": []
    },
    {
      "cell_type": "code",
      "metadata": {
        "colab_type": "code",
        "id": "KTPhQ6Dp5uLM",
        "colab": {}
      },
      "source": [
        "class T5FineTuner(pl.LightningModule):\n",
        "    def __init__(self, hparams):\n",
        "        super(T5FineTuner, self).__init__()\n",
        "        self.hparams = hparams\n",
        "\n",
        "        self.model = T5ForConditionalGeneration.from_pretrained(hparams.model_name_or_path)\n",
        "        self.tokenizer = T5Tokenizer.from_pretrained(hparams.tokenizer_name_or_path)\n",
        "\n",
        "    def is_logger(self):\n",
        "        return True\n",
        "\n",
        "    def forward(\n",
        "            self, input_ids, attention_mask=None, decoder_input_ids=None, decoder_attention_mask=None, lm_labels=None\n",
        "    ):\n",
        "        return self(\n",
        "            input_ids,\n",
        "            attention_mask=attention_mask,\n",
        "            decoder_input_ids=decoder_input_ids,\n",
        "            decoder_attention_mask=decoder_attention_mask,\n",
        "            lm_labels=lm_labels,\n",
        "        )\n",
        "\n",
        "    def _step(self, batch):\n",
        "        lm_labels = batch[\"target_ids\"]\n",
        "        lm_labels[lm_labels[:, :] == self.tokenizer.pad_token_id] = -100\n",
        "\n",
        "        outputs = self(\n",
        "            input_ids=batch[\"source_ids\"],\n",
        "            attention_mask=batch[\"source_mask\"],\n",
        "            lm_labels=lm_labels,\n",
        "            decoder_attention_mask=batch['target_mask']\n",
        "        )\n",
        "\n",
        "        loss = outputs[0]\n",
        "        return loss\n",
        "\n",
        "    def training_step(self, batch, batch_idx):\n",
        "        loss = self._step(batch)\n",
        "\n",
        "        tensorboard_logs = {\"train_loss\": loss}\n",
        "        return {\"loss\": loss, \"log\": tensorboard_logs}\n",
        "\n",
        "    def training_epoch_end(self, outputs):\n",
        "        avg_train_loss = torch.stack([x[\"loss\"] for x in outputs]).mean()\n",
        "        tensorboard_logs = {\"avg_train_loss\": avg_train_loss}\n",
        "        return {\"avg_train_loss\": avg_train_loss, \"log\": tensorboard_logs, 'progress_bar': tensorboard_logs}\n",
        "\n",
        "    def validation_step(self, batch, batch_idx):\n",
        "        loss = self._step(batch)\n",
        "        return {\"val_loss\": loss}\n",
        "\n",
        "    def validation_epoch_end(self, outputs):\n",
        "        avg_loss = torch.stack([x[\"val_loss\"] for x in outputs]).mean()\n",
        "        tensorboard_logs = {\"val_loss\": avg_loss}\n",
        "        return {\"avg_val_loss\": avg_loss, \"log\": tensorboard_logs, 'progress_bar': tensorboard_logs}\n",
        "\n",
        "    def configure_optimizers(self):\n",
        "        \"Prepare optimizer and schedule (linear warmup and decay)\"\n",
        "\n",
        "        model = self.model\n",
        "        no_decay = [\"bias\", \"LayerNorm.weight\"]\n",
        "        optimizer_grouped_parameters = [\n",
        "            {\n",
        "                \"params\": [p for n, p in model.named_parameters() if not any(nd in n for nd in no_decay)],\n",
        "                \"weight_decay\": self.hparams.weight_decay,\n",
        "            },\n",
        "            {\n",
        "                \"params\": [p for n, p in model.named_parameters() if any(nd in n for nd in no_decay)],\n",
        "                \"weight_decay\": 0.0,\n",
        "            },\n",
        "        ]\n",
        "        optimizer = AdamW(optimizer_grouped_parameters, lr=self.hparams.learning_rate, eps=self.hparams.adam_epsilon)\n",
        "        self.opt = optimizer\n",
        "        return [optimizer]\n",
        "\n",
        "    def optimizer_step(self, epoch, batch_idx, optimizer, optimizer_idx, second_order_closure=None):\n",
        "        if self.trainer.use_tpu:\n",
        "            xm.optimizer_step(optimizer)\n",
        "        else:\n",
        "            optimizer.step()\n",
        "        optimizer.zero_grad()\n",
        "        self.lr_scheduler.step()\n",
        "\n",
        "    def get_tqdm_dict(self):\n",
        "        tqdm_dict = {\"loss\": \"{:.3f}\".format(self.trainer.avg_loss), \"lr\": self.lr_scheduler.get_last_lr()[-1]}\n",
        "\n",
        "        return tqdm_dict\n",
        "        \n",
        "    def train_dataloader(self):\n",
        "        train_dataset = get_language_model_dataset(tokenizer=self.tokenizer, type_path=\"train\", args=self.hparams)\n",
        "        dataloader = DataLoader(train_dataset, batch_size=self.hparams.train_batch_size, drop_last=True, shuffle=True,\n",
        "                                num_workers=4)\n",
        "        t_total = (\n",
        "                (len(dataloader.dataset) // (self.hparams.train_batch_size * max(1, self.hparams.n_gpu)))\n",
        "                // self.hparams.gradient_accumulation_steps\n",
        "                * float(self.hparams.num_train_epochs)\n",
        "        )\n",
        "        scheduler = get_linear_schedule_with_warmup(\n",
        "            self.opt, num_warmup_steps=self.hparams.warmup_steps, num_training_steps=t_total\n",
        "        )\n",
        "        self.lr_scheduler = scheduler\n",
        "        return dataloader\n",
        "\n",
        "    def val_dataloader(self):\n",
        "        val_dataset = get_language_model_dataset(tokenizer=self.tokenizer, type_path=\"valid\", args=self.hparams)\n",
        "        return DataLoader(val_dataset, batch_size=self.hparams.eval_batch_size, num_workers=4)"
      ],
      "execution_count": null,
      "outputs": []
    },
    {
      "cell_type": "markdown",
      "metadata": {
        "colab_type": "text",
        "id": "3CKWH-gd28ek"
      },
      "source": [
        "## Load Data"
      ]
    },
    {
      "cell_type": "markdown",
      "metadata": {
        "colab_type": "text",
        "id": "ir8Mjeno28em"
      },
      "source": [
        "### Loading Quora Data "
      ]
    },
    {
      "cell_type": "code",
      "metadata": {
        "colab_type": "code",
        "id": "cFzvXvYi-wuR",
        "colab": {}
      },
      "source": [
        "DATA_PATH = \".\"\n",
        "\n",
        "if not os.path.exists(\"q_quora.csv\"):\n",
        "  from google.colab import drive\n",
        "  drive.mount('/content/drive')\n",
        "\n",
        "  DATA_PATH = \"./drive/My Drive/paraphrase\""
      ],
      "execution_count": null,
      "outputs": []
    },
    {
      "cell_type": "code",
      "metadata": {
        "colab_type": "code",
        "id": "Eq3FSsaT28ez",
        "colab": {}
      },
      "source": [
        "quora_data = pd.read_csv(f\"{DATA_PATH}/q_quora.csv\", dtype=str)\n",
        "quora_data = quora_data.loc[quora_data['is_duplicate']=='1']\n",
        "quora_data = quora_data.drop([\n",
        "    'id','qid1', 'qid2','is_duplicate','Unnamed: 6', 'Unnamed: 7', \n",
        "    'Unnamed: 8', 'Unnamed: 9', 'Unnamed: 10', 'Unnamed: 11', 'Unnamed: 12'\n",
        "], axis=1)\n",
        "\n",
        "quora_data = quora_data.reset_index(drop=True)\n",
        "quora_data.columns= ['source', 'target']\n",
        "\n",
        "quora_data = quora_data.sample(frac=1).reset_index(drop=True)\n",
        "quora_data.head()"
      ],
      "execution_count": null,
      "outputs": []
    },
    {
      "cell_type": "markdown",
      "metadata": {
        "colab_type": "text",
        "id": "lsgstfUU28fE"
      },
      "source": [
        "### Loading MBTI data"
      ]
    },
    {
      "cell_type": "code",
      "metadata": {
        "colab_type": "code",
        "id": "N9MihO_O28fF",
        "colab": {}
      },
      "source": [
        "mbti_data = pd.read_csv(f\"{DATA_PATH}/mbti_1.csv\")\n",
        "\n",
        "print(\"All personality types\")\n",
        "print(\"========================\")\n",
        "print(pd.unique(mbti_data[\"type\"]))\n",
        "\n",
        "personality_type = \"INTJ\"\n",
        "mbti_data = mbti_data[mbti_data[\"type\"] == personality_type]\n",
        "\n",
        "print(\"\\n=> Currently using\", personality_type)\n",
        "\n",
        "del mbti_data[\"type\"]\n",
        "mbti_data[\"posts\"] = mbti_data[\"posts\"].apply(clean_text)\n",
        "mbti_data[\"target\"] = mbti_data[\"posts\"]\n",
        "mbti_data.columns= ['source', 'target']\n",
        "mbti_data.head()"
      ],
      "execution_count": null,
      "outputs": []
    },
    {
      "cell_type": "markdown",
      "metadata": {
        "colab_type": "text",
        "id": "LWwdmU518CV4"
      },
      "source": [
        "### Prep Data"
      ]
    },
    {
      "cell_type": "code",
      "metadata": {
        "colab_type": "code",
        "id": "ZV6UHcN53r2s",
        "colab": {}
      },
      "source": [
        "mbti_data.shape"
      ],
      "execution_count": null,
      "outputs": []
    },
    {
      "cell_type": "code",
      "metadata": {
        "colab_type": "code",
        "id": "kFf3ahZ_Cw6-",
        "colab": {}
      },
      "source": [
        "!mkdir language_model"
      ],
      "execution_count": null,
      "outputs": []
    },
    {
      "cell_type": "code",
      "metadata": {
        "colab_type": "code",
        "id": "z39IO6pH3vX_",
        "colab": {}
      },
      "source": [
        "mbti_data[:800].to_csv('./language_model/train.csv', index=False)\n",
        "mbti_data[800:].to_csv('./language_model/valid.csv', index= False)"
      ],
      "execution_count": null,
      "outputs": []
    },
    {
      "cell_type": "code",
      "metadata": {
        "colab_type": "code",
        "id": "nYjYByU13XYw",
        "colab": {}
      },
      "source": [
        "quora_data.shape"
      ],
      "execution_count": null,
      "outputs": []
    },
    {
      "cell_type": "code",
      "metadata": {
        "colab_type": "code",
        "id": "WJ9sNQqhDEbW",
        "colab": {}
      },
      "source": [
        "!mkdir paraphrase_model"
      ],
      "execution_count": null,
      "outputs": []
    },
    {
      "cell_type": "code",
      "metadata": {
        "colab_type": "code",
        "id": "KsEGsXqW8ZWZ",
        "colab": {}
      },
      "source": [
        "quora_data[:100_001].to_csv('./paraphrase_model/train.csv', index=False)\n",
        "quora_data[100_001:].to_csv('./paraphrase_model/valid.csv', index= False)"
      ],
      "execution_count": null,
      "outputs": []
    },
    {
      "cell_type": "markdown",
      "metadata": {
        "colab_type": "text",
        "id": "wTmz7qRWZPEa"
      },
      "source": [
        "### Set up transformer"
      ]
    },
    {
      "cell_type": "code",
      "metadata": {
        "colab_type": "code",
        "id": "HaSGSCPVaCQ2",
        "colab": {}
      },
      "source": [
        "args_dict.update({\n",
        "    'model_name_or_path':\"t5-base\",\n",
        "    'tokenizer_name_or_path':\"t5-base\",\n",
        "    'data_dir': './language_model/', \n",
        "    'output_dir': './language_model/result', \n",
        "    'num_train_epochs':2,\n",
        "    'max_seq_length':180,\n",
        "})\n",
        "\n",
        "args = argparse.Namespace(**args_dict)\n",
        "print(json.dumps(args_dict, indent=2))"
      ],
      "execution_count": null,
      "outputs": []
    },
    {
      "cell_type": "code",
      "metadata": {
        "colab_type": "code",
        "id": "5dxMsL2H2OSe",
        "colab": {}
      },
      "source": [
        "!mkdir language_model/result"
      ],
      "execution_count": null,
      "outputs": []
    },
    {
      "cell_type": "markdown",
      "metadata": {
        "colab_type": "text",
        "id": "nXPsmejf2O0M"
      },
      "source": [
        "### Set up Transformer Model"
      ]
    },
    {
      "cell_type": "code",
      "metadata": {
        "colab_type": "code",
        "id": "cdVe7h9f28eT",
        "colab": {}
      },
      "source": [
        "language_model = T5FineTuner(args)"
      ],
      "execution_count": null,
      "outputs": []
    },
    {
      "cell_type": "markdown",
      "metadata": {
        "colab_type": "text",
        "id": "nfkmnUeWZWFh"
      },
      "source": [
        "### Language Modelling Training"
      ]
    },
    {
      "cell_type": "markdown",
      "metadata": {
        "colab_type": "text",
        "id": "PFb4C5gGyzjP"
      },
      "source": [
        "### Training neural network"
      ]
    },
    {
      "cell_type": "markdown",
      "metadata": {
        "colab_type": "text",
        "id": "iYQ9k3ZpZh6p"
      },
      "source": [
        "#### Initialize Trainer"
      ]
    },
    {
      "cell_type": "code",
      "metadata": {
        "colab_type": "code",
        "id": "zjtWXzpG6fvg",
        "colab": {}
      },
      "source": [
        "checkpoint_callback = pl.callbacks.ModelCheckpoint(\n",
        "    period =1,filepath=args.output_dir, prefix=\"checkpoint\", monitor=\"val_loss\", mode=\"min\", save_top_k=1\n",
        ")\n",
        "\n",
        "train_params = dict(\n",
        "    accumulate_grad_batches=args.gradient_accumulation_steps,\n",
        "    gpus=args.n_gpu,\n",
        "    max_epochs=args.num_train_epochs,\n",
        "    early_stop_callback=False,\n",
        "    precision= 16 if args.fp_16 else 32,\n",
        "    amp_level=args.opt_level,\n",
        "    gradient_clip_val=args.max_grad_norm,\n",
        "    checkpoint_callback=checkpoint_callback,\n",
        "    callbacks=[LoggingCallback()],\n",
        ")\n",
        "\n",
        "trainer = pl.Trainer(**train_params)"
      ],
      "execution_count": null,
      "outputs": []
    },
    {
      "cell_type": "code",
      "metadata": {
        "colab_type": "code",
        "id": "3qAFvn3w6fsJ",
        "colab": {}
      },
      "source": [
        "print (\" Training Language model\")\n",
        "trainer.fit(language_model)\n",
        "\n",
        "print (\"training finished\")\n",
        "\n",
        "print (\"Saving model\")\n",
        "language_model.model.save_pretrained(\"./language_model/result\")\n",
        "\n",
        "print (\"Saved model\")"
      ],
      "execution_count": null,
      "outputs": []
    },
    {
      "cell_type": "markdown",
      "metadata": {
        "colab_type": "text",
        "id": "vx1llVyB0M10"
      },
      "source": [
        "### Evaluation"
      ]
    },
    {
      "cell_type": "code",
      "metadata": {
        "colab_type": "code",
        "id": "LrfHZVKv0fKa",
        "colab": {}
      },
      "source": [
        "language_model_validation_dataset = LanguageModelDataset(language_model.tokenizer, 'language_model', 'valid')\n",
        "loader = DataLoader(language_model_validation_dataset, batch_size=32, shuffle=True)\n",
        "\n",
        "print(\"Language Model Val dataset: \", len(language_model_validation_dataset))"
      ],
      "execution_count": null,
      "outputs": []
    },
    {
      "cell_type": "code",
      "metadata": {
        "colab_type": "code",
        "id": "3d9Mpxiv0qsW",
        "colab": {}
      },
      "source": [
        "it = iter(loader)\n",
        "\n",
        "batch = next(it)\n",
        "batch[\"source_ids\"].shape"
      ],
      "execution_count": null,
      "outputs": []
    },
    {
      "cell_type": "code",
      "metadata": {
        "colab_type": "code",
        "id": "0VJ8pwqYuglm",
        "colab": {}
      },
      "source": [
        "outs = language_model.model.generate(\n",
        "    input_ids=batch['source_ids'],#.cuda(), \n",
        "    attention_mask=batch['source_mask'],#.cuda(), \n",
        "    max_length=128\n",
        ")\n",
        "\n",
        "dec = [language_model.tokenizer.decode(ids) for ids in outs]\n",
        "\n",
        "texts = [language_model.tokenizer.decode(ids) for ids in batch['source_ids']]\n",
        "targets = [language_model.tokenizer.decode(ids) for ids in batch['target_ids']]"
      ],
      "execution_count": null,
      "outputs": []
    },
    {
      "cell_type": "code",
      "metadata": {
        "colab_type": "code",
        "id": "3s2kBxlx028r",
        "colab": {}
      },
      "source": [
        "for i in range(32):\n",
        "    print(\"Source Statement: %s\" % texts[i])\n",
        "    print(\"Target Statement: %s\" % targets[i])\n",
        "    print(\"Predicted Statement: %s\" % dec[i])\n",
        "    print(\"=====================================================================\\n\")"
      ],
      "execution_count": null,
      "outputs": []
    },
    {
      "cell_type": "markdown",
      "metadata": {
        "colab_type": "text",
        "id": "cNePITg62cY7"
      },
      "source": [
        "### Set up Transformer Model For Paraphrasing"
      ]
    },
    {
      "cell_type": "code",
      "metadata": {
        "colab_type": "code",
        "id": "5hw6Juxv-c9q",
        "colab": {}
      },
      "source": [
        "!mkdir paraphrase_model/result"
      ],
      "execution_count": null,
      "outputs": []
    },
    {
      "cell_type": "code",
      "metadata": {
        "colab_type": "code",
        "id": "O_pu0A-j2cY9",
        "colab": {}
      },
      "source": [
        "# paraphrase_model = T5ParaphraserFineTuner(args)\n",
        "paraphrase_model = language_model"
      ],
      "execution_count": null,
      "outputs": []
    },
    {
      "cell_type": "markdown",
      "metadata": {
        "colab_type": "text",
        "id": "ri2qW8JW2cZB"
      },
      "source": [
        "### Paraphrasing Training"
      ]
    },
    {
      "cell_type": "markdown",
      "metadata": {
        "colab_type": "text",
        "id": "gqlbFN0_2cZM"
      },
      "source": [
        "#### Initialize Trainer"
      ]
    },
    {
      "cell_type": "markdown",
      "metadata": {
        "colab_type": "text",
        "id": "zjjiGUU52cZS"
      },
      "source": [
        "### Training neural network For paraphrasing"
      ]
    },
    {
      "cell_type": "code",
      "metadata": {
        "colab_type": "code",
        "id": "3JKtnDgK2cZS",
        "colab": {}
      },
      "source": [
        "print (\" Training Paraphrasing model\")\n",
        "trainer.fit(paraphrase_model)\n",
        "\n",
        "print (\"training finished\")\n",
        "\n",
        "print (\"Saving model\")\n",
        "paraphrase_model.model.save_pretrained(\"./paraphrase_model/result\")\n",
        "\n",
        "print (\"Saved model\")"
      ],
      "execution_count": null,
      "outputs": []
    },
    {
      "cell_type": "markdown",
      "metadata": {
        "colab_type": "text",
        "id": "u0Xas9no2cZV"
      },
      "source": [
        "### Evaluation"
      ]
    },
    {
      "cell_type": "code",
      "metadata": {
        "colab_type": "code",
        "id": "k2xMcUb62cZW",
        "colab": {}
      },
      "source": [
        "paraphrase_validation_dataset = ParaphraseDataset(paraphrase_model.tokenizer, 'paraphrase_model', 'valid')\n",
        "loader = DataLoader(paraphrase_validation_dataset, batch_size=32, shuffle=True)\n",
        "\n",
        "print(\"Paraphrase Val dataset: \", len(paraphrase_validation_dataset))"
      ],
      "execution_count": null,
      "outputs": []
    },
    {
      "cell_type": "code",
      "metadata": {
        "colab_type": "code",
        "id": "xia_DGLD2cZZ",
        "colab": {}
      },
      "source": [
        "it = iter(loader)\n",
        "\n",
        "batch = next(it)\n",
        "batch[\"source_ids\"].shape"
      ],
      "execution_count": null,
      "outputs": []
    },
    {
      "cell_type": "code",
      "metadata": {
        "colab_type": "code",
        "id": "zDtrpt5K2cZe",
        "colab": {}
      },
      "source": [
        "outs = paraphrase_model.model.generate(input_ids=batch['source_ids'].cuda(), \n",
        "                              attention_mask=batch['source_mask'].cuda(), \n",
        "                              max_length=128)\n",
        "\n",
        "dec = [paraphrase_model.tokenizer.decode(ids) for ids in outs]\n",
        "\n",
        "texts = [paraphrase_model.tokenizer.decode(ids) for ids in batch['source_ids']]\n",
        "targets = [paraphrase_model.tokenizer.decode(ids) for ids in batch['target_ids']]"
      ],
      "execution_count": null,
      "outputs": []
    },
    {
      "cell_type": "code",
      "metadata": {
        "colab_type": "code",
        "id": "zBlCOU4Z2cZg",
        "colab": {}
      },
      "source": [
        "for i in range(32):\n",
        "    lines = textwrap.wrap(\"Source Statement:\\n%s\\n\" % texts[i], width=100)\n",
        "    print(\"\\n\".join(lines))\n",
        "    print(\"\\nTarget Statement: %s\" % targets[i])\n",
        "    print(\"Predicted statement: %s\" % dec[i])\n",
        "    print(\"=====================================================================\\n\")"
      ],
      "execution_count": null,
      "outputs": []
    }
  ]
}